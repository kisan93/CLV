{
 "cells": [
  {
   "cell_type": "markdown",
   "metadata": {},
   "source": [
    "<img src=\"images/Porter-logo.png\" alt=\"Drawing\" align=\"right\" style=\"width: 100px;\"/>\n",
    "\n",
    "# Customer Lifetime Value\n",
    "\n",
    "\n",
    "In this Notebook probabilistic models would be used to estimate CLV of Porter's customer base. The objective is to come up with a baseline CLV model which can be used a reference for comparing advanced ML models.\n",
    "For building these models transactional data from completed_spot_orders_mv table is used\n",
    "\n",
    "---\n"
   ]
  },
  {
   "cell_type": "code",
   "execution_count": 570,
   "metadata": {},
   "outputs": [],
   "source": [
    "# Importing the libraries\n",
    "\n",
    "import pandas as pd\n",
    "from datetime import datetime as dt\n",
    "import lifetimes as lt\n",
    "from sklearn import metrics\n",
    "import plotly.express as px\n",
    "import plotly.graph_objects as go\n",
    "import numpy as np\n",
    "import random\n",
    "from matplotlib import pyplot as plt\n",
    "import seaborn as sns\n",
    "sns.set()\n"
   ]
  },
  {
   "cell_type": "code",
   "execution_count": 9,
   "metadata": {
    "scrolled": true
   },
   "outputs": [],
   "source": [
    "# Loading the data\n",
    "\n",
    "orders=pd.read_csv('CLV/orders_1619.csv') # Time period : 2016-01-01 to 2019-12-31\n",
    "orders['order_date']=pd.to_datetime(orders['order_date'],format='%Y-%m-%d')"
   ]
  },
  {
   "cell_type": "markdown",
   "metadata": {},
   "source": [
    "### Data Pre processing\n",
    "\n",
    "* Removing Transacrtion with negative customer fare\n",
    "* Removing Fraudulent orders\n"
   ]
  },
  {
   "cell_type": "code",
   "execution_count": 10,
   "metadata": {},
   "outputs": [],
   "source": [
    "# Removing transaction with negative customer fare\n",
    "orders=orders[orders.customer_fare>0]"
   ]
  },
  {
   "cell_type": "markdown",
   "metadata": {},
   "source": [
    "**Fraudulent orders**\n",
    "\n",
    "It is possible that customer can do fraudulent transactions, to identify these we can plot the distribution of orders placed by customer in a day and find the outlier threshold.\n",
    "\n",
    "The threshold is set to 5"
   ]
  },
  {
   "cell_type": "code",
   "execution_count": 11,
   "metadata": {},
   "outputs": [
    {
     "data": {
      "text/plain": [
       "1     88.863856\n",
       "2      9.108297\n",
       "3      1.505337\n",
       "4      0.357182\n",
       "5      0.105231\n",
       "6      0.035664\n",
       "7      0.015003\n",
       "8      0.003772\n",
       "9      0.002389\n",
       "10     0.002053\n",
       "11     0.000545\n",
       "12     0.000377\n",
       "13     0.000126\n",
       "14     0.000084\n",
       "20     0.000042\n",
       "15     0.000042\n",
       "Name: order_id, dtype: float64"
      ]
     },
     "execution_count": 11,
     "metadata": {},
     "output_type": "execute_result"
    }
   ],
   "source": [
    "df=orders[orders.order_date> '2019-01-01'] # Taking most recent year\n",
    "orders_count=df.groupby(['customer_id','order_date'])['order_id'].count()\n",
    "(orders_count.value_counts()/orders_count.shape[0])*100\n"
   ]
  },
  {
   "cell_type": "code",
   "execution_count": 12,
   "metadata": {},
   "outputs": [],
   "source": [
    "# Removing the fraudulent orders\n",
    "orders['order_count']=orders.groupby(['customer_id','order_date'])['order_id'].transform('count')\n",
    "orders=orders[orders.order_count<6] \n",
    "orders=orders.drop('order_count',axis=1)"
   ]
  },
  {
   "cell_type": "markdown",
   "metadata": {},
   "source": [
    "### Creating customer cohorts  \n",
    "\n",
    "Since we have large customer base we will segment it into various cohorts and rules are based on date of first purchase and city. Currently logic for segementing customers are soley on business intuition"
   ]
  },
  {
   "cell_type": "code",
   "execution_count": 13,
   "metadata": {},
   "outputs": [],
   "source": [
    "def create_cohort(data,city,end_date,start_date=None):\n",
    "    if start_date is None:\n",
    "        start_date=min(data['order_date'])\n",
    "    \n",
    "    temp_df=data.copy()\n",
    "    temp_df['first_purchase_dt']=temp_df.groupby('customer_id')['order_date'].transform('min')\n",
    "    cohort=temp_df.loc[(temp_df.first_purchase_dt.between(start_date,end_date)) & (temp_df.geo_region_id==city),]\n",
    "    \n",
    "    #Aggregating at a day level\n",
    "    cohort=cohort.groupby(['customer_id','order_date'])['customer_fare'].sum().reset_index()\n",
    "    \n",
    "    print('Number of customers present: {}'.format(cohort.customer_id.nunique()))\n",
    "    print('Number of orders: {}'.format(cohort.shape[0]))\n",
    "    \n",
    "    return(cohort)\n",
    "    "
   ]
  },
  {
   "cell_type": "code",
   "execution_count": 234,
   "metadata": {},
   "outputs": [
    {
     "name": "stdout",
     "output_type": "stream",
     "text": [
      "Number of customers present: 16784\n",
      "Number of orders: 379672\n"
     ]
    }
   ],
   "source": [
    "# Selecting a particular cohort, city : Mumbai and first purchase between 2016-01 to 2016-06\n",
    "cohort1=create_cohort(orders,1,end_date='2016-06-30')"
   ]
  },
  {
   "cell_type": "markdown",
   "metadata": {},
   "source": [
    "### Preprocessing cohort data\n",
    "\n",
    "Each customer present in the cohort should be regular customer, in orders to define a regular customer following rules are followed :\n",
    "\n",
    "* Customer should place atleast minimum number of orders in observation time\n",
    "* Customer should not churn in the observation time period\n",
    "\n",
    "Let's set the observeration time period for two years and preproces the cohort data accrodingly\n"
   ]
  },
  {
   "cell_type": "markdown",
   "metadata": {},
   "source": [
    "**Minimum number of orders**\n",
    "\n",
    "To find the minimum number of orders for each customer in the cohort, we will use the approach below :\n",
    "\n",
    "*min_order=Cohort purchase rate*\n",
    "\n",
    "*Cohort purchase rate = Total orders/Total customers*"
   ]
  },
  {
   "cell_type": "code",
   "execution_count": 259,
   "metadata": {},
   "outputs": [],
   "source": [
    "def cohort_minorder(data):\n",
    "    temp_df=data.copy()\n",
    "    val=temp_df.shape[0]/temp_df.customer_id.nunique()\n",
    "    print('minimum orders choosen for cohort:{}'.format(round(val,2)))\n",
    "    temp_df['total_orders']=temp_df.groupby('customer_id')['order_date'].transform('count')\n",
    "    temp_df=temp_df.loc[temp_df.total_orders >= val,]\n",
    "    temp_df.drop('total_orders',axis=1,inplace=True)\n",
    "    return temp_df\n"
   ]
  },
  {
   "cell_type": "markdown",
   "metadata": {},
   "source": [
    "**Finding customers who have churned**\n",
    "\n",
    "Before building the CLV model we should assure that none of the customers has already churned within the observation time period. In order to find the churn customers we can fit emperical cumulative ditribution function to cohort's between purchase time distribution and then use various percenetile value of this distribution to determine if the customer has churned already.\n",
    "\n",
    "Please go through the following link for further explaination :\n",
    "\n",
    "__[Link to Article](https://towardsdatascience.com/modelling-customer-churn-when-churns-are-not-explicitly-observed-with-r-a768a1c919d5)__\n",
    "\n"
   ]
  },
  {
   "cell_type": "code",
   "execution_count": 270,
   "metadata": {},
   "outputs": [],
   "source": [
    "#Custom function for ecdf\n",
    "\n",
    "def emperical_cdf(data,threshold):\n",
    "    data=np.unique(data)\n",
    "    percentiles=[]\n",
    "    n=len(data)\n",
    "    sort_data=np.sort(data)\n",
    "    \n",
    "    for i in np.arange(1,n+1):\n",
    "        p=1-(i/n)\n",
    "        percentiles.append(p)\n",
    "    \n",
    "    ecdf=pd.DataFrame({'timediff':sort_data,'prob':percentiles})\n",
    "    return max(ecdf.loc[ecdf.prob>=threshold,'timediff'])\n",
    "\n",
    "\n",
    "\n",
    "def cohort_churn_customer(data,end_date,threshold):\n",
    "    T=dt.strptime(end_date,'%Y-%m-%d')\n",
    "    temp_df=data.copy()\n",
    "    temp_df=temp_df.sort_values(by=['customer_id','order_date'])\n",
    "    temp_df['timediff']=temp_df.groupby('customer_id')['order_date'].diff(periods=1)\n",
    "    temp_df['timediff']=temp_df.timediff.astype('timedelta64[D]')\n",
    "    temp_df=temp_df.dropna()\n",
    "    val=emperical_cdf(temp_df.timediff,threshold)\n",
    "    print('Maximum days of gap choosen for cohort : {}'.format(val))\n",
    "    temp_df['last_purchase_date']=temp_df.groupby('customer_id')['order_date'].transform('max')\n",
    "    temp_df['last_order_gap']=T-temp_df.last_purchase_date\n",
    "    temp_df['last_order_gap']=temp_df.last_order_gap.astype('timedelta64[D]')\n",
    "    temp_df['max_timegap']=temp_df.groupby('customer_id')['timediff'].transform('max')\n",
    "    temp_df=temp_df.loc[(temp_df.last_order_gap >= val) | (temp_df.max_timegap >= val)]\n",
    "    customer_ids=np.unique(temp_df.customer_id)\n",
    "    \n",
    "    return customer_ids\n",
    "        \n",
    "    "
   ]
  },
  {
   "cell_type": "code",
   "execution_count": 271,
   "metadata": {},
   "outputs": [],
   "source": [
    "# Combining the cohort_churn_customer and cohort_minorder functions\n",
    "\n",
    "def cohort_preprocess(cohort,start_date,end_date,threshold=0.80):\n",
    "    temp_df=cohort.copy()\n",
    "    #Filtering data by observation time period\n",
    "    temp_df=temp_df.loc[temp_df.order_date.between(start_date,end_date),]\n",
    "    #Finding minorder value\n",
    "    temp_df=cohort_minorder(temp_df)\n",
    "    \n",
    "    #Finding churn customers\n",
    "    customer_ids=cohort_churn_customer(temp_df,end_date,threshold)\n",
    "    #Removing churned customers\n",
    "    final=temp_df.loc[~temp_df.customer_id.isin(customer_ids),]\n",
    "    \n",
    "    print('Number of customers present: {}'.format(final.customer_id.nunique()))\n",
    "    print('Number of orders: {}'.format(final.shape[0]))\n",
    "    #print('Number of customers removed after preprocess: {}'.format(a-final.customer_id.nunique()))\n",
    "    \n",
    "    return final\n",
    "    \n",
    "    "
   ]
  },
  {
   "cell_type": "code",
   "execution_count": 273,
   "metadata": {},
   "outputs": [
    {
     "name": "stdout",
     "output_type": "stream",
     "text": [
      "minimum orders choosen for cohort:13.6\n",
      "Maximum days of gap choosen for cohort : 133.0\n",
      "Number of customers present: 1443\n",
      "Number of orders: 117560\n"
     ]
    }
   ],
   "source": [
    "cohort1p=cohort_preprocess(cohort1,'2016-01-01','2017-12-31',threshold=0.70)"
   ]
  },
  {
   "cell_type": "markdown",
   "metadata": {},
   "source": [
    "### Exploratory analysis for the selected cohort "
   ]
  },
  {
   "cell_type": "code",
   "execution_count": 479,
   "metadata": {
    "scrolled": false
   },
   "outputs": [
    {
     "data": {
      "application/vnd.plotly.v1+json": {
       "config": {
        "plotlyServerURL": "https://plot.ly"
       },
       "data": [
        {
         "hoverlabel": {
          "namelength": 0
         },
         "hovertemplate": "Time=%{x}<br>Cumulative Revenue=%{y}",
         "legendgroup": "",
         "line": {
          "color": "#636efa",
          "dash": "solid"
         },
         "mode": "lines",
         "name": "",
         "showlegend": false,
         "type": "scatter",
         "x": [
          "2016-01",
          "2016-02",
          "2016-03",
          "2016-04",
          "2016-05",
          "2016-06",
          "2016-07",
          "2016-08",
          "2016-09",
          "2016-10",
          "2016-11",
          "2016-12",
          "2017-01",
          "2017-02",
          "2017-03",
          "2017-04",
          "2017-05",
          "2017-06",
          "2017-07",
          "2017-08",
          "2017-09",
          "2017-10",
          "2017-11",
          "2017-12"
         ],
         "xaxis": "x",
         "y": [
          1506402,
          3212069,
          5280601,
          7832442,
          10682402,
          14163190,
          17383035,
          20873725,
          24089030,
          27720035,
          30115825,
          33144294,
          36161822,
          39112230,
          42562973,
          46215221,
          49544249,
          52821800,
          56212867,
          59823619,
          63428090,
          67049183,
          70333467,
          73373036
         ],
         "yaxis": "y"
        }
       ],
       "layout": {
        "legend": {
         "tracegroupgap": 0
        },
        "margin": {
         "t": 60
        },
        "shapes": [
         {
          "line": {
           "color": "Red",
           "width": 1
          },
          "type": "line",
          "x0": "2017-01",
          "x1": "2017-01",
          "y0": 0,
          "y1": 80000000
         }
        ],
        "template": {
         "data": {
          "bar": [
           {
            "error_x": {
             "color": "#2a3f5f"
            },
            "error_y": {
             "color": "#2a3f5f"
            },
            "marker": {
             "line": {
              "color": "#E5ECF6",
              "width": 0.5
             }
            },
            "type": "bar"
           }
          ],
          "barpolar": [
           {
            "marker": {
             "line": {
              "color": "#E5ECF6",
              "width": 0.5
             }
            },
            "type": "barpolar"
           }
          ],
          "carpet": [
           {
            "aaxis": {
             "endlinecolor": "#2a3f5f",
             "gridcolor": "white",
             "linecolor": "white",
             "minorgridcolor": "white",
             "startlinecolor": "#2a3f5f"
            },
            "baxis": {
             "endlinecolor": "#2a3f5f",
             "gridcolor": "white",
             "linecolor": "white",
             "minorgridcolor": "white",
             "startlinecolor": "#2a3f5f"
            },
            "type": "carpet"
           }
          ],
          "choropleth": [
           {
            "colorbar": {
             "outlinewidth": 0,
             "ticks": ""
            },
            "type": "choropleth"
           }
          ],
          "contour": [
           {
            "colorbar": {
             "outlinewidth": 0,
             "ticks": ""
            },
            "colorscale": [
             [
              0,
              "#0d0887"
             ],
             [
              0.1111111111111111,
              "#46039f"
             ],
             [
              0.2222222222222222,
              "#7201a8"
             ],
             [
              0.3333333333333333,
              "#9c179e"
             ],
             [
              0.4444444444444444,
              "#bd3786"
             ],
             [
              0.5555555555555556,
              "#d8576b"
             ],
             [
              0.6666666666666666,
              "#ed7953"
             ],
             [
              0.7777777777777778,
              "#fb9f3a"
             ],
             [
              0.8888888888888888,
              "#fdca26"
             ],
             [
              1,
              "#f0f921"
             ]
            ],
            "type": "contour"
           }
          ],
          "contourcarpet": [
           {
            "colorbar": {
             "outlinewidth": 0,
             "ticks": ""
            },
            "type": "contourcarpet"
           }
          ],
          "heatmap": [
           {
            "colorbar": {
             "outlinewidth": 0,
             "ticks": ""
            },
            "colorscale": [
             [
              0,
              "#0d0887"
             ],
             [
              0.1111111111111111,
              "#46039f"
             ],
             [
              0.2222222222222222,
              "#7201a8"
             ],
             [
              0.3333333333333333,
              "#9c179e"
             ],
             [
              0.4444444444444444,
              "#bd3786"
             ],
             [
              0.5555555555555556,
              "#d8576b"
             ],
             [
              0.6666666666666666,
              "#ed7953"
             ],
             [
              0.7777777777777778,
              "#fb9f3a"
             ],
             [
              0.8888888888888888,
              "#fdca26"
             ],
             [
              1,
              "#f0f921"
             ]
            ],
            "type": "heatmap"
           }
          ],
          "heatmapgl": [
           {
            "colorbar": {
             "outlinewidth": 0,
             "ticks": ""
            },
            "colorscale": [
             [
              0,
              "#0d0887"
             ],
             [
              0.1111111111111111,
              "#46039f"
             ],
             [
              0.2222222222222222,
              "#7201a8"
             ],
             [
              0.3333333333333333,
              "#9c179e"
             ],
             [
              0.4444444444444444,
              "#bd3786"
             ],
             [
              0.5555555555555556,
              "#d8576b"
             ],
             [
              0.6666666666666666,
              "#ed7953"
             ],
             [
              0.7777777777777778,
              "#fb9f3a"
             ],
             [
              0.8888888888888888,
              "#fdca26"
             ],
             [
              1,
              "#f0f921"
             ]
            ],
            "type": "heatmapgl"
           }
          ],
          "histogram": [
           {
            "marker": {
             "colorbar": {
              "outlinewidth": 0,
              "ticks": ""
             }
            },
            "type": "histogram"
           }
          ],
          "histogram2d": [
           {
            "colorbar": {
             "outlinewidth": 0,
             "ticks": ""
            },
            "colorscale": [
             [
              0,
              "#0d0887"
             ],
             [
              0.1111111111111111,
              "#46039f"
             ],
             [
              0.2222222222222222,
              "#7201a8"
             ],
             [
              0.3333333333333333,
              "#9c179e"
             ],
             [
              0.4444444444444444,
              "#bd3786"
             ],
             [
              0.5555555555555556,
              "#d8576b"
             ],
             [
              0.6666666666666666,
              "#ed7953"
             ],
             [
              0.7777777777777778,
              "#fb9f3a"
             ],
             [
              0.8888888888888888,
              "#fdca26"
             ],
             [
              1,
              "#f0f921"
             ]
            ],
            "type": "histogram2d"
           }
          ],
          "histogram2dcontour": [
           {
            "colorbar": {
             "outlinewidth": 0,
             "ticks": ""
            },
            "colorscale": [
             [
              0,
              "#0d0887"
             ],
             [
              0.1111111111111111,
              "#46039f"
             ],
             [
              0.2222222222222222,
              "#7201a8"
             ],
             [
              0.3333333333333333,
              "#9c179e"
             ],
             [
              0.4444444444444444,
              "#bd3786"
             ],
             [
              0.5555555555555556,
              "#d8576b"
             ],
             [
              0.6666666666666666,
              "#ed7953"
             ],
             [
              0.7777777777777778,
              "#fb9f3a"
             ],
             [
              0.8888888888888888,
              "#fdca26"
             ],
             [
              1,
              "#f0f921"
             ]
            ],
            "type": "histogram2dcontour"
           }
          ],
          "mesh3d": [
           {
            "colorbar": {
             "outlinewidth": 0,
             "ticks": ""
            },
            "type": "mesh3d"
           }
          ],
          "parcoords": [
           {
            "line": {
             "colorbar": {
              "outlinewidth": 0,
              "ticks": ""
             }
            },
            "type": "parcoords"
           }
          ],
          "pie": [
           {
            "automargin": true,
            "type": "pie"
           }
          ],
          "scatter": [
           {
            "marker": {
             "colorbar": {
              "outlinewidth": 0,
              "ticks": ""
             }
            },
            "type": "scatter"
           }
          ],
          "scatter3d": [
           {
            "line": {
             "colorbar": {
              "outlinewidth": 0,
              "ticks": ""
             }
            },
            "marker": {
             "colorbar": {
              "outlinewidth": 0,
              "ticks": ""
             }
            },
            "type": "scatter3d"
           }
          ],
          "scattercarpet": [
           {
            "marker": {
             "colorbar": {
              "outlinewidth": 0,
              "ticks": ""
             }
            },
            "type": "scattercarpet"
           }
          ],
          "scattergeo": [
           {
            "marker": {
             "colorbar": {
              "outlinewidth": 0,
              "ticks": ""
             }
            },
            "type": "scattergeo"
           }
          ],
          "scattergl": [
           {
            "marker": {
             "colorbar": {
              "outlinewidth": 0,
              "ticks": ""
             }
            },
            "type": "scattergl"
           }
          ],
          "scattermapbox": [
           {
            "marker": {
             "colorbar": {
              "outlinewidth": 0,
              "ticks": ""
             }
            },
            "type": "scattermapbox"
           }
          ],
          "scatterpolar": [
           {
            "marker": {
             "colorbar": {
              "outlinewidth": 0,
              "ticks": ""
             }
            },
            "type": "scatterpolar"
           }
          ],
          "scatterpolargl": [
           {
            "marker": {
             "colorbar": {
              "outlinewidth": 0,
              "ticks": ""
             }
            },
            "type": "scatterpolargl"
           }
          ],
          "scatterternary": [
           {
            "marker": {
             "colorbar": {
              "outlinewidth": 0,
              "ticks": ""
             }
            },
            "type": "scatterternary"
           }
          ],
          "surface": [
           {
            "colorbar": {
             "outlinewidth": 0,
             "ticks": ""
            },
            "colorscale": [
             [
              0,
              "#0d0887"
             ],
             [
              0.1111111111111111,
              "#46039f"
             ],
             [
              0.2222222222222222,
              "#7201a8"
             ],
             [
              0.3333333333333333,
              "#9c179e"
             ],
             [
              0.4444444444444444,
              "#bd3786"
             ],
             [
              0.5555555555555556,
              "#d8576b"
             ],
             [
              0.6666666666666666,
              "#ed7953"
             ],
             [
              0.7777777777777778,
              "#fb9f3a"
             ],
             [
              0.8888888888888888,
              "#fdca26"
             ],
             [
              1,
              "#f0f921"
             ]
            ],
            "type": "surface"
           }
          ],
          "table": [
           {
            "cells": {
             "fill": {
              "color": "#EBF0F8"
             },
             "line": {
              "color": "white"
             }
            },
            "header": {
             "fill": {
              "color": "#C8D4E3"
             },
             "line": {
              "color": "white"
             }
            },
            "type": "table"
           }
          ]
         },
         "layout": {
          "annotationdefaults": {
           "arrowcolor": "#2a3f5f",
           "arrowhead": 0,
           "arrowwidth": 1
          },
          "coloraxis": {
           "colorbar": {
            "outlinewidth": 0,
            "ticks": ""
           }
          },
          "colorscale": {
           "diverging": [
            [
             0,
             "#8e0152"
            ],
            [
             0.1,
             "#c51b7d"
            ],
            [
             0.2,
             "#de77ae"
            ],
            [
             0.3,
             "#f1b6da"
            ],
            [
             0.4,
             "#fde0ef"
            ],
            [
             0.5,
             "#f7f7f7"
            ],
            [
             0.6,
             "#e6f5d0"
            ],
            [
             0.7,
             "#b8e186"
            ],
            [
             0.8,
             "#7fbc41"
            ],
            [
             0.9,
             "#4d9221"
            ],
            [
             1,
             "#276419"
            ]
           ],
           "sequential": [
            [
             0,
             "#0d0887"
            ],
            [
             0.1111111111111111,
             "#46039f"
            ],
            [
             0.2222222222222222,
             "#7201a8"
            ],
            [
             0.3333333333333333,
             "#9c179e"
            ],
            [
             0.4444444444444444,
             "#bd3786"
            ],
            [
             0.5555555555555556,
             "#d8576b"
            ],
            [
             0.6666666666666666,
             "#ed7953"
            ],
            [
             0.7777777777777778,
             "#fb9f3a"
            ],
            [
             0.8888888888888888,
             "#fdca26"
            ],
            [
             1,
             "#f0f921"
            ]
           ],
           "sequentialminus": [
            [
             0,
             "#0d0887"
            ],
            [
             0.1111111111111111,
             "#46039f"
            ],
            [
             0.2222222222222222,
             "#7201a8"
            ],
            [
             0.3333333333333333,
             "#9c179e"
            ],
            [
             0.4444444444444444,
             "#bd3786"
            ],
            [
             0.5555555555555556,
             "#d8576b"
            ],
            [
             0.6666666666666666,
             "#ed7953"
            ],
            [
             0.7777777777777778,
             "#fb9f3a"
            ],
            [
             0.8888888888888888,
             "#fdca26"
            ],
            [
             1,
             "#f0f921"
            ]
           ]
          },
          "colorway": [
           "#636efa",
           "#EF553B",
           "#00cc96",
           "#ab63fa",
           "#FFA15A",
           "#19d3f3",
           "#FF6692",
           "#B6E880",
           "#FF97FF",
           "#FECB52"
          ],
          "font": {
           "color": "#2a3f5f"
          },
          "geo": {
           "bgcolor": "white",
           "lakecolor": "white",
           "landcolor": "#E5ECF6",
           "showlakes": true,
           "showland": true,
           "subunitcolor": "white"
          },
          "hoverlabel": {
           "align": "left"
          },
          "hovermode": "closest",
          "mapbox": {
           "style": "light"
          },
          "paper_bgcolor": "white",
          "plot_bgcolor": "#E5ECF6",
          "polar": {
           "angularaxis": {
            "gridcolor": "white",
            "linecolor": "white",
            "ticks": ""
           },
           "bgcolor": "#E5ECF6",
           "radialaxis": {
            "gridcolor": "white",
            "linecolor": "white",
            "ticks": ""
           }
          },
          "scene": {
           "xaxis": {
            "backgroundcolor": "#E5ECF6",
            "gridcolor": "white",
            "gridwidth": 2,
            "linecolor": "white",
            "showbackground": true,
            "ticks": "",
            "zerolinecolor": "white"
           },
           "yaxis": {
            "backgroundcolor": "#E5ECF6",
            "gridcolor": "white",
            "gridwidth": 2,
            "linecolor": "white",
            "showbackground": true,
            "ticks": "",
            "zerolinecolor": "white"
           },
           "zaxis": {
            "backgroundcolor": "#E5ECF6",
            "gridcolor": "white",
            "gridwidth": 2,
            "linecolor": "white",
            "showbackground": true,
            "ticks": "",
            "zerolinecolor": "white"
           }
          },
          "shapedefaults": {
           "line": {
            "color": "#2a3f5f"
           }
          },
          "ternary": {
           "aaxis": {
            "gridcolor": "white",
            "linecolor": "white",
            "ticks": ""
           },
           "baxis": {
            "gridcolor": "white",
            "linecolor": "white",
            "ticks": ""
           },
           "bgcolor": "#E5ECF6",
           "caxis": {
            "gridcolor": "white",
            "linecolor": "white",
            "ticks": ""
           }
          },
          "title": {
           "x": 0.05
          },
          "xaxis": {
           "automargin": true,
           "gridcolor": "white",
           "linecolor": "white",
           "ticks": "",
           "title": {
            "standoff": 15
           },
           "zerolinecolor": "white",
           "zerolinewidth": 2
          },
          "yaxis": {
           "automargin": true,
           "gridcolor": "white",
           "linecolor": "white",
           "ticks": "",
           "title": {
            "standoff": 15
           },
           "zerolinecolor": "white",
           "zerolinewidth": 2
          }
         }
        },
        "xaxis": {
         "anchor": "y",
         "domain": [
          0,
          1
         ],
         "title": {
          "text": "Time"
         }
        },
        "yaxis": {
         "anchor": "x",
         "domain": [
          0,
          1
         ],
         "title": {
          "text": "Cumulative Revenue"
         }
        }
       }
      },
      "text/html": [
       "<div>\n",
       "        \n",
       "        \n",
       "            <div id=\"1ed800f4-075f-4516-8e61-410ac0b8bd62\" class=\"plotly-graph-div\" style=\"height:525px; width:100%;\"></div>\n",
       "            <script type=\"text/javascript\">\n",
       "                require([\"plotly\"], function(Plotly) {\n",
       "                    window.PLOTLYENV=window.PLOTLYENV || {};\n",
       "                    \n",
       "                if (document.getElementById(\"1ed800f4-075f-4516-8e61-410ac0b8bd62\")) {\n",
       "                    Plotly.newPlot(\n",
       "                        '1ed800f4-075f-4516-8e61-410ac0b8bd62',\n",
       "                        [{\"hoverlabel\": {\"namelength\": 0}, \"hovertemplate\": \"Time=%{x}<br>Cumulative Revenue=%{y}\", \"legendgroup\": \"\", \"line\": {\"color\": \"#636efa\", \"dash\": \"solid\"}, \"mode\": \"lines\", \"name\": \"\", \"showlegend\": false, \"type\": \"scatter\", \"x\": [\"2016-01\", \"2016-02\", \"2016-03\", \"2016-04\", \"2016-05\", \"2016-06\", \"2016-07\", \"2016-08\", \"2016-09\", \"2016-10\", \"2016-11\", \"2016-12\", \"2017-01\", \"2017-02\", \"2017-03\", \"2017-04\", \"2017-05\", \"2017-06\", \"2017-07\", \"2017-08\", \"2017-09\", \"2017-10\", \"2017-11\", \"2017-12\"], \"xaxis\": \"x\", \"y\": [1506402.0, 3212069.0, 5280601.0, 7832442.0, 10682402.0, 14163190.0, 17383035.0, 20873725.0, 24089030.0, 27720035.0, 30115825.0, 33144294.0, 36161822.0, 39112230.0, 42562973.0, 46215221.0, 49544249.0, 52821800.0, 56212867.0, 59823619.0, 63428090.0, 67049183.0, 70333467.0, 73373036.0], \"yaxis\": \"y\"}],\n",
       "                        {\"legend\": {\"tracegroupgap\": 0}, \"margin\": {\"t\": 60}, \"shapes\": [{\"line\": {\"color\": \"Red\", \"width\": 1}, \"type\": \"line\", \"x0\": \"2017-01\", \"x1\": \"2017-01\", \"y0\": 0, \"y1\": 80000000}], \"template\": {\"data\": {\"bar\": [{\"error_x\": {\"color\": \"#2a3f5f\"}, \"error_y\": {\"color\": \"#2a3f5f\"}, \"marker\": {\"line\": {\"color\": \"#E5ECF6\", \"width\": 0.5}}, \"type\": \"bar\"}], \"barpolar\": [{\"marker\": {\"line\": {\"color\": \"#E5ECF6\", \"width\": 0.5}}, \"type\": \"barpolar\"}], \"carpet\": [{\"aaxis\": {\"endlinecolor\": \"#2a3f5f\", \"gridcolor\": \"white\", \"linecolor\": \"white\", \"minorgridcolor\": \"white\", \"startlinecolor\": \"#2a3f5f\"}, \"baxis\": {\"endlinecolor\": \"#2a3f5f\", \"gridcolor\": \"white\", \"linecolor\": \"white\", \"minorgridcolor\": \"white\", \"startlinecolor\": \"#2a3f5f\"}, \"type\": \"carpet\"}], \"choropleth\": [{\"colorbar\": {\"outlinewidth\": 0, \"ticks\": \"\"}, \"type\": \"choropleth\"}], \"contour\": [{\"colorbar\": {\"outlinewidth\": 0, \"ticks\": \"\"}, \"colorscale\": [[0.0, \"#0d0887\"], [0.1111111111111111, \"#46039f\"], [0.2222222222222222, \"#7201a8\"], [0.3333333333333333, \"#9c179e\"], [0.4444444444444444, \"#bd3786\"], [0.5555555555555556, \"#d8576b\"], [0.6666666666666666, \"#ed7953\"], [0.7777777777777778, \"#fb9f3a\"], [0.8888888888888888, \"#fdca26\"], [1.0, \"#f0f921\"]], \"type\": \"contour\"}], \"contourcarpet\": [{\"colorbar\": {\"outlinewidth\": 0, \"ticks\": \"\"}, \"type\": \"contourcarpet\"}], \"heatmap\": [{\"colorbar\": {\"outlinewidth\": 0, \"ticks\": \"\"}, \"colorscale\": [[0.0, \"#0d0887\"], [0.1111111111111111, \"#46039f\"], [0.2222222222222222, \"#7201a8\"], [0.3333333333333333, \"#9c179e\"], [0.4444444444444444, \"#bd3786\"], [0.5555555555555556, \"#d8576b\"], [0.6666666666666666, \"#ed7953\"], [0.7777777777777778, \"#fb9f3a\"], [0.8888888888888888, \"#fdca26\"], [1.0, \"#f0f921\"]], \"type\": \"heatmap\"}], \"heatmapgl\": [{\"colorbar\": {\"outlinewidth\": 0, \"ticks\": \"\"}, \"colorscale\": [[0.0, \"#0d0887\"], [0.1111111111111111, \"#46039f\"], [0.2222222222222222, \"#7201a8\"], [0.3333333333333333, \"#9c179e\"], [0.4444444444444444, \"#bd3786\"], [0.5555555555555556, \"#d8576b\"], [0.6666666666666666, \"#ed7953\"], [0.7777777777777778, \"#fb9f3a\"], [0.8888888888888888, \"#fdca26\"], [1.0, \"#f0f921\"]], \"type\": \"heatmapgl\"}], \"histogram\": [{\"marker\": {\"colorbar\": {\"outlinewidth\": 0, \"ticks\": \"\"}}, \"type\": \"histogram\"}], \"histogram2d\": [{\"colorbar\": {\"outlinewidth\": 0, \"ticks\": \"\"}, \"colorscale\": [[0.0, \"#0d0887\"], [0.1111111111111111, \"#46039f\"], [0.2222222222222222, \"#7201a8\"], [0.3333333333333333, \"#9c179e\"], [0.4444444444444444, \"#bd3786\"], [0.5555555555555556, \"#d8576b\"], [0.6666666666666666, \"#ed7953\"], [0.7777777777777778, \"#fb9f3a\"], [0.8888888888888888, \"#fdca26\"], [1.0, \"#f0f921\"]], \"type\": \"histogram2d\"}], \"histogram2dcontour\": [{\"colorbar\": {\"outlinewidth\": 0, \"ticks\": \"\"}, \"colorscale\": [[0.0, \"#0d0887\"], [0.1111111111111111, \"#46039f\"], [0.2222222222222222, \"#7201a8\"], [0.3333333333333333, \"#9c179e\"], [0.4444444444444444, \"#bd3786\"], [0.5555555555555556, \"#d8576b\"], [0.6666666666666666, \"#ed7953\"], [0.7777777777777778, \"#fb9f3a\"], [0.8888888888888888, \"#fdca26\"], [1.0, \"#f0f921\"]], \"type\": \"histogram2dcontour\"}], \"mesh3d\": [{\"colorbar\": {\"outlinewidth\": 0, \"ticks\": \"\"}, \"type\": \"mesh3d\"}], \"parcoords\": [{\"line\": {\"colorbar\": {\"outlinewidth\": 0, \"ticks\": \"\"}}, \"type\": \"parcoords\"}], \"pie\": [{\"automargin\": true, \"type\": \"pie\"}], \"scatter\": [{\"marker\": {\"colorbar\": {\"outlinewidth\": 0, \"ticks\": \"\"}}, \"type\": \"scatter\"}], \"scatter3d\": [{\"line\": {\"colorbar\": {\"outlinewidth\": 0, \"ticks\": \"\"}}, \"marker\": {\"colorbar\": {\"outlinewidth\": 0, \"ticks\": \"\"}}, \"type\": \"scatter3d\"}], \"scattercarpet\": [{\"marker\": {\"colorbar\": {\"outlinewidth\": 0, \"ticks\": \"\"}}, \"type\": \"scattercarpet\"}], \"scattergeo\": [{\"marker\": {\"colorbar\": {\"outlinewidth\": 0, \"ticks\": \"\"}}, \"type\": \"scattergeo\"}], \"scattergl\": [{\"marker\": {\"colorbar\": {\"outlinewidth\": 0, \"ticks\": \"\"}}, \"type\": \"scattergl\"}], \"scattermapbox\": [{\"marker\": {\"colorbar\": {\"outlinewidth\": 0, \"ticks\": \"\"}}, \"type\": \"scattermapbox\"}], \"scatterpolar\": [{\"marker\": {\"colorbar\": {\"outlinewidth\": 0, \"ticks\": \"\"}}, \"type\": \"scatterpolar\"}], \"scatterpolargl\": [{\"marker\": {\"colorbar\": {\"outlinewidth\": 0, \"ticks\": \"\"}}, \"type\": \"scatterpolargl\"}], \"scatterternary\": [{\"marker\": {\"colorbar\": {\"outlinewidth\": 0, \"ticks\": \"\"}}, \"type\": \"scatterternary\"}], \"surface\": [{\"colorbar\": {\"outlinewidth\": 0, \"ticks\": \"\"}, \"colorscale\": [[0.0, \"#0d0887\"], [0.1111111111111111, \"#46039f\"], [0.2222222222222222, \"#7201a8\"], [0.3333333333333333, \"#9c179e\"], [0.4444444444444444, \"#bd3786\"], [0.5555555555555556, \"#d8576b\"], [0.6666666666666666, \"#ed7953\"], [0.7777777777777778, \"#fb9f3a\"], [0.8888888888888888, \"#fdca26\"], [1.0, \"#f0f921\"]], \"type\": \"surface\"}], \"table\": [{\"cells\": {\"fill\": {\"color\": \"#EBF0F8\"}, \"line\": {\"color\": \"white\"}}, \"header\": {\"fill\": {\"color\": \"#C8D4E3\"}, \"line\": {\"color\": \"white\"}}, \"type\": \"table\"}]}, \"layout\": {\"annotationdefaults\": {\"arrowcolor\": \"#2a3f5f\", \"arrowhead\": 0, \"arrowwidth\": 1}, \"coloraxis\": {\"colorbar\": {\"outlinewidth\": 0, \"ticks\": \"\"}}, \"colorscale\": {\"diverging\": [[0, \"#8e0152\"], [0.1, \"#c51b7d\"], [0.2, \"#de77ae\"], [0.3, \"#f1b6da\"], [0.4, \"#fde0ef\"], [0.5, \"#f7f7f7\"], [0.6, \"#e6f5d0\"], [0.7, \"#b8e186\"], [0.8, \"#7fbc41\"], [0.9, \"#4d9221\"], [1, \"#276419\"]], \"sequential\": [[0.0, \"#0d0887\"], [0.1111111111111111, \"#46039f\"], [0.2222222222222222, \"#7201a8\"], [0.3333333333333333, \"#9c179e\"], [0.4444444444444444, \"#bd3786\"], [0.5555555555555556, \"#d8576b\"], [0.6666666666666666, \"#ed7953\"], [0.7777777777777778, \"#fb9f3a\"], [0.8888888888888888, \"#fdca26\"], [1.0, \"#f0f921\"]], \"sequentialminus\": [[0.0, \"#0d0887\"], [0.1111111111111111, \"#46039f\"], [0.2222222222222222, \"#7201a8\"], [0.3333333333333333, \"#9c179e\"], [0.4444444444444444, \"#bd3786\"], [0.5555555555555556, \"#d8576b\"], [0.6666666666666666, \"#ed7953\"], [0.7777777777777778, \"#fb9f3a\"], [0.8888888888888888, \"#fdca26\"], [1.0, \"#f0f921\"]]}, \"colorway\": [\"#636efa\", \"#EF553B\", \"#00cc96\", \"#ab63fa\", \"#FFA15A\", \"#19d3f3\", \"#FF6692\", \"#B6E880\", \"#FF97FF\", \"#FECB52\"], \"font\": {\"color\": \"#2a3f5f\"}, \"geo\": {\"bgcolor\": \"white\", \"lakecolor\": \"white\", \"landcolor\": \"#E5ECF6\", \"showlakes\": true, \"showland\": true, \"subunitcolor\": \"white\"}, \"hoverlabel\": {\"align\": \"left\"}, \"hovermode\": \"closest\", \"mapbox\": {\"style\": \"light\"}, \"paper_bgcolor\": \"white\", \"plot_bgcolor\": \"#E5ECF6\", \"polar\": {\"angularaxis\": {\"gridcolor\": \"white\", \"linecolor\": \"white\", \"ticks\": \"\"}, \"bgcolor\": \"#E5ECF6\", \"radialaxis\": {\"gridcolor\": \"white\", \"linecolor\": \"white\", \"ticks\": \"\"}}, \"scene\": {\"xaxis\": {\"backgroundcolor\": \"#E5ECF6\", \"gridcolor\": \"white\", \"gridwidth\": 2, \"linecolor\": \"white\", \"showbackground\": true, \"ticks\": \"\", \"zerolinecolor\": \"white\"}, \"yaxis\": {\"backgroundcolor\": \"#E5ECF6\", \"gridcolor\": \"white\", \"gridwidth\": 2, \"linecolor\": \"white\", \"showbackground\": true, \"ticks\": \"\", \"zerolinecolor\": \"white\"}, \"zaxis\": {\"backgroundcolor\": \"#E5ECF6\", \"gridcolor\": \"white\", \"gridwidth\": 2, \"linecolor\": \"white\", \"showbackground\": true, \"ticks\": \"\", \"zerolinecolor\": \"white\"}}, \"shapedefaults\": {\"line\": {\"color\": \"#2a3f5f\"}}, \"ternary\": {\"aaxis\": {\"gridcolor\": \"white\", \"linecolor\": \"white\", \"ticks\": \"\"}, \"baxis\": {\"gridcolor\": \"white\", \"linecolor\": \"white\", \"ticks\": \"\"}, \"bgcolor\": \"#E5ECF6\", \"caxis\": {\"gridcolor\": \"white\", \"linecolor\": \"white\", \"ticks\": \"\"}}, \"title\": {\"x\": 0.05}, \"xaxis\": {\"automargin\": true, \"gridcolor\": \"white\", \"linecolor\": \"white\", \"ticks\": \"\", \"title\": {\"standoff\": 15}, \"zerolinecolor\": \"white\", \"zerolinewidth\": 2}, \"yaxis\": {\"automargin\": true, \"gridcolor\": \"white\", \"linecolor\": \"white\", \"ticks\": \"\", \"title\": {\"standoff\": 15}, \"zerolinecolor\": \"white\", \"zerolinewidth\": 2}}}, \"xaxis\": {\"anchor\": \"y\", \"domain\": [0.0, 1.0], \"title\": {\"text\": \"Time\"}}, \"yaxis\": {\"anchor\": \"x\", \"domain\": [0.0, 1.0], \"title\": {\"text\": \"Cumulative Revenue\"}}},\n",
       "                        {\"responsive\": true}\n",
       "                    ).then(function(){\n",
       "                            \n",
       "var gd = document.getElementById('1ed800f4-075f-4516-8e61-410ac0b8bd62');\n",
       "var x = new MutationObserver(function (mutations, observer) {{\n",
       "        var display = window.getComputedStyle(gd).display;\n",
       "        if (!display || display === 'none') {{\n",
       "            console.log([gd, 'removed!']);\n",
       "            Plotly.purge(gd);\n",
       "            observer.disconnect();\n",
       "        }}\n",
       "}});\n",
       "\n",
       "// Listen for the removal of the full notebook cells\n",
       "var notebookContainer = gd.closest('#notebook-container');\n",
       "if (notebookContainer) {{\n",
       "    x.observe(notebookContainer, {childList: true});\n",
       "}}\n",
       "\n",
       "// Listen for the clearing of the current output cell\n",
       "var outputEl = gd.closest('.output');\n",
       "if (outputEl) {{\n",
       "    x.observe(outputEl, {childList: true});\n",
       "}}\n",
       "\n",
       "                        })\n",
       "                };\n",
       "                });\n",
       "            </script>\n",
       "        </div>"
      ]
     },
     "metadata": {},
     "output_type": "display_data"
    }
   ],
   "source": [
    "df=cohort1p.groupby(cohort1p['order_date'].dt.strftime('%Y-%m'))['customer_fare'].sum().reset_index()\n",
    "df['cumulative_revenue']=df['customer_fare'].cumsum()\n",
    "fig = px.line(x=df['order_date'], y=df['cumulative_revenue'], labels={'x':'Time', 'y':'Cumulative Revenue'})\n",
    "fig.add_shape(dict(type=\"line\",x0='2017-01',y0=0,x1='2017-01',y1=80000000,line=dict(color=\"Red\",width=1)))\n",
    "fig.show()"
   ]
  },
  {
   "cell_type": "markdown",
   "metadata": {},
   "source": [
    "As expeced the cumulative revenue of the cohort is increasing month over month in our observation and our goal is to predict this cumulative revenue after a certain point of time. For the time being Jan 2017 is choosen but it can change afterwards depending upon accuracy of model.\n",
    "\n",
    "Let's try to visualize the cumulative revenue at an individual customer level :"
   ]
  },
  {
   "cell_type": "code",
   "execution_count": 566,
   "metadata": {},
   "outputs": [
    {
     "data": {
      "application/vnd.plotly.v1+json": {
       "config": {
        "plotlyServerURL": "https://plot.ly"
       },
       "data": [
        {
         "hoverlabel": {
          "namelength": 0
         },
         "hovertemplate": "color=2444<br>Time=%{x}<br>Cumulative Revenue=%{y}",
         "legendgroup": "2444",
         "line": {
          "color": "#636efa",
          "dash": "solid"
         },
         "mode": "lines",
         "name": "2444",
         "showlegend": true,
         "type": "scatter",
         "x": [
          "2016-01",
          "2016-02",
          "2016-03",
          "2016-04",
          "2016-05",
          "2016-06",
          "2016-08",
          "2016-09",
          "2016-10",
          "2016-11",
          "2016-12",
          "2017-01",
          "2017-02",
          "2017-03",
          "2017-04",
          "2017-05",
          "2017-08",
          "2017-09",
          "2017-10",
          "2017-11",
          "2017-12"
         ],
         "xaxis": "x",
         "y": [
          5710,
          12620,
          21330,
          33015,
          34950,
          36880,
          36980,
          38170,
          40890,
          41115,
          43210,
          44485,
          47050,
          48215,
          48530,
          51115,
          51835,
          57790,
          61045,
          64370,
          65364
         ],
         "yaxis": "y"
        },
        {
         "hoverlabel": {
          "namelength": 0
         },
         "hovertemplate": "color=2731<br>Time=%{x}<br>Cumulative Revenue=%{y}",
         "legendgroup": "2731",
         "line": {
          "color": "#EF553B",
          "dash": "solid"
         },
         "mode": "lines",
         "name": "2731",
         "showlegend": true,
         "type": "scatter",
         "x": [
          "2016-01",
          "2016-02",
          "2016-03",
          "2016-04",
          "2016-05",
          "2016-06",
          "2016-07",
          "2016-08",
          "2016-09",
          "2016-10",
          "2016-11",
          "2016-12",
          "2017-01",
          "2017-02",
          "2017-03",
          "2017-04",
          "2017-05",
          "2017-06",
          "2017-07",
          "2017-08",
          "2017-09",
          "2017-10",
          "2017-11",
          "2017-12"
         ],
         "xaxis": "x",
         "y": [
          2240,
          6710,
          9620,
          16050,
          19110,
          25255,
          30585,
          32970,
          33235,
          33585,
          34535,
          39615,
          42470,
          45685,
          49370,
          50725,
          52165,
          53855,
          56680,
          59340,
          60105,
          61835,
          65583,
          67364
         ],
         "yaxis": "y"
        },
        {
         "hoverlabel": {
          "namelength": 0
         },
         "hovertemplate": "color=3453<br>Time=%{x}<br>Cumulative Revenue=%{y}",
         "legendgroup": "3453",
         "line": {
          "color": "#00cc96",
          "dash": "solid"
         },
         "mode": "lines",
         "name": "3453",
         "showlegend": true,
         "type": "scatter",
         "x": [
          "2016-02",
          "2016-03",
          "2016-04",
          "2016-05",
          "2016-06",
          "2016-07",
          "2016-09",
          "2016-11",
          "2016-12",
          "2017-01",
          "2017-02",
          "2017-03",
          "2017-04",
          "2017-05",
          "2017-06",
          "2017-07",
          "2017-09",
          "2017-10",
          "2017-11",
          "2017-12"
         ],
         "xaxis": "x",
         "y": [
          1490,
          3960,
          6440,
          7650,
          9910,
          10515,
          11075,
          17135,
          21480,
          22040,
          23565,
          24050,
          25540,
          26670,
          27240,
          31755,
          39245,
          42060,
          45275,
          46128
         ],
         "yaxis": "y"
        },
        {
         "hoverlabel": {
          "namelength": 0
         },
         "hovertemplate": "color=4255<br>Time=%{x}<br>Cumulative Revenue=%{y}",
         "legendgroup": "4255",
         "line": {
          "color": "#ab63fa",
          "dash": "solid"
         },
         "mode": "lines",
         "name": "4255",
         "showlegend": true,
         "type": "scatter",
         "x": [
          "2016-01",
          "2016-02",
          "2016-03",
          "2016-05",
          "2016-07",
          "2016-08",
          "2016-09",
          "2017-01",
          "2017-04",
          "2017-05",
          "2017-08",
          "2017-09",
          "2017-11",
          "2017-12"
         ],
         "xaxis": "x",
         "y": [
          910,
          2290,
          3170,
          3360,
          4160,
          5320,
          6255,
          7090,
          8040,
          8855,
          11340,
          12380,
          14101,
          14523
         ],
         "yaxis": "y"
        },
        {
         "hoverlabel": {
          "namelength": 0
         },
         "hovertemplate": "color=6849<br>Time=%{x}<br>Cumulative Revenue=%{y}",
         "legendgroup": "6849",
         "line": {
          "color": "#FFA15A",
          "dash": "solid"
         },
         "mode": "lines",
         "name": "6849",
         "showlegend": true,
         "type": "scatter",
         "x": [
          "2016-02",
          "2016-04",
          "2016-05",
          "2016-06",
          "2016-09",
          "2016-10",
          "2016-11",
          "2016-12",
          "2017-02",
          "2017-03",
          "2017-04",
          "2017-05",
          "2017-06",
          "2017-07",
          "2017-08",
          "2017-12"
         ],
         "xaxis": "x",
         "y": [
          680,
          950,
          1820,
          2415,
          4060,
          4505,
          5365,
          6535,
          6780,
          10185,
          14215,
          17770,
          21265,
          33335,
          36585,
          38331
         ],
         "yaxis": "y"
        },
        {
         "hoverlabel": {
          "namelength": 0
         },
         "hovertemplate": "color=7624<br>Time=%{x}<br>Cumulative Revenue=%{y}",
         "legendgroup": "7624",
         "line": {
          "color": "#19d3f3",
          "dash": "solid"
         },
         "mode": "lines",
         "name": "7624",
         "showlegend": true,
         "type": "scatter",
         "x": [
          "2016-04",
          "2016-08",
          "2016-09",
          "2016-11",
          "2017-03",
          "2017-04",
          "2017-05",
          "2017-06",
          "2017-09",
          "2017-10",
          "2017-11",
          "2017-12"
         ],
         "xaxis": "x",
         "y": [
          915,
          3445,
          4195,
          5340,
          5735,
          6255,
          6455,
          8360,
          12445,
          14520,
          15260,
          16110
         ],
         "yaxis": "y"
        },
        {
         "hoverlabel": {
          "namelength": 0
         },
         "hovertemplate": "color=8938<br>Time=%{x}<br>Cumulative Revenue=%{y}",
         "legendgroup": "8938",
         "line": {
          "color": "#FF6692",
          "dash": "solid"
         },
         "mode": "lines",
         "name": "8938",
         "showlegend": true,
         "type": "scatter",
         "x": [
          "2016-01",
          "2016-02",
          "2016-03",
          "2016-04",
          "2016-05",
          "2016-06",
          "2016-07",
          "2016-08",
          "2016-09",
          "2016-10",
          "2016-11",
          "2016-12",
          "2017-01",
          "2017-02",
          "2017-03",
          "2017-04",
          "2017-06",
          "2017-07",
          "2017-08",
          "2017-09",
          "2017-10",
          "2017-11",
          "2017-12"
         ],
         "xaxis": "x",
         "y": [
          2030,
          3200,
          6510,
          8385,
          10170,
          12550,
          13370,
          15575,
          17780,
          21560,
          25260,
          28195,
          34635,
          35165,
          37205,
          37755,
          38785,
          43740,
          46460,
          46720,
          49785,
          51717,
          57206
         ],
         "yaxis": "y"
        },
        {
         "hoverlabel": {
          "namelength": 0
         },
         "hovertemplate": "color=10939<br>Time=%{x}<br>Cumulative Revenue=%{y}",
         "legendgroup": "10939",
         "line": {
          "color": "#B6E880",
          "dash": "solid"
         },
         "mode": "lines",
         "name": "10939",
         "showlegend": true,
         "type": "scatter",
         "x": [
          "2016-01",
          "2016-03",
          "2016-04",
          "2016-06",
          "2016-07",
          "2016-09",
          "2017-01",
          "2017-02",
          "2017-03",
          "2017-04",
          "2017-06",
          "2017-07",
          "2017-08",
          "2017-09",
          "2017-10",
          "2017-11",
          "2017-12"
         ],
         "xaxis": "x",
         "y": [
          1230,
          1730,
          2585,
          3440,
          4395,
          4680,
          5270,
          6355,
          7080,
          8295,
          9595,
          10395,
          13800,
          14450,
          14720,
          15479,
          17358
         ],
         "yaxis": "y"
        },
        {
         "hoverlabel": {
          "namelength": 0
         },
         "hovertemplate": "color=11384<br>Time=%{x}<br>Cumulative Revenue=%{y}",
         "legendgroup": "11384",
         "line": {
          "color": "#FF97FF",
          "dash": "solid"
         },
         "mode": "lines",
         "name": "11384",
         "showlegend": true,
         "type": "scatter",
         "x": [
          "2016-01",
          "2016-03",
          "2016-07",
          "2016-08",
          "2016-09",
          "2017-01",
          "2017-05",
          "2017-06",
          "2017-07",
          "2017-08",
          "2017-09",
          "2017-10",
          "2017-11",
          "2017-12"
         ],
         "xaxis": "x",
         "y": [
          770,
          2320,
          3300,
          3550,
          4725,
          5340,
          5815,
          15190,
          35285,
          54120,
          84130,
          116840,
          129777,
          134645
         ],
         "yaxis": "y"
        },
        {
         "hoverlabel": {
          "namelength": 0
         },
         "hovertemplate": "color=12397<br>Time=%{x}<br>Cumulative Revenue=%{y}",
         "legendgroup": "12397",
         "line": {
          "color": "#FECB52",
          "dash": "solid"
         },
         "mode": "lines",
         "name": "12397",
         "showlegend": true,
         "type": "scatter",
         "x": [
          "2016-01",
          "2016-02",
          "2016-03",
          "2016-04",
          "2016-06",
          "2016-09",
          "2016-10",
          "2016-11",
          "2016-12",
          "2017-01",
          "2017-02",
          "2017-03",
          "2017-04",
          "2017-05",
          "2017-06",
          "2017-07",
          "2017-09",
          "2017-10"
         ],
         "xaxis": "x",
         "y": [
          1160,
          4650,
          5430,
          5910,
          6060,
          7135,
          8615,
          9430,
          10245,
          11145,
          12295,
          12915,
          13675,
          14010,
          15940,
          16305,
          19260,
          20245
         ],
         "yaxis": "y"
        },
        {
         "hoverlabel": {
          "namelength": 0
         },
         "hovertemplate": "color=12426<br>Time=%{x}<br>Cumulative Revenue=%{y}",
         "legendgroup": "12426",
         "line": {
          "color": "#636efa",
          "dash": "solid"
         },
         "mode": "lines",
         "name": "12426",
         "showlegend": true,
         "type": "scatter",
         "x": [
          "2016-01",
          "2016-02",
          "2016-03",
          "2016-04",
          "2016-05",
          "2016-06",
          "2016-07",
          "2016-08",
          "2016-09",
          "2016-10",
          "2016-11",
          "2016-12",
          "2017-03",
          "2017-04",
          "2017-06",
          "2017-07",
          "2017-08",
          "2017-09",
          "2017-10",
          "2017-11",
          "2017-12"
         ],
         "xaxis": "x",
         "y": [
          1040,
          1510,
          4440,
          8480,
          9385,
          11375,
          12390,
          14695,
          18475,
          26875,
          27600,
          28110,
          28575,
          28805,
          28905,
          30645,
          34155,
          35440,
          39230,
          41100,
          43388
         ],
         "yaxis": "y"
        },
        {
         "hoverlabel": {
          "namelength": 0
         },
         "hovertemplate": "color=13947<br>Time=%{x}<br>Cumulative Revenue=%{y}",
         "legendgroup": "13947",
         "line": {
          "color": "#EF553B",
          "dash": "solid"
         },
         "mode": "lines",
         "name": "13947",
         "showlegend": true,
         "type": "scatter",
         "x": [
          "2016-06",
          "2016-07",
          "2016-08",
          "2016-10",
          "2016-11",
          "2016-12",
          "2017-03",
          "2017-06",
          "2017-07",
          "2017-08",
          "2017-09"
         ],
         "xaxis": "x",
         "y": [
          150,
          390,
          910,
          1075,
          2115,
          2845,
          3645,
          4605,
          4850,
          6620,
          6835
         ],
         "yaxis": "y"
        },
        {
         "hoverlabel": {
          "namelength": 0
         },
         "hovertemplate": "color=17803<br>Time=%{x}<br>Cumulative Revenue=%{y}",
         "legendgroup": "17803",
         "line": {
          "color": "#00cc96",
          "dash": "solid"
         },
         "mode": "lines",
         "name": "17803",
         "showlegend": true,
         "type": "scatter",
         "x": [
          "2016-01",
          "2016-02",
          "2016-03",
          "2016-04",
          "2016-05",
          "2016-06",
          "2016-07",
          "2016-08",
          "2016-09",
          "2016-11",
          "2016-12",
          "2017-01",
          "2017-02",
          "2017-03",
          "2017-04",
          "2017-05",
          "2017-06",
          "2017-07",
          "2017-08",
          "2017-09",
          "2017-10",
          "2017-11",
          "2017-12"
         ],
         "xaxis": "x",
         "y": [
          770,
          1420,
          2830,
          6225,
          8090,
          10325,
          11040,
          11195,
          11345,
          13055,
          14905,
          17200,
          18320,
          19540,
          23125,
          24740,
          26790,
          27875,
          28135,
          32480,
          32700,
          33167,
          33429
         ],
         "yaxis": "y"
        },
        {
         "hoverlabel": {
          "namelength": 0
         },
         "hovertemplate": "color=19113<br>Time=%{x}<br>Cumulative Revenue=%{y}",
         "legendgroup": "19113",
         "line": {
          "color": "#ab63fa",
          "dash": "solid"
         },
         "mode": "lines",
         "name": "19113",
         "showlegend": true,
         "type": "scatter",
         "x": [
          "2016-02",
          "2016-04",
          "2016-05",
          "2016-06",
          "2016-07",
          "2016-08",
          "2016-10",
          "2016-12",
          "2017-01",
          "2017-02",
          "2017-03",
          "2017-04",
          "2017-05",
          "2017-06",
          "2017-07",
          "2017-08",
          "2017-09",
          "2017-10",
          "2017-11"
         ],
         "xaxis": "x",
         "y": [
          1740,
          4495,
          8980,
          11015,
          11180,
          13080,
          13620,
          14955,
          15685,
          16545,
          19805,
          22380,
          23590,
          26200,
          26420,
          28950,
          29060,
          29630,
          29845
         ],
         "yaxis": "y"
        },
        {
         "hoverlabel": {
          "namelength": 0
         },
         "hovertemplate": "color=20299<br>Time=%{x}<br>Cumulative Revenue=%{y}",
         "legendgroup": "20299",
         "line": {
          "color": "#FFA15A",
          "dash": "solid"
         },
         "mode": "lines",
         "name": "20299",
         "showlegend": true,
         "type": "scatter",
         "x": [
          "2016-01",
          "2016-02",
          "2016-03",
          "2016-04",
          "2016-07",
          "2016-09",
          "2016-11",
          "2016-12",
          "2017-05",
          "2017-07",
          "2017-08",
          "2017-09",
          "2017-10",
          "2017-11",
          "2017-12"
         ],
         "xaxis": "x",
         "y": [
          3600,
          4940,
          8950,
          9240,
          10640,
          10930,
          11555,
          11755,
          13470,
          13595,
          13845,
          17165,
          17720,
          18345,
          18549
         ],
         "yaxis": "y"
        },
        {
         "hoverlabel": {
          "namelength": 0
         },
         "hovertemplate": "color=21215<br>Time=%{x}<br>Cumulative Revenue=%{y}",
         "legendgroup": "21215",
         "line": {
          "color": "#19d3f3",
          "dash": "solid"
         },
         "mode": "lines",
         "name": "21215",
         "showlegend": true,
         "type": "scatter",
         "x": [
          "2016-01",
          "2016-02",
          "2016-03",
          "2016-04",
          "2016-05",
          "2016-06",
          "2016-07",
          "2016-08",
          "2016-09",
          "2016-10",
          "2016-11",
          "2016-12",
          "2017-01",
          "2017-02",
          "2017-03",
          "2017-04",
          "2017-05",
          "2017-06",
          "2017-07",
          "2017-08",
          "2017-09",
          "2017-10",
          "2017-11",
          "2017-12"
         ],
         "xaxis": "x",
         "y": [
          2950,
          8240,
          14410,
          18570,
          21080,
          26255,
          35185,
          44500,
          55350,
          61345,
          70455,
          80975,
          92360,
          96385,
          101900,
          109770,
          115715,
          125180,
          131235,
          140230,
          146560,
          155830,
          161054,
          170602
         ],
         "yaxis": "y"
        },
        {
         "hoverlabel": {
          "namelength": 0
         },
         "hovertemplate": "color=24859<br>Time=%{x}<br>Cumulative Revenue=%{y}",
         "legendgroup": "24859",
         "line": {
          "color": "#FF6692",
          "dash": "solid"
         },
         "mode": "lines",
         "name": "24859",
         "showlegend": true,
         "type": "scatter",
         "x": [
          "2016-01",
          "2016-02",
          "2016-03",
          "2016-04",
          "2016-05",
          "2016-06",
          "2016-07",
          "2016-08",
          "2016-09",
          "2016-10",
          "2016-11",
          "2016-12",
          "2017-01",
          "2017-02",
          "2017-03",
          "2017-04",
          "2017-05",
          "2017-06",
          "2017-07",
          "2017-08",
          "2017-09",
          "2017-10",
          "2017-11",
          "2017-12"
         ],
         "xaxis": "x",
         "y": [
          2390,
          5300,
          9490,
          13135,
          16035,
          19010,
          21160,
          26170,
          29125,
          32280,
          33915,
          34270,
          36140,
          37100,
          41165,
          42610,
          46970,
          49960,
          54070,
          58380,
          62885,
          70705,
          76325,
          82165
         ],
         "yaxis": "y"
        },
        {
         "hoverlabel": {
          "namelength": 0
         },
         "hovertemplate": "color=26847<br>Time=%{x}<br>Cumulative Revenue=%{y}",
         "legendgroup": "26847",
         "line": {
          "color": "#B6E880",
          "dash": "solid"
         },
         "mode": "lines",
         "name": "26847",
         "showlegend": true,
         "type": "scatter",
         "x": [
          "2016-01",
          "2016-02",
          "2016-04",
          "2016-05",
          "2016-06",
          "2016-07",
          "2016-08",
          "2016-10",
          "2017-01",
          "2017-02",
          "2017-03",
          "2017-04",
          "2017-05",
          "2017-06",
          "2017-07",
          "2017-08",
          "2017-09",
          "2017-10",
          "2017-11"
         ],
         "xaxis": "x",
         "y": [
          1500,
          2820,
          6645,
          10145,
          12830,
          16790,
          17985,
          18915,
          20125,
          23445,
          24115,
          24885,
          25635,
          30390,
          31760,
          33490,
          34175,
          36695,
          37675
         ],
         "yaxis": "y"
        },
        {
         "hoverlabel": {
          "namelength": 0
         },
         "hovertemplate": "color=32297<br>Time=%{x}<br>Cumulative Revenue=%{y}",
         "legendgroup": "32297",
         "line": {
          "color": "#FF97FF",
          "dash": "solid"
         },
         "mode": "lines",
         "name": "32297",
         "showlegend": true,
         "type": "scatter",
         "x": [
          "2016-03",
          "2016-04",
          "2016-05",
          "2016-06",
          "2016-07",
          "2016-08",
          "2016-11",
          "2016-12",
          "2017-01",
          "2017-02",
          "2017-03",
          "2017-04",
          "2017-05",
          "2017-07",
          "2017-08",
          "2017-10",
          "2017-12"
         ],
         "xaxis": "x",
         "y": [
          1010,
          4990,
          10290,
          10720,
          11865,
          13030,
          13600,
          15915,
          17670,
          21185,
          26870,
          27310,
          28415,
          29690,
          32260,
          33535,
          34366
         ],
         "yaxis": "y"
        },
        {
         "hoverlabel": {
          "namelength": 0
         },
         "hovertemplate": "color=33759<br>Time=%{x}<br>Cumulative Revenue=%{y}",
         "legendgroup": "33759",
         "line": {
          "color": "#FECB52",
          "dash": "solid"
         },
         "mode": "lines",
         "name": "33759",
         "showlegend": true,
         "type": "scatter",
         "x": [
          "2016-01",
          "2016-02",
          "2016-03",
          "2016-07",
          "2016-08",
          "2016-10",
          "2017-01",
          "2017-02",
          "2017-03",
          "2017-04",
          "2017-06",
          "2017-07",
          "2017-08",
          "2017-09",
          "2017-10",
          "2017-12"
         ],
         "xaxis": "x",
         "y": [
          890,
          2170,
          2770,
          4190,
          6795,
          12720,
          14375,
          15480,
          19190,
          20280,
          23405,
          26300,
          30595,
          31460,
          32710,
          33947
         ],
         "yaxis": "y"
        },
        {
         "hoverlabel": {
          "namelength": 0
         },
         "hovertemplate": "color=33846<br>Time=%{x}<br>Cumulative Revenue=%{y}",
         "legendgroup": "33846",
         "line": {
          "color": "#636efa",
          "dash": "solid"
         },
         "mode": "lines",
         "name": "33846",
         "showlegend": true,
         "type": "scatter",
         "x": [
          "2016-01",
          "2016-03",
          "2016-04",
          "2016-05",
          "2016-06",
          "2016-07",
          "2016-08",
          "2016-09",
          "2016-10",
          "2016-11",
          "2016-12",
          "2017-01",
          "2017-02",
          "2017-03",
          "2017-04",
          "2017-05",
          "2017-06",
          "2017-07",
          "2017-08",
          "2017-09",
          "2017-10",
          "2017-11",
          "2017-12"
         ],
         "xaxis": "x",
         "y": [
          1250,
          4630,
          8120,
          12930,
          16825,
          24505,
          27540,
          28515,
          32765,
          35575,
          41780,
          47595,
          55690,
          58185,
          62635,
          65110,
          71055,
          76150,
          79860,
          83455,
          85725,
          87094,
          87496
         ],
         "yaxis": "y"
        },
        {
         "hoverlabel": {
          "namelength": 0
         },
         "hovertemplate": "color=35529<br>Time=%{x}<br>Cumulative Revenue=%{y}",
         "legendgroup": "35529",
         "line": {
          "color": "#EF553B",
          "dash": "solid"
         },
         "mode": "lines",
         "name": "35529",
         "showlegend": true,
         "type": "scatter",
         "x": [
          "2016-03",
          "2016-04",
          "2016-05",
          "2016-06",
          "2016-07",
          "2016-08",
          "2016-11",
          "2016-12",
          "2017-02",
          "2017-03",
          "2017-04",
          "2017-05",
          "2017-06",
          "2017-07",
          "2017-08",
          "2017-09",
          "2017-10",
          "2017-11",
          "2017-12"
         ],
         "xaxis": "x",
         "y": [
          2380,
          5125,
          11970,
          13295,
          13465,
          14625,
          16595,
          19045,
          19520,
          21900,
          28475,
          29120,
          32570,
          37250,
          39210,
          44530,
          44935,
          46351,
          56595
         ],
         "yaxis": "y"
        },
        {
         "hoverlabel": {
          "namelength": 0
         },
         "hovertemplate": "color=37066<br>Time=%{x}<br>Cumulative Revenue=%{y}",
         "legendgroup": "37066",
         "line": {
          "color": "#00cc96",
          "dash": "solid"
         },
         "mode": "lines",
         "name": "37066",
         "showlegend": true,
         "type": "scatter",
         "x": [
          "2016-04",
          "2016-05",
          "2016-06",
          "2016-07",
          "2016-08",
          "2016-09",
          "2016-10",
          "2016-11",
          "2016-12",
          "2017-01",
          "2017-02",
          "2017-03",
          "2017-04",
          "2017-05",
          "2017-06",
          "2017-07",
          "2017-08",
          "2017-09",
          "2017-10",
          "2017-11",
          "2017-12"
         ],
         "xaxis": "x",
         "y": [
          2325,
          13765,
          29820,
          38635,
          53810,
          68305,
          83370,
          90425,
          103275,
          111175,
          116965,
          121045,
          125520,
          129425,
          132565,
          140910,
          153245,
          165790,
          179345,
          190512,
          197686
         ],
         "yaxis": "y"
        },
        {
         "hoverlabel": {
          "namelength": 0
         },
         "hovertemplate": "color=37163<br>Time=%{x}<br>Cumulative Revenue=%{y}",
         "legendgroup": "37163",
         "line": {
          "color": "#ab63fa",
          "dash": "solid"
         },
         "mode": "lines",
         "name": "37163",
         "showlegend": true,
         "type": "scatter",
         "x": [
          "2016-02",
          "2016-03",
          "2016-04",
          "2016-05",
          "2016-06",
          "2016-07",
          "2016-08",
          "2016-09",
          "2016-10",
          "2016-11",
          "2016-12",
          "2017-01",
          "2017-02",
          "2017-03",
          "2017-04",
          "2017-05",
          "2017-08",
          "2017-09",
          "2017-12"
         ],
         "xaxis": "x",
         "y": [
          540,
          860,
          1115,
          4095,
          6760,
          10250,
          15410,
          15990,
          17425,
          17820,
          22700,
          24635,
          29060,
          29315,
          30155,
          30815,
          34625,
          38420,
          39144
         ],
         "yaxis": "y"
        },
        {
         "hoverlabel": {
          "namelength": 0
         },
         "hovertemplate": "color=37740<br>Time=%{x}<br>Cumulative Revenue=%{y}",
         "legendgroup": "37740",
         "line": {
          "color": "#FFA15A",
          "dash": "solid"
         },
         "mode": "lines",
         "name": "37740",
         "showlegend": true,
         "type": "scatter",
         "x": [
          "2016-01",
          "2016-04",
          "2016-06",
          "2016-07",
          "2016-08",
          "2016-09",
          "2016-10",
          "2016-11",
          "2017-01",
          "2017-02",
          "2017-04",
          "2017-05",
          "2017-07",
          "2017-08",
          "2017-09",
          "2017-10",
          "2017-12"
         ],
         "xaxis": "x",
         "y": [
          630,
          1100,
          2130,
          2800,
          4105,
          5350,
          6475,
          7185,
          8000,
          8735,
          9315,
          9595,
          10405,
          11585,
          11925,
          12690,
          12944
         ],
         "yaxis": "y"
        },
        {
         "hoverlabel": {
          "namelength": 0
         },
         "hovertemplate": "color=38809<br>Time=%{x}<br>Cumulative Revenue=%{y}",
         "legendgroup": "38809",
         "line": {
          "color": "#19d3f3",
          "dash": "solid"
         },
         "mode": "lines",
         "name": "38809",
         "showlegend": true,
         "type": "scatter",
         "x": [
          "2016-04",
          "2016-05",
          "2016-06",
          "2016-07",
          "2016-09",
          "2016-11",
          "2016-12",
          "2017-01",
          "2017-02",
          "2017-05",
          "2017-06",
          "2017-07",
          "2017-08",
          "2017-09",
          "2017-11",
          "2017-12"
         ],
         "xaxis": "x",
         "y": [
          2330,
          7035,
          9550,
          10400,
          12025,
          13050,
          15130,
          15395,
          16260,
          17610,
          22140,
          23475,
          30010,
          32335,
          32860,
          34495
         ],
         "yaxis": "y"
        },
        {
         "hoverlabel": {
          "namelength": 0
         },
         "hovertemplate": "color=38845<br>Time=%{x}<br>Cumulative Revenue=%{y}",
         "legendgroup": "38845",
         "line": {
          "color": "#FF6692",
          "dash": "solid"
         },
         "mode": "lines",
         "name": "38845",
         "showlegend": true,
         "type": "scatter",
         "x": [
          "2016-02",
          "2016-03",
          "2016-04",
          "2016-05",
          "2016-06",
          "2016-08",
          "2016-09",
          "2016-10",
          "2017-02",
          "2017-03",
          "2017-04",
          "2017-08",
          "2017-09",
          "2017-10",
          "2017-11",
          "2017-12"
         ],
         "xaxis": "x",
         "y": [
          330,
          440,
          865,
          1205,
          2560,
          3620,
          4175,
          4855,
          5270,
          5920,
          6850,
          7155,
          7655,
          9370,
          9778,
          10114
         ],
         "yaxis": "y"
        },
        {
         "hoverlabel": {
          "namelength": 0
         },
         "hovertemplate": "color=39603<br>Time=%{x}<br>Cumulative Revenue=%{y}",
         "legendgroup": "39603",
         "line": {
          "color": "#B6E880",
          "dash": "solid"
         },
         "mode": "lines",
         "name": "39603",
         "showlegend": true,
         "type": "scatter",
         "x": [
          "2016-01",
          "2016-02",
          "2016-03",
          "2016-04",
          "2016-05",
          "2016-06",
          "2016-07",
          "2016-08",
          "2016-09",
          "2016-10",
          "2016-11",
          "2016-12",
          "2017-01",
          "2017-02",
          "2017-03",
          "2017-04",
          "2017-05",
          "2017-06",
          "2017-09",
          "2017-10",
          "2017-11",
          "2017-12"
         ],
         "xaxis": "x",
         "y": [
          760,
          2840,
          4390,
          15905,
          22540,
          24625,
          27015,
          27805,
          29000,
          35480,
          44825,
          78295,
          91150,
          106650,
          110265,
          118440,
          123865,
          124120,
          126015,
          129000,
          144278,
          154019
         ],
         "yaxis": "y"
        },
        {
         "hoverlabel": {
          "namelength": 0
         },
         "hovertemplate": "color=39668<br>Time=%{x}<br>Cumulative Revenue=%{y}",
         "legendgroup": "39668",
         "line": {
          "color": "#FF97FF",
          "dash": "solid"
         },
         "mode": "lines",
         "name": "39668",
         "showlegend": true,
         "type": "scatter",
         "x": [
          "2016-01",
          "2016-02",
          "2016-03",
          "2016-04",
          "2016-05",
          "2016-06",
          "2016-07",
          "2016-08",
          "2016-09",
          "2016-10",
          "2016-11",
          "2016-12",
          "2017-01",
          "2017-02",
          "2017-03",
          "2017-04",
          "2017-05",
          "2017-06",
          "2017-07",
          "2017-09",
          "2017-10",
          "2017-11"
         ],
         "xaxis": "x",
         "y": [
          3676,
          8726,
          17746,
          20031,
          24136,
          31551,
          32451,
          35981,
          44816,
          52846,
          55461,
          57561,
          64526,
          65936,
          69756,
          70376,
          72276,
          74481,
          76801,
          80961,
          87081,
          90846
         ],
         "yaxis": "y"
        },
        {
         "hoverlabel": {
          "namelength": 0
         },
         "hovertemplate": "color=44367<br>Time=%{x}<br>Cumulative Revenue=%{y}",
         "legendgroup": "44367",
         "line": {
          "color": "#FECB52",
          "dash": "solid"
         },
         "mode": "lines",
         "name": "44367",
         "showlegend": true,
         "type": "scatter",
         "x": [
          "2016-02",
          "2016-03",
          "2016-04",
          "2016-05",
          "2016-06",
          "2016-07",
          "2016-08",
          "2016-09",
          "2016-10",
          "2016-11",
          "2016-12",
          "2017-01",
          "2017-02",
          "2017-03",
          "2017-04",
          "2017-05",
          "2017-06",
          "2017-07",
          "2017-08",
          "2017-09",
          "2017-10",
          "2017-11",
          "2017-12"
         ],
         "xaxis": "x",
         "y": [
          290,
          930,
          7595,
          17980,
          22215,
          26115,
          28835,
          31430,
          35185,
          40785,
          46825,
          49390,
          50705,
          54720,
          54805,
          56830,
          58200,
          64075,
          68000,
          73285,
          83110,
          91478,
          97941
         ],
         "yaxis": "y"
        },
        {
         "hoverlabel": {
          "namelength": 0
         },
         "hovertemplate": "color=45645<br>Time=%{x}<br>Cumulative Revenue=%{y}",
         "legendgroup": "45645",
         "line": {
          "color": "#636efa",
          "dash": "solid"
         },
         "mode": "lines",
         "name": "45645",
         "showlegend": true,
         "type": "scatter",
         "x": [
          "2016-01",
          "2016-02",
          "2016-03",
          "2016-04",
          "2016-05",
          "2016-06",
          "2016-07",
          "2016-08",
          "2016-09",
          "2016-10",
          "2016-11",
          "2016-12",
          "2017-01",
          "2017-02",
          "2017-03",
          "2017-04",
          "2017-05",
          "2017-06",
          "2017-07",
          "2017-08",
          "2017-09",
          "2017-10",
          "2017-11",
          "2017-12"
         ],
         "xaxis": "x",
         "y": [
          3780,
          9750,
          12900,
          20065,
          24320,
          28130,
          33675,
          40850,
          48975,
          58355,
          63215,
          68110,
          74230,
          80930,
          87310,
          91470,
          96655,
          102750,
          107265,
          110430,
          117760,
          124835,
          128391,
          135408
         ],
         "yaxis": "y"
        },
        {
         "hoverlabel": {
          "namelength": 0
         },
         "hovertemplate": "color=48366<br>Time=%{x}<br>Cumulative Revenue=%{y}",
         "legendgroup": "48366",
         "line": {
          "color": "#EF553B",
          "dash": "solid"
         },
         "mode": "lines",
         "name": "48366",
         "showlegend": true,
         "type": "scatter",
         "x": [
          "2016-01",
          "2016-02",
          "2016-03",
          "2016-04",
          "2016-05",
          "2016-06",
          "2016-07",
          "2016-08",
          "2016-09",
          "2016-10",
          "2016-11",
          "2016-12",
          "2017-01",
          "2017-02",
          "2017-03",
          "2017-04",
          "2017-05",
          "2017-06",
          "2017-07",
          "2017-08",
          "2017-09",
          "2017-10",
          "2017-11",
          "2017-12"
         ],
         "xaxis": "x",
         "y": [
          1801,
          4571,
          9381,
          18001,
          24821,
          31771,
          41176,
          54201,
          60596,
          69151,
          76646,
          86776,
          97241,
          107846,
          117306,
          127581,
          138036,
          146576,
          160781,
          170421,
          173866,
          177791,
          178198,
          179528
         ],
         "yaxis": "y"
        },
        {
         "hoverlabel": {
          "namelength": 0
         },
         "hovertemplate": "color=51438<br>Time=%{x}<br>Cumulative Revenue=%{y}",
         "legendgroup": "51438",
         "line": {
          "color": "#00cc96",
          "dash": "solid"
         },
         "mode": "lines",
         "name": "51438",
         "showlegend": true,
         "type": "scatter",
         "x": [
          "2016-01",
          "2016-04",
          "2016-07",
          "2016-08",
          "2016-09",
          "2016-10",
          "2016-11",
          "2016-12",
          "2017-01",
          "2017-03",
          "2017-04",
          "2017-05",
          "2017-06",
          "2017-07",
          "2017-08",
          "2017-09",
          "2017-10",
          "2017-11",
          "2017-12"
         ],
         "xaxis": "x",
         "y": [
          1540,
          2155,
          3310,
          5570,
          7365,
          8700,
          8880,
          10710,
          13315,
          13830,
          15045,
          15230,
          18255,
          22225,
          25940,
          27525,
          28845,
          29573,
          30217
         ],
         "yaxis": "y"
        },
        {
         "hoverlabel": {
          "namelength": 0
         },
         "hovertemplate": "color=60707<br>Time=%{x}<br>Cumulative Revenue=%{y}",
         "legendgroup": "60707",
         "line": {
          "color": "#ab63fa",
          "dash": "solid"
         },
         "mode": "lines",
         "name": "60707",
         "showlegend": true,
         "type": "scatter",
         "x": [
          "2016-01",
          "2016-02",
          "2016-03",
          "2016-04",
          "2016-06",
          "2016-07",
          "2016-08",
          "2016-09",
          "2016-10",
          "2016-11",
          "2016-12",
          "2017-01",
          "2017-02",
          "2017-03",
          "2017-04",
          "2017-07",
          "2017-08",
          "2017-09",
          "2017-10",
          "2017-11",
          "2017-12"
         ],
         "xaxis": "x",
         "y": [
          2660,
          6250,
          8670,
          9115,
          10735,
          11870,
          15340,
          15990,
          20000,
          22335,
          28495,
          34020,
          37045,
          39265,
          42315,
          44305,
          48445,
          50145,
          53510,
          61974,
          70833
         ],
         "yaxis": "y"
        },
        {
         "hoverlabel": {
          "namelength": 0
         },
         "hovertemplate": "color=64290<br>Time=%{x}<br>Cumulative Revenue=%{y}",
         "legendgroup": "64290",
         "line": {
          "color": "#FFA15A",
          "dash": "solid"
         },
         "mode": "lines",
         "name": "64290",
         "showlegend": true,
         "type": "scatter",
         "x": [
          "2016-01",
          "2016-02",
          "2016-03",
          "2016-04",
          "2016-05",
          "2016-06",
          "2016-07",
          "2016-08",
          "2016-09",
          "2016-10",
          "2016-11",
          "2016-12",
          "2017-01",
          "2017-02",
          "2017-04",
          "2017-05",
          "2017-06",
          "2017-07",
          "2017-08",
          "2017-09",
          "2017-10",
          "2017-11",
          "2017-12"
         ],
         "xaxis": "x",
         "y": [
          2940,
          10140,
          17000,
          17600,
          19185,
          20355,
          21210,
          23430,
          24585,
          27165,
          27610,
          29245,
          29690,
          30975,
          32315,
          33865,
          34440,
          34775,
          37005,
          41295,
          42720,
          44286,
          47432
         ],
         "yaxis": "y"
        },
        {
         "hoverlabel": {
          "namelength": 0
         },
         "hovertemplate": "color=68988<br>Time=%{x}<br>Cumulative Revenue=%{y}",
         "legendgroup": "68988",
         "line": {
          "color": "#19d3f3",
          "dash": "solid"
         },
         "mode": "lines",
         "name": "68988",
         "showlegend": true,
         "type": "scatter",
         "x": [
          "2016-01",
          "2016-02",
          "2016-03",
          "2016-04",
          "2016-05",
          "2016-06",
          "2016-07",
          "2016-08",
          "2016-09",
          "2016-10",
          "2017-01",
          "2017-04",
          "2017-06",
          "2017-07",
          "2017-11"
         ],
         "xaxis": "x",
         "y": [
          2400,
          4510,
          6050,
          7255,
          8720,
          9060,
          10565,
          12495,
          13575,
          14700,
          14990,
          18110,
          20115,
          20900,
          21746
         ],
         "yaxis": "y"
        },
        {
         "hoverlabel": {
          "namelength": 0
         },
         "hovertemplate": "color=69133<br>Time=%{x}<br>Cumulative Revenue=%{y}",
         "legendgroup": "69133",
         "line": {
          "color": "#FF6692",
          "dash": "solid"
         },
         "mode": "lines",
         "name": "69133",
         "showlegend": true,
         "type": "scatter",
         "x": [
          "2016-01",
          "2016-02",
          "2016-03",
          "2016-04",
          "2016-06",
          "2016-07",
          "2016-08",
          "2016-09",
          "2016-10",
          "2016-11",
          "2016-12",
          "2017-01",
          "2017-02",
          "2017-03",
          "2017-04",
          "2017-05",
          "2017-06",
          "2017-07",
          "2017-08",
          "2017-09",
          "2017-10",
          "2017-11",
          "2017-12"
         ],
         "xaxis": "x",
         "y": [
          760,
          4860,
          7520,
          7745,
          11420,
          16535,
          19130,
          21860,
          24165,
          27000,
          28470,
          35630,
          39655,
          48635,
          60075,
          73640,
          86880,
          93345,
          99260,
          108280,
          112120,
          112616,
          113372
         ],
         "yaxis": "y"
        },
        {
         "hoverlabel": {
          "namelength": 0
         },
         "hovertemplate": "color=79853<br>Time=%{x}<br>Cumulative Revenue=%{y}",
         "legendgroup": "79853",
         "line": {
          "color": "#B6E880",
          "dash": "solid"
         },
         "mode": "lines",
         "name": "79853",
         "showlegend": true,
         "type": "scatter",
         "x": [
          "2016-02",
          "2016-03",
          "2016-04",
          "2016-05",
          "2016-06",
          "2016-07",
          "2016-08",
          "2016-09",
          "2016-10",
          "2016-11",
          "2016-12",
          "2017-01",
          "2017-03",
          "2017-06",
          "2017-07",
          "2017-08",
          "2017-09",
          "2017-10",
          "2017-11",
          "2017-12"
         ],
         "xaxis": "x",
         "y": [
          150,
          1470,
          1620,
          2560,
          3345,
          5095,
          8395,
          9345,
          10460,
          12080,
          13350,
          14670,
          14870,
          15590,
          17155,
          17820,
          18365,
          20205,
          21942,
          22731
         ],
         "yaxis": "y"
        },
        {
         "hoverlabel": {
          "namelength": 0
         },
         "hovertemplate": "color=84390<br>Time=%{x}<br>Cumulative Revenue=%{y}",
         "legendgroup": "84390",
         "line": {
          "color": "#FF97FF",
          "dash": "solid"
         },
         "mode": "lines",
         "name": "84390",
         "showlegend": true,
         "type": "scatter",
         "x": [
          "2016-06",
          "2016-09",
          "2016-10",
          "2016-11",
          "2016-12",
          "2017-01",
          "2017-02",
          "2017-03",
          "2017-04",
          "2017-05",
          "2017-06",
          "2017-07",
          "2017-09",
          "2017-10",
          "2017-11",
          "2017-12"
         ],
         "xaxis": "x",
         "y": [
          1390,
          1950,
          2595,
          4890,
          7080,
          10365,
          11465,
          12990,
          16805,
          17765,
          19915,
          20525,
          20850,
          21240,
          21915,
          23517
         ],
         "yaxis": "y"
        },
        {
         "hoverlabel": {
          "namelength": 0
         },
         "hovertemplate": "color=91828<br>Time=%{x}<br>Cumulative Revenue=%{y}",
         "legendgroup": "91828",
         "line": {
          "color": "#FECB52",
          "dash": "solid"
         },
         "mode": "lines",
         "name": "91828",
         "showlegend": true,
         "type": "scatter",
         "x": [
          "2016-04",
          "2016-05",
          "2016-06",
          "2016-07",
          "2016-08",
          "2016-09",
          "2016-10",
          "2016-11",
          "2016-12",
          "2017-01",
          "2017-02",
          "2017-03",
          "2017-04",
          "2017-06",
          "2017-07",
          "2017-08",
          "2017-09",
          "2017-10",
          "2017-11",
          "2017-12"
         ],
         "xaxis": "x",
         "y": [
          1745,
          2860,
          4990,
          19490,
          24425,
          26660,
          29365,
          32080,
          33060,
          38525,
          40040,
          40680,
          41645,
          42745,
          45040,
          49455,
          52860,
          59045,
          60339,
          68605
         ],
         "yaxis": "y"
        },
        {
         "hoverlabel": {
          "namelength": 0
         },
         "hovertemplate": "color=92778<br>Time=%{x}<br>Cumulative Revenue=%{y}",
         "legendgroup": "92778",
         "line": {
          "color": "#636efa",
          "dash": "solid"
         },
         "mode": "lines",
         "name": "92778",
         "showlegend": true,
         "type": "scatter",
         "x": [
          "2016-06",
          "2016-09",
          "2016-10",
          "2016-11",
          "2016-12",
          "2017-03",
          "2017-04",
          "2017-05",
          "2017-08",
          "2017-10",
          "2017-11"
         ],
         "xaxis": "x",
         "y": [
          1015,
          1460,
          1920,
          2415,
          4000,
          4650,
          4975,
          5650,
          6710,
          7440,
          7940
         ],
         "yaxis": "y"
        },
        {
         "hoverlabel": {
          "namelength": 0
         },
         "hovertemplate": "color=100699<br>Time=%{x}<br>Cumulative Revenue=%{y}",
         "legendgroup": "100699",
         "line": {
          "color": "#EF553B",
          "dash": "solid"
         },
         "mode": "lines",
         "name": "100699",
         "showlegend": true,
         "type": "scatter",
         "x": [
          "2016-05",
          "2016-06",
          "2016-07",
          "2016-08",
          "2016-09",
          "2016-10",
          "2016-11",
          "2016-12",
          "2017-01",
          "2017-02",
          "2017-03",
          "2017-04",
          "2017-05",
          "2017-06",
          "2017-07",
          "2017-08",
          "2017-09",
          "2017-10",
          "2017-11",
          "2017-12"
         ],
         "xaxis": "x",
         "y": [
          660,
          6750,
          14615,
          19660,
          25300,
          34330,
          37480,
          42195,
          47225,
          50945,
          56810,
          61695,
          65970,
          72860,
          78760,
          87175,
          93515,
          103000,
          110219,
          118012
         ],
         "yaxis": "y"
        },
        {
         "hoverlabel": {
          "namelength": 0
         },
         "hovertemplate": "color=100898<br>Time=%{x}<br>Cumulative Revenue=%{y}",
         "legendgroup": "100898",
         "line": {
          "color": "#00cc96",
          "dash": "solid"
         },
         "mode": "lines",
         "name": "100898",
         "showlegend": true,
         "type": "scatter",
         "x": [
          "2016-05",
          "2016-06",
          "2016-07",
          "2016-08",
          "2016-09",
          "2016-10",
          "2016-11",
          "2016-12",
          "2017-01",
          "2017-02",
          "2017-03",
          "2017-04",
          "2017-05",
          "2017-06",
          "2017-07",
          "2017-08",
          "2017-09",
          "2017-10",
          "2017-11",
          "2017-12"
         ],
         "xaxis": "x",
         "y": [
          2450,
          7960,
          22935,
          37495,
          44760,
          54270,
          57330,
          64340,
          70900,
          73335,
          73565,
          75625,
          77675,
          80870,
          81930,
          84815,
          86770,
          89895,
          90205,
          91668
         ],
         "yaxis": "y"
        },
        {
         "hoverlabel": {
          "namelength": 0
         },
         "hovertemplate": "color=100950<br>Time=%{x}<br>Cumulative Revenue=%{y}",
         "legendgroup": "100950",
         "line": {
          "color": "#ab63fa",
          "dash": "solid"
         },
         "mode": "lines",
         "name": "100950",
         "showlegend": true,
         "type": "scatter",
         "x": [
          "2016-05",
          "2016-06",
          "2016-08",
          "2016-10",
          "2016-11",
          "2017-02",
          "2017-03",
          "2017-05",
          "2017-06",
          "2017-07",
          "2017-08",
          "2017-09",
          "2017-10",
          "2017-11"
         ],
         "xaxis": "x",
         "y": [
          1285,
          2150,
          2745,
          3500,
          3890,
          4725,
          5385,
          7017,
          7962,
          9427,
          9727,
          11212,
          11802,
          14305
         ],
         "yaxis": "y"
        },
        {
         "hoverlabel": {
          "namelength": 0
         },
         "hovertemplate": "color=103267<br>Time=%{x}<br>Cumulative Revenue=%{y}",
         "legendgroup": "103267",
         "line": {
          "color": "#FFA15A",
          "dash": "solid"
         },
         "mode": "lines",
         "name": "103267",
         "showlegend": true,
         "type": "scatter",
         "x": [
          "2016-05",
          "2016-06",
          "2016-07",
          "2016-08",
          "2016-09",
          "2016-10",
          "2016-11",
          "2017-03",
          "2017-05",
          "2017-07",
          "2017-08",
          "2017-09",
          "2017-10",
          "2017-11",
          "2017-12"
         ],
         "xaxis": "x",
         "y": [
          620,
          1465,
          1775,
          2000,
          2150,
          2380,
          2580,
          3045,
          3855,
          4740,
          5745,
          6195,
          6925,
          8923,
          9922
         ],
         "yaxis": "y"
        },
        {
         "hoverlabel": {
          "namelength": 0
         },
         "hovertemplate": "color=103432<br>Time=%{x}<br>Cumulative Revenue=%{y}",
         "legendgroup": "103432",
         "line": {
          "color": "#19d3f3",
          "dash": "solid"
         },
         "mode": "lines",
         "name": "103432",
         "showlegend": true,
         "type": "scatter",
         "x": [
          "2016-05",
          "2016-06",
          "2016-08",
          "2016-10",
          "2016-11",
          "2017-01",
          "2017-03",
          "2017-04",
          "2017-06",
          "2017-07",
          "2017-09",
          "2017-10",
          "2017-11"
         ],
         "xaxis": "x",
         "y": [
          405,
          1600,
          2140,
          2705,
          2925,
          5765,
          6710,
          6955,
          7220,
          10380,
          11585,
          11945,
          12344
         ],
         "yaxis": "y"
        },
        {
         "hoverlabel": {
          "namelength": 0
         },
         "hovertemplate": "color=104902<br>Time=%{x}<br>Cumulative Revenue=%{y}",
         "legendgroup": "104902",
         "line": {
          "color": "#FF6692",
          "dash": "solid"
         },
         "mode": "lines",
         "name": "104902",
         "showlegend": true,
         "type": "scatter",
         "x": [
          "2016-06",
          "2016-09",
          "2016-10",
          "2016-11",
          "2016-12",
          "2017-01",
          "2017-03",
          "2017-04",
          "2017-05",
          "2017-06",
          "2017-07",
          "2017-08",
          "2017-09",
          "2017-10",
          "2017-11",
          "2017-12"
         ],
         "xaxis": "x",
         "y": [
          575,
          2150,
          4695,
          4895,
          5095,
          6150,
          7560,
          8085,
          8540,
          11150,
          12510,
          16010,
          17895,
          22360,
          31401,
          35978
         ],
         "yaxis": "y"
        },
        {
         "hoverlabel": {
          "namelength": 0
         },
         "hovertemplate": "color=105060<br>Time=%{x}<br>Cumulative Revenue=%{y}",
         "legendgroup": "105060",
         "line": {
          "color": "#B6E880",
          "dash": "solid"
         },
         "mode": "lines",
         "name": "105060",
         "showlegend": true,
         "type": "scatter",
         "x": [
          "2016-06",
          "2016-08",
          "2016-10",
          "2016-11",
          "2016-12",
          "2017-02",
          "2017-04",
          "2017-05",
          "2017-06",
          "2017-07",
          "2017-08",
          "2017-09",
          "2017-11",
          "2017-12"
         ],
         "xaxis": "x",
         "y": [
          265,
          515,
          2290,
          2860,
          3175,
          3550,
          5955,
          8500,
          9585,
          11595,
          11905,
          12705,
          13010,
          13338
         ],
         "yaxis": "y"
        },
        {
         "hoverlabel": {
          "namelength": 0
         },
         "hovertemplate": "color=110061<br>Time=%{x}<br>Cumulative Revenue=%{y}",
         "legendgroup": "110061",
         "line": {
          "color": "#FF97FF",
          "dash": "solid"
         },
         "mode": "lines",
         "name": "110061",
         "showlegend": true,
         "type": "scatter",
         "x": [
          "2016-06",
          "2016-08",
          "2016-09",
          "2017-01",
          "2017-02",
          "2017-03",
          "2017-04",
          "2017-05",
          "2017-06",
          "2017-07",
          "2017-08",
          "2017-09",
          "2017-10",
          "2017-11",
          "2017-12"
         ],
         "xaxis": "x",
         "y": [
          660,
          1490,
          1950,
          3695,
          4535,
          6145,
          7180,
          14035,
          16910,
          21280,
          23925,
          24790,
          25780,
          31353,
          31994
         ],
         "yaxis": "y"
        },
        {
         "hoverlabel": {
          "namelength": 0
         },
         "hovertemplate": "color=110553<br>Time=%{x}<br>Cumulative Revenue=%{y}",
         "legendgroup": "110553",
         "line": {
          "color": "#FECB52",
          "dash": "solid"
         },
         "mode": "lines",
         "name": "110553",
         "showlegend": true,
         "type": "scatter",
         "x": [
          "2016-06",
          "2016-07",
          "2016-08",
          "2016-09",
          "2016-10",
          "2016-11",
          "2016-12",
          "2017-01",
          "2017-02",
          "2017-04",
          "2017-05",
          "2017-06",
          "2017-07",
          "2017-08",
          "2017-09",
          "2017-10",
          "2017-11",
          "2017-12"
         ],
         "xaxis": "x",
         "y": [
          905,
          1760,
          4590,
          5825,
          7940,
          8975,
          10015,
          11975,
          12895,
          14660,
          15535,
          18870,
          19780,
          21900,
          24050,
          25165,
          26135,
          27403
         ],
         "yaxis": "y"
        }
       ],
       "layout": {
        "legend": {
         "title": {
          "text": "<b> Customer_ids </b>"
         },
         "tracegroupgap": 0
        },
        "margin": {
         "t": 60
        },
        "template": {
         "data": {
          "bar": [
           {
            "error_x": {
             "color": "#2a3f5f"
            },
            "error_y": {
             "color": "#2a3f5f"
            },
            "marker": {
             "line": {
              "color": "#E5ECF6",
              "width": 0.5
             }
            },
            "type": "bar"
           }
          ],
          "barpolar": [
           {
            "marker": {
             "line": {
              "color": "#E5ECF6",
              "width": 0.5
             }
            },
            "type": "barpolar"
           }
          ],
          "carpet": [
           {
            "aaxis": {
             "endlinecolor": "#2a3f5f",
             "gridcolor": "white",
             "linecolor": "white",
             "minorgridcolor": "white",
             "startlinecolor": "#2a3f5f"
            },
            "baxis": {
             "endlinecolor": "#2a3f5f",
             "gridcolor": "white",
             "linecolor": "white",
             "minorgridcolor": "white",
             "startlinecolor": "#2a3f5f"
            },
            "type": "carpet"
           }
          ],
          "choropleth": [
           {
            "colorbar": {
             "outlinewidth": 0,
             "ticks": ""
            },
            "type": "choropleth"
           }
          ],
          "contour": [
           {
            "colorbar": {
             "outlinewidth": 0,
             "ticks": ""
            },
            "colorscale": [
             [
              0,
              "#0d0887"
             ],
             [
              0.1111111111111111,
              "#46039f"
             ],
             [
              0.2222222222222222,
              "#7201a8"
             ],
             [
              0.3333333333333333,
              "#9c179e"
             ],
             [
              0.4444444444444444,
              "#bd3786"
             ],
             [
              0.5555555555555556,
              "#d8576b"
             ],
             [
              0.6666666666666666,
              "#ed7953"
             ],
             [
              0.7777777777777778,
              "#fb9f3a"
             ],
             [
              0.8888888888888888,
              "#fdca26"
             ],
             [
              1,
              "#f0f921"
             ]
            ],
            "type": "contour"
           }
          ],
          "contourcarpet": [
           {
            "colorbar": {
             "outlinewidth": 0,
             "ticks": ""
            },
            "type": "contourcarpet"
           }
          ],
          "heatmap": [
           {
            "colorbar": {
             "outlinewidth": 0,
             "ticks": ""
            },
            "colorscale": [
             [
              0,
              "#0d0887"
             ],
             [
              0.1111111111111111,
              "#46039f"
             ],
             [
              0.2222222222222222,
              "#7201a8"
             ],
             [
              0.3333333333333333,
              "#9c179e"
             ],
             [
              0.4444444444444444,
              "#bd3786"
             ],
             [
              0.5555555555555556,
              "#d8576b"
             ],
             [
              0.6666666666666666,
              "#ed7953"
             ],
             [
              0.7777777777777778,
              "#fb9f3a"
             ],
             [
              0.8888888888888888,
              "#fdca26"
             ],
             [
              1,
              "#f0f921"
             ]
            ],
            "type": "heatmap"
           }
          ],
          "heatmapgl": [
           {
            "colorbar": {
             "outlinewidth": 0,
             "ticks": ""
            },
            "colorscale": [
             [
              0,
              "#0d0887"
             ],
             [
              0.1111111111111111,
              "#46039f"
             ],
             [
              0.2222222222222222,
              "#7201a8"
             ],
             [
              0.3333333333333333,
              "#9c179e"
             ],
             [
              0.4444444444444444,
              "#bd3786"
             ],
             [
              0.5555555555555556,
              "#d8576b"
             ],
             [
              0.6666666666666666,
              "#ed7953"
             ],
             [
              0.7777777777777778,
              "#fb9f3a"
             ],
             [
              0.8888888888888888,
              "#fdca26"
             ],
             [
              1,
              "#f0f921"
             ]
            ],
            "type": "heatmapgl"
           }
          ],
          "histogram": [
           {
            "marker": {
             "colorbar": {
              "outlinewidth": 0,
              "ticks": ""
             }
            },
            "type": "histogram"
           }
          ],
          "histogram2d": [
           {
            "colorbar": {
             "outlinewidth": 0,
             "ticks": ""
            },
            "colorscale": [
             [
              0,
              "#0d0887"
             ],
             [
              0.1111111111111111,
              "#46039f"
             ],
             [
              0.2222222222222222,
              "#7201a8"
             ],
             [
              0.3333333333333333,
              "#9c179e"
             ],
             [
              0.4444444444444444,
              "#bd3786"
             ],
             [
              0.5555555555555556,
              "#d8576b"
             ],
             [
              0.6666666666666666,
              "#ed7953"
             ],
             [
              0.7777777777777778,
              "#fb9f3a"
             ],
             [
              0.8888888888888888,
              "#fdca26"
             ],
             [
              1,
              "#f0f921"
             ]
            ],
            "type": "histogram2d"
           }
          ],
          "histogram2dcontour": [
           {
            "colorbar": {
             "outlinewidth": 0,
             "ticks": ""
            },
            "colorscale": [
             [
              0,
              "#0d0887"
             ],
             [
              0.1111111111111111,
              "#46039f"
             ],
             [
              0.2222222222222222,
              "#7201a8"
             ],
             [
              0.3333333333333333,
              "#9c179e"
             ],
             [
              0.4444444444444444,
              "#bd3786"
             ],
             [
              0.5555555555555556,
              "#d8576b"
             ],
             [
              0.6666666666666666,
              "#ed7953"
             ],
             [
              0.7777777777777778,
              "#fb9f3a"
             ],
             [
              0.8888888888888888,
              "#fdca26"
             ],
             [
              1,
              "#f0f921"
             ]
            ],
            "type": "histogram2dcontour"
           }
          ],
          "mesh3d": [
           {
            "colorbar": {
             "outlinewidth": 0,
             "ticks": ""
            },
            "type": "mesh3d"
           }
          ],
          "parcoords": [
           {
            "line": {
             "colorbar": {
              "outlinewidth": 0,
              "ticks": ""
             }
            },
            "type": "parcoords"
           }
          ],
          "pie": [
           {
            "automargin": true,
            "type": "pie"
           }
          ],
          "scatter": [
           {
            "marker": {
             "colorbar": {
              "outlinewidth": 0,
              "ticks": ""
             }
            },
            "type": "scatter"
           }
          ],
          "scatter3d": [
           {
            "line": {
             "colorbar": {
              "outlinewidth": 0,
              "ticks": ""
             }
            },
            "marker": {
             "colorbar": {
              "outlinewidth": 0,
              "ticks": ""
             }
            },
            "type": "scatter3d"
           }
          ],
          "scattercarpet": [
           {
            "marker": {
             "colorbar": {
              "outlinewidth": 0,
              "ticks": ""
             }
            },
            "type": "scattercarpet"
           }
          ],
          "scattergeo": [
           {
            "marker": {
             "colorbar": {
              "outlinewidth": 0,
              "ticks": ""
             }
            },
            "type": "scattergeo"
           }
          ],
          "scattergl": [
           {
            "marker": {
             "colorbar": {
              "outlinewidth": 0,
              "ticks": ""
             }
            },
            "type": "scattergl"
           }
          ],
          "scattermapbox": [
           {
            "marker": {
             "colorbar": {
              "outlinewidth": 0,
              "ticks": ""
             }
            },
            "type": "scattermapbox"
           }
          ],
          "scatterpolar": [
           {
            "marker": {
             "colorbar": {
              "outlinewidth": 0,
              "ticks": ""
             }
            },
            "type": "scatterpolar"
           }
          ],
          "scatterpolargl": [
           {
            "marker": {
             "colorbar": {
              "outlinewidth": 0,
              "ticks": ""
             }
            },
            "type": "scatterpolargl"
           }
          ],
          "scatterternary": [
           {
            "marker": {
             "colorbar": {
              "outlinewidth": 0,
              "ticks": ""
             }
            },
            "type": "scatterternary"
           }
          ],
          "surface": [
           {
            "colorbar": {
             "outlinewidth": 0,
             "ticks": ""
            },
            "colorscale": [
             [
              0,
              "#0d0887"
             ],
             [
              0.1111111111111111,
              "#46039f"
             ],
             [
              0.2222222222222222,
              "#7201a8"
             ],
             [
              0.3333333333333333,
              "#9c179e"
             ],
             [
              0.4444444444444444,
              "#bd3786"
             ],
             [
              0.5555555555555556,
              "#d8576b"
             ],
             [
              0.6666666666666666,
              "#ed7953"
             ],
             [
              0.7777777777777778,
              "#fb9f3a"
             ],
             [
              0.8888888888888888,
              "#fdca26"
             ],
             [
              1,
              "#f0f921"
             ]
            ],
            "type": "surface"
           }
          ],
          "table": [
           {
            "cells": {
             "fill": {
              "color": "#EBF0F8"
             },
             "line": {
              "color": "white"
             }
            },
            "header": {
             "fill": {
              "color": "#C8D4E3"
             },
             "line": {
              "color": "white"
             }
            },
            "type": "table"
           }
          ]
         },
         "layout": {
          "annotationdefaults": {
           "arrowcolor": "#2a3f5f",
           "arrowhead": 0,
           "arrowwidth": 1
          },
          "coloraxis": {
           "colorbar": {
            "outlinewidth": 0,
            "ticks": ""
           }
          },
          "colorscale": {
           "diverging": [
            [
             0,
             "#8e0152"
            ],
            [
             0.1,
             "#c51b7d"
            ],
            [
             0.2,
             "#de77ae"
            ],
            [
             0.3,
             "#f1b6da"
            ],
            [
             0.4,
             "#fde0ef"
            ],
            [
             0.5,
             "#f7f7f7"
            ],
            [
             0.6,
             "#e6f5d0"
            ],
            [
             0.7,
             "#b8e186"
            ],
            [
             0.8,
             "#7fbc41"
            ],
            [
             0.9,
             "#4d9221"
            ],
            [
             1,
             "#276419"
            ]
           ],
           "sequential": [
            [
             0,
             "#0d0887"
            ],
            [
             0.1111111111111111,
             "#46039f"
            ],
            [
             0.2222222222222222,
             "#7201a8"
            ],
            [
             0.3333333333333333,
             "#9c179e"
            ],
            [
             0.4444444444444444,
             "#bd3786"
            ],
            [
             0.5555555555555556,
             "#d8576b"
            ],
            [
             0.6666666666666666,
             "#ed7953"
            ],
            [
             0.7777777777777778,
             "#fb9f3a"
            ],
            [
             0.8888888888888888,
             "#fdca26"
            ],
            [
             1,
             "#f0f921"
            ]
           ],
           "sequentialminus": [
            [
             0,
             "#0d0887"
            ],
            [
             0.1111111111111111,
             "#46039f"
            ],
            [
             0.2222222222222222,
             "#7201a8"
            ],
            [
             0.3333333333333333,
             "#9c179e"
            ],
            [
             0.4444444444444444,
             "#bd3786"
            ],
            [
             0.5555555555555556,
             "#d8576b"
            ],
            [
             0.6666666666666666,
             "#ed7953"
            ],
            [
             0.7777777777777778,
             "#fb9f3a"
            ],
            [
             0.8888888888888888,
             "#fdca26"
            ],
            [
             1,
             "#f0f921"
            ]
           ]
          },
          "colorway": [
           "#636efa",
           "#EF553B",
           "#00cc96",
           "#ab63fa",
           "#FFA15A",
           "#19d3f3",
           "#FF6692",
           "#B6E880",
           "#FF97FF",
           "#FECB52"
          ],
          "font": {
           "color": "#2a3f5f"
          },
          "geo": {
           "bgcolor": "white",
           "lakecolor": "white",
           "landcolor": "#E5ECF6",
           "showlakes": true,
           "showland": true,
           "subunitcolor": "white"
          },
          "hoverlabel": {
           "align": "left"
          },
          "hovermode": "closest",
          "mapbox": {
           "style": "light"
          },
          "paper_bgcolor": "white",
          "plot_bgcolor": "#E5ECF6",
          "polar": {
           "angularaxis": {
            "gridcolor": "white",
            "linecolor": "white",
            "ticks": ""
           },
           "bgcolor": "#E5ECF6",
           "radialaxis": {
            "gridcolor": "white",
            "linecolor": "white",
            "ticks": ""
           }
          },
          "scene": {
           "xaxis": {
            "backgroundcolor": "#E5ECF6",
            "gridcolor": "white",
            "gridwidth": 2,
            "linecolor": "white",
            "showbackground": true,
            "ticks": "",
            "zerolinecolor": "white"
           },
           "yaxis": {
            "backgroundcolor": "#E5ECF6",
            "gridcolor": "white",
            "gridwidth": 2,
            "linecolor": "white",
            "showbackground": true,
            "ticks": "",
            "zerolinecolor": "white"
           },
           "zaxis": {
            "backgroundcolor": "#E5ECF6",
            "gridcolor": "white",
            "gridwidth": 2,
            "linecolor": "white",
            "showbackground": true,
            "ticks": "",
            "zerolinecolor": "white"
           }
          },
          "shapedefaults": {
           "line": {
            "color": "#2a3f5f"
           }
          },
          "ternary": {
           "aaxis": {
            "gridcolor": "white",
            "linecolor": "white",
            "ticks": ""
           },
           "baxis": {
            "gridcolor": "white",
            "linecolor": "white",
            "ticks": ""
           },
           "bgcolor": "#E5ECF6",
           "caxis": {
            "gridcolor": "white",
            "linecolor": "white",
            "ticks": ""
           }
          },
          "title": {
           "x": 0.05
          },
          "xaxis": {
           "automargin": true,
           "gridcolor": "white",
           "linecolor": "white",
           "ticks": "",
           "title": {
            "standoff": 15
           },
           "zerolinecolor": "white",
           "zerolinewidth": 2
          },
          "yaxis": {
           "automargin": true,
           "gridcolor": "white",
           "linecolor": "white",
           "ticks": "",
           "title": {
            "standoff": 15
           },
           "zerolinecolor": "white",
           "zerolinewidth": 2
          }
         }
        },
        "xaxis": {
         "anchor": "y",
         "domain": [
          0,
          1
         ],
         "title": {
          "text": "Time"
         }
        },
        "yaxis": {
         "anchor": "x",
         "domain": [
          0,
          1
         ],
         "title": {
          "text": "Cumulative Revenue"
         }
        }
       }
      },
      "text/html": [
       "<div>\n",
       "        \n",
       "        \n",
       "            <div id=\"f16e876a-5b9e-4b2a-a724-d876fbee9bb4\" class=\"plotly-graph-div\" style=\"height:525px; width:100%;\"></div>\n",
       "            <script type=\"text/javascript\">\n",
       "                require([\"plotly\"], function(Plotly) {\n",
       "                    window.PLOTLYENV=window.PLOTLYENV || {};\n",
       "                    \n",
       "                if (document.getElementById(\"f16e876a-5b9e-4b2a-a724-d876fbee9bb4\")) {\n",
       "                    Plotly.newPlot(\n",
       "                        'f16e876a-5b9e-4b2a-a724-d876fbee9bb4',\n",
       "                        [{\"hoverlabel\": {\"namelength\": 0}, \"hovertemplate\": \"color=2444<br>Time=%{x}<br>Cumulative Revenue=%{y}\", \"legendgroup\": \"2444\", \"line\": {\"color\": \"#636efa\", \"dash\": \"solid\"}, \"mode\": \"lines\", \"name\": \"2444\", \"showlegend\": true, \"type\": \"scatter\", \"x\": [\"2016-01\", \"2016-02\", \"2016-03\", \"2016-04\", \"2016-05\", \"2016-06\", \"2016-08\", \"2016-09\", \"2016-10\", \"2016-11\", \"2016-12\", \"2017-01\", \"2017-02\", \"2017-03\", \"2017-04\", \"2017-05\", \"2017-08\", \"2017-09\", \"2017-10\", \"2017-11\", \"2017-12\"], \"xaxis\": \"x\", \"y\": [5710.0, 12620.0, 21330.0, 33015.0, 34950.0, 36880.0, 36980.0, 38170.0, 40890.0, 41115.0, 43210.0, 44485.0, 47050.0, 48215.0, 48530.0, 51115.0, 51835.0, 57790.0, 61045.0, 64370.0, 65364.0], \"yaxis\": \"y\"}, {\"hoverlabel\": {\"namelength\": 0}, \"hovertemplate\": \"color=2731<br>Time=%{x}<br>Cumulative Revenue=%{y}\", \"legendgroup\": \"2731\", \"line\": {\"color\": \"#EF553B\", \"dash\": \"solid\"}, \"mode\": \"lines\", \"name\": \"2731\", \"showlegend\": true, \"type\": \"scatter\", \"x\": [\"2016-01\", \"2016-02\", \"2016-03\", \"2016-04\", \"2016-05\", \"2016-06\", \"2016-07\", \"2016-08\", \"2016-09\", \"2016-10\", \"2016-11\", \"2016-12\", \"2017-01\", \"2017-02\", \"2017-03\", \"2017-04\", \"2017-05\", \"2017-06\", \"2017-07\", \"2017-08\", \"2017-09\", \"2017-10\", \"2017-11\", \"2017-12\"], \"xaxis\": \"x\", \"y\": [2240.0, 6710.0, 9620.0, 16050.0, 19110.0, 25255.0, 30585.0, 32970.0, 33235.0, 33585.0, 34535.0, 39615.0, 42470.0, 45685.0, 49370.0, 50725.0, 52165.0, 53855.0, 56680.0, 59340.0, 60105.0, 61835.0, 65583.0, 67364.0], \"yaxis\": \"y\"}, {\"hoverlabel\": {\"namelength\": 0}, \"hovertemplate\": \"color=3453<br>Time=%{x}<br>Cumulative Revenue=%{y}\", \"legendgroup\": \"3453\", \"line\": {\"color\": \"#00cc96\", \"dash\": \"solid\"}, \"mode\": \"lines\", \"name\": \"3453\", \"showlegend\": true, \"type\": \"scatter\", \"x\": [\"2016-02\", \"2016-03\", \"2016-04\", \"2016-05\", \"2016-06\", \"2016-07\", \"2016-09\", \"2016-11\", \"2016-12\", \"2017-01\", \"2017-02\", \"2017-03\", \"2017-04\", \"2017-05\", \"2017-06\", \"2017-07\", \"2017-09\", \"2017-10\", \"2017-11\", \"2017-12\"], \"xaxis\": \"x\", \"y\": [1490.0, 3960.0, 6440.0, 7650.0, 9910.0, 10515.0, 11075.0, 17135.0, 21480.0, 22040.0, 23565.0, 24050.0, 25540.0, 26670.0, 27240.0, 31755.0, 39245.0, 42060.0, 45275.0, 46128.0], \"yaxis\": \"y\"}, {\"hoverlabel\": {\"namelength\": 0}, \"hovertemplate\": \"color=4255<br>Time=%{x}<br>Cumulative Revenue=%{y}\", \"legendgroup\": \"4255\", \"line\": {\"color\": \"#ab63fa\", \"dash\": \"solid\"}, \"mode\": \"lines\", \"name\": \"4255\", \"showlegend\": true, \"type\": \"scatter\", \"x\": [\"2016-01\", \"2016-02\", \"2016-03\", \"2016-05\", \"2016-07\", \"2016-08\", \"2016-09\", \"2017-01\", \"2017-04\", \"2017-05\", \"2017-08\", \"2017-09\", \"2017-11\", \"2017-12\"], \"xaxis\": \"x\", \"y\": [910.0, 2290.0, 3170.0, 3360.0, 4160.0, 5320.0, 6255.0, 7090.0, 8040.0, 8855.0, 11340.0, 12380.0, 14101.0, 14523.0], \"yaxis\": \"y\"}, {\"hoverlabel\": {\"namelength\": 0}, \"hovertemplate\": \"color=6849<br>Time=%{x}<br>Cumulative Revenue=%{y}\", \"legendgroup\": \"6849\", \"line\": {\"color\": \"#FFA15A\", \"dash\": \"solid\"}, \"mode\": \"lines\", \"name\": \"6849\", \"showlegend\": true, \"type\": \"scatter\", \"x\": [\"2016-02\", \"2016-04\", \"2016-05\", \"2016-06\", \"2016-09\", \"2016-10\", \"2016-11\", \"2016-12\", \"2017-02\", \"2017-03\", \"2017-04\", \"2017-05\", \"2017-06\", \"2017-07\", \"2017-08\", \"2017-12\"], \"xaxis\": \"x\", \"y\": [680.0, 950.0, 1820.0, 2415.0, 4060.0, 4505.0, 5365.0, 6535.0, 6780.0, 10185.0, 14215.0, 17770.0, 21265.0, 33335.0, 36585.0, 38331.0], \"yaxis\": \"y\"}, {\"hoverlabel\": {\"namelength\": 0}, \"hovertemplate\": \"color=7624<br>Time=%{x}<br>Cumulative Revenue=%{y}\", \"legendgroup\": \"7624\", \"line\": {\"color\": \"#19d3f3\", \"dash\": \"solid\"}, \"mode\": \"lines\", \"name\": \"7624\", \"showlegend\": true, \"type\": \"scatter\", \"x\": [\"2016-04\", \"2016-08\", \"2016-09\", \"2016-11\", \"2017-03\", \"2017-04\", \"2017-05\", \"2017-06\", \"2017-09\", \"2017-10\", \"2017-11\", \"2017-12\"], \"xaxis\": \"x\", \"y\": [915.0, 3445.0, 4195.0, 5340.0, 5735.0, 6255.0, 6455.0, 8360.0, 12445.0, 14520.0, 15260.0, 16110.0], \"yaxis\": \"y\"}, {\"hoverlabel\": {\"namelength\": 0}, \"hovertemplate\": \"color=8938<br>Time=%{x}<br>Cumulative Revenue=%{y}\", \"legendgroup\": \"8938\", \"line\": {\"color\": \"#FF6692\", \"dash\": \"solid\"}, \"mode\": \"lines\", \"name\": \"8938\", \"showlegend\": true, \"type\": \"scatter\", \"x\": [\"2016-01\", \"2016-02\", \"2016-03\", \"2016-04\", \"2016-05\", \"2016-06\", \"2016-07\", \"2016-08\", \"2016-09\", \"2016-10\", \"2016-11\", \"2016-12\", \"2017-01\", \"2017-02\", \"2017-03\", \"2017-04\", \"2017-06\", \"2017-07\", \"2017-08\", \"2017-09\", \"2017-10\", \"2017-11\", \"2017-12\"], \"xaxis\": \"x\", \"y\": [2030.0, 3200.0, 6510.0, 8385.0, 10170.0, 12550.0, 13370.0, 15575.0, 17780.0, 21560.0, 25260.0, 28195.0, 34635.0, 35165.0, 37205.0, 37755.0, 38785.0, 43740.0, 46460.0, 46720.0, 49785.0, 51717.0, 57206.0], \"yaxis\": \"y\"}, {\"hoverlabel\": {\"namelength\": 0}, \"hovertemplate\": \"color=10939<br>Time=%{x}<br>Cumulative Revenue=%{y}\", \"legendgroup\": \"10939\", \"line\": {\"color\": \"#B6E880\", \"dash\": \"solid\"}, \"mode\": \"lines\", \"name\": \"10939\", \"showlegend\": true, \"type\": \"scatter\", \"x\": [\"2016-01\", \"2016-03\", \"2016-04\", \"2016-06\", \"2016-07\", \"2016-09\", \"2017-01\", \"2017-02\", \"2017-03\", \"2017-04\", \"2017-06\", \"2017-07\", \"2017-08\", \"2017-09\", \"2017-10\", \"2017-11\", \"2017-12\"], \"xaxis\": \"x\", \"y\": [1230.0, 1730.0, 2585.0, 3440.0, 4395.0, 4680.0, 5270.0, 6355.0, 7080.0, 8295.0, 9595.0, 10395.0, 13800.0, 14450.0, 14720.0, 15479.0, 17358.0], \"yaxis\": \"y\"}, {\"hoverlabel\": {\"namelength\": 0}, \"hovertemplate\": \"color=11384<br>Time=%{x}<br>Cumulative Revenue=%{y}\", \"legendgroup\": \"11384\", \"line\": {\"color\": \"#FF97FF\", \"dash\": \"solid\"}, \"mode\": \"lines\", \"name\": \"11384\", \"showlegend\": true, \"type\": \"scatter\", \"x\": [\"2016-01\", \"2016-03\", \"2016-07\", \"2016-08\", \"2016-09\", \"2017-01\", \"2017-05\", \"2017-06\", \"2017-07\", \"2017-08\", \"2017-09\", \"2017-10\", \"2017-11\", \"2017-12\"], \"xaxis\": \"x\", \"y\": [770.0, 2320.0, 3300.0, 3550.0, 4725.0, 5340.0, 5815.0, 15190.0, 35285.0, 54120.0, 84130.0, 116840.0, 129777.0, 134645.0], \"yaxis\": \"y\"}, {\"hoverlabel\": {\"namelength\": 0}, \"hovertemplate\": \"color=12397<br>Time=%{x}<br>Cumulative Revenue=%{y}\", \"legendgroup\": \"12397\", \"line\": {\"color\": \"#FECB52\", \"dash\": \"solid\"}, \"mode\": \"lines\", \"name\": \"12397\", \"showlegend\": true, \"type\": \"scatter\", \"x\": [\"2016-01\", \"2016-02\", \"2016-03\", \"2016-04\", \"2016-06\", \"2016-09\", \"2016-10\", \"2016-11\", \"2016-12\", \"2017-01\", \"2017-02\", \"2017-03\", \"2017-04\", \"2017-05\", \"2017-06\", \"2017-07\", \"2017-09\", \"2017-10\"], \"xaxis\": \"x\", \"y\": [1160.0, 4650.0, 5430.0, 5910.0, 6060.0, 7135.0, 8615.0, 9430.0, 10245.0, 11145.0, 12295.0, 12915.0, 13675.0, 14010.0, 15940.0, 16305.0, 19260.0, 20245.0], \"yaxis\": \"y\"}, {\"hoverlabel\": {\"namelength\": 0}, \"hovertemplate\": \"color=12426<br>Time=%{x}<br>Cumulative Revenue=%{y}\", \"legendgroup\": \"12426\", \"line\": {\"color\": \"#636efa\", \"dash\": \"solid\"}, \"mode\": \"lines\", \"name\": \"12426\", \"showlegend\": true, \"type\": \"scatter\", \"x\": [\"2016-01\", \"2016-02\", \"2016-03\", \"2016-04\", \"2016-05\", \"2016-06\", \"2016-07\", \"2016-08\", \"2016-09\", \"2016-10\", \"2016-11\", \"2016-12\", \"2017-03\", \"2017-04\", \"2017-06\", \"2017-07\", \"2017-08\", \"2017-09\", \"2017-10\", \"2017-11\", \"2017-12\"], \"xaxis\": \"x\", \"y\": [1040.0, 1510.0, 4440.0, 8480.0, 9385.0, 11375.0, 12390.0, 14695.0, 18475.0, 26875.0, 27600.0, 28110.0, 28575.0, 28805.0, 28905.0, 30645.0, 34155.0, 35440.0, 39230.0, 41100.0, 43388.0], \"yaxis\": \"y\"}, {\"hoverlabel\": {\"namelength\": 0}, \"hovertemplate\": \"color=13947<br>Time=%{x}<br>Cumulative Revenue=%{y}\", \"legendgroup\": \"13947\", \"line\": {\"color\": \"#EF553B\", \"dash\": \"solid\"}, \"mode\": \"lines\", \"name\": \"13947\", \"showlegend\": true, \"type\": \"scatter\", \"x\": [\"2016-06\", \"2016-07\", \"2016-08\", \"2016-10\", \"2016-11\", \"2016-12\", \"2017-03\", \"2017-06\", \"2017-07\", \"2017-08\", \"2017-09\"], \"xaxis\": \"x\", \"y\": [150.0, 390.0, 910.0, 1075.0, 2115.0, 2845.0, 3645.0, 4605.0, 4850.0, 6620.0, 6835.0], \"yaxis\": \"y\"}, {\"hoverlabel\": {\"namelength\": 0}, \"hovertemplate\": \"color=17803<br>Time=%{x}<br>Cumulative Revenue=%{y}\", \"legendgroup\": \"17803\", \"line\": {\"color\": \"#00cc96\", \"dash\": \"solid\"}, \"mode\": \"lines\", \"name\": \"17803\", \"showlegend\": true, \"type\": \"scatter\", \"x\": [\"2016-01\", \"2016-02\", \"2016-03\", \"2016-04\", \"2016-05\", \"2016-06\", \"2016-07\", \"2016-08\", \"2016-09\", \"2016-11\", \"2016-12\", \"2017-01\", \"2017-02\", \"2017-03\", \"2017-04\", \"2017-05\", \"2017-06\", \"2017-07\", \"2017-08\", \"2017-09\", \"2017-10\", \"2017-11\", \"2017-12\"], \"xaxis\": \"x\", \"y\": [770.0, 1420.0, 2830.0, 6225.0, 8090.0, 10325.0, 11040.0, 11195.0, 11345.0, 13055.0, 14905.0, 17200.0, 18320.0, 19540.0, 23125.0, 24740.0, 26790.0, 27875.0, 28135.0, 32480.0, 32700.0, 33167.0, 33429.0], \"yaxis\": \"y\"}, {\"hoverlabel\": {\"namelength\": 0}, \"hovertemplate\": \"color=19113<br>Time=%{x}<br>Cumulative Revenue=%{y}\", \"legendgroup\": \"19113\", \"line\": {\"color\": \"#ab63fa\", \"dash\": \"solid\"}, \"mode\": \"lines\", \"name\": \"19113\", \"showlegend\": true, \"type\": \"scatter\", \"x\": [\"2016-02\", \"2016-04\", \"2016-05\", \"2016-06\", \"2016-07\", \"2016-08\", \"2016-10\", \"2016-12\", \"2017-01\", \"2017-02\", \"2017-03\", \"2017-04\", \"2017-05\", \"2017-06\", \"2017-07\", \"2017-08\", \"2017-09\", \"2017-10\", \"2017-11\"], \"xaxis\": \"x\", \"y\": [1740.0, 4495.0, 8980.0, 11015.0, 11180.0, 13080.0, 13620.0, 14955.0, 15685.0, 16545.0, 19805.0, 22380.0, 23590.0, 26200.0, 26420.0, 28950.0, 29060.0, 29630.0, 29845.0], \"yaxis\": \"y\"}, {\"hoverlabel\": {\"namelength\": 0}, \"hovertemplate\": \"color=20299<br>Time=%{x}<br>Cumulative Revenue=%{y}\", \"legendgroup\": \"20299\", \"line\": {\"color\": \"#FFA15A\", \"dash\": \"solid\"}, \"mode\": \"lines\", \"name\": \"20299\", \"showlegend\": true, \"type\": \"scatter\", \"x\": [\"2016-01\", \"2016-02\", \"2016-03\", \"2016-04\", \"2016-07\", \"2016-09\", \"2016-11\", \"2016-12\", \"2017-05\", \"2017-07\", \"2017-08\", \"2017-09\", \"2017-10\", \"2017-11\", \"2017-12\"], \"xaxis\": \"x\", \"y\": [3600.0, 4940.0, 8950.0, 9240.0, 10640.0, 10930.0, 11555.0, 11755.0, 13470.0, 13595.0, 13845.0, 17165.0, 17720.0, 18345.0, 18549.0], \"yaxis\": \"y\"}, {\"hoverlabel\": {\"namelength\": 0}, \"hovertemplate\": \"color=21215<br>Time=%{x}<br>Cumulative Revenue=%{y}\", \"legendgroup\": \"21215\", \"line\": {\"color\": \"#19d3f3\", \"dash\": \"solid\"}, \"mode\": \"lines\", \"name\": \"21215\", \"showlegend\": true, \"type\": \"scatter\", \"x\": [\"2016-01\", \"2016-02\", \"2016-03\", \"2016-04\", \"2016-05\", \"2016-06\", \"2016-07\", \"2016-08\", \"2016-09\", \"2016-10\", \"2016-11\", \"2016-12\", \"2017-01\", \"2017-02\", \"2017-03\", \"2017-04\", \"2017-05\", \"2017-06\", \"2017-07\", \"2017-08\", \"2017-09\", \"2017-10\", \"2017-11\", \"2017-12\"], \"xaxis\": \"x\", \"y\": [2950.0, 8240.0, 14410.0, 18570.0, 21080.0, 26255.0, 35185.0, 44500.0, 55350.0, 61345.0, 70455.0, 80975.0, 92360.0, 96385.0, 101900.0, 109770.0, 115715.0, 125180.0, 131235.0, 140230.0, 146560.0, 155830.0, 161054.0, 170602.0], \"yaxis\": \"y\"}, {\"hoverlabel\": {\"namelength\": 0}, \"hovertemplate\": \"color=24859<br>Time=%{x}<br>Cumulative Revenue=%{y}\", \"legendgroup\": \"24859\", \"line\": {\"color\": \"#FF6692\", \"dash\": \"solid\"}, \"mode\": \"lines\", \"name\": \"24859\", \"showlegend\": true, \"type\": \"scatter\", \"x\": [\"2016-01\", \"2016-02\", \"2016-03\", \"2016-04\", \"2016-05\", \"2016-06\", \"2016-07\", \"2016-08\", \"2016-09\", \"2016-10\", \"2016-11\", \"2016-12\", \"2017-01\", \"2017-02\", \"2017-03\", \"2017-04\", \"2017-05\", \"2017-06\", \"2017-07\", \"2017-08\", \"2017-09\", \"2017-10\", \"2017-11\", \"2017-12\"], \"xaxis\": \"x\", \"y\": [2390.0, 5300.0, 9490.0, 13135.0, 16035.0, 19010.0, 21160.0, 26170.0, 29125.0, 32280.0, 33915.0, 34270.0, 36140.0, 37100.0, 41165.0, 42610.0, 46970.0, 49960.0, 54070.0, 58380.0, 62885.0, 70705.0, 76325.0, 82165.0], \"yaxis\": \"y\"}, {\"hoverlabel\": {\"namelength\": 0}, \"hovertemplate\": \"color=26847<br>Time=%{x}<br>Cumulative Revenue=%{y}\", \"legendgroup\": \"26847\", \"line\": {\"color\": \"#B6E880\", \"dash\": \"solid\"}, \"mode\": \"lines\", \"name\": \"26847\", \"showlegend\": true, \"type\": \"scatter\", \"x\": [\"2016-01\", \"2016-02\", \"2016-04\", \"2016-05\", \"2016-06\", \"2016-07\", \"2016-08\", \"2016-10\", \"2017-01\", \"2017-02\", \"2017-03\", \"2017-04\", \"2017-05\", \"2017-06\", \"2017-07\", \"2017-08\", \"2017-09\", \"2017-10\", \"2017-11\"], \"xaxis\": \"x\", \"y\": [1500.0, 2820.0, 6645.0, 10145.0, 12830.0, 16790.0, 17985.0, 18915.0, 20125.0, 23445.0, 24115.0, 24885.0, 25635.0, 30390.0, 31760.0, 33490.0, 34175.0, 36695.0, 37675.0], \"yaxis\": \"y\"}, {\"hoverlabel\": {\"namelength\": 0}, \"hovertemplate\": \"color=32297<br>Time=%{x}<br>Cumulative Revenue=%{y}\", \"legendgroup\": \"32297\", \"line\": {\"color\": \"#FF97FF\", \"dash\": \"solid\"}, \"mode\": \"lines\", \"name\": \"32297\", \"showlegend\": true, \"type\": \"scatter\", \"x\": [\"2016-03\", \"2016-04\", \"2016-05\", \"2016-06\", \"2016-07\", \"2016-08\", \"2016-11\", \"2016-12\", \"2017-01\", \"2017-02\", \"2017-03\", \"2017-04\", \"2017-05\", \"2017-07\", \"2017-08\", \"2017-10\", \"2017-12\"], \"xaxis\": \"x\", \"y\": [1010.0, 4990.0, 10290.0, 10720.0, 11865.0, 13030.0, 13600.0, 15915.0, 17670.0, 21185.0, 26870.0, 27310.0, 28415.0, 29690.0, 32260.0, 33535.0, 34366.0], \"yaxis\": \"y\"}, {\"hoverlabel\": {\"namelength\": 0}, \"hovertemplate\": \"color=33759<br>Time=%{x}<br>Cumulative Revenue=%{y}\", \"legendgroup\": \"33759\", \"line\": {\"color\": \"#FECB52\", \"dash\": \"solid\"}, \"mode\": \"lines\", \"name\": \"33759\", \"showlegend\": true, \"type\": \"scatter\", \"x\": [\"2016-01\", \"2016-02\", \"2016-03\", \"2016-07\", \"2016-08\", \"2016-10\", \"2017-01\", \"2017-02\", \"2017-03\", \"2017-04\", \"2017-06\", \"2017-07\", \"2017-08\", \"2017-09\", \"2017-10\", \"2017-12\"], \"xaxis\": \"x\", \"y\": [890.0, 2170.0, 2770.0, 4190.0, 6795.0, 12720.0, 14375.0, 15480.0, 19190.0, 20280.0, 23405.0, 26300.0, 30595.0, 31460.0, 32710.0, 33947.0], \"yaxis\": \"y\"}, {\"hoverlabel\": {\"namelength\": 0}, \"hovertemplate\": \"color=33846<br>Time=%{x}<br>Cumulative Revenue=%{y}\", \"legendgroup\": \"33846\", \"line\": {\"color\": \"#636efa\", \"dash\": \"solid\"}, \"mode\": \"lines\", \"name\": \"33846\", \"showlegend\": true, \"type\": \"scatter\", \"x\": [\"2016-01\", \"2016-03\", \"2016-04\", \"2016-05\", \"2016-06\", \"2016-07\", \"2016-08\", \"2016-09\", \"2016-10\", \"2016-11\", \"2016-12\", \"2017-01\", \"2017-02\", \"2017-03\", \"2017-04\", \"2017-05\", \"2017-06\", \"2017-07\", \"2017-08\", \"2017-09\", \"2017-10\", \"2017-11\", \"2017-12\"], \"xaxis\": \"x\", \"y\": [1250.0, 4630.0, 8120.0, 12930.0, 16825.0, 24505.0, 27540.0, 28515.0, 32765.0, 35575.0, 41780.0, 47595.0, 55690.0, 58185.0, 62635.0, 65110.0, 71055.0, 76150.0, 79860.0, 83455.0, 85725.0, 87094.0, 87496.0], \"yaxis\": \"y\"}, {\"hoverlabel\": {\"namelength\": 0}, \"hovertemplate\": \"color=35529<br>Time=%{x}<br>Cumulative Revenue=%{y}\", \"legendgroup\": \"35529\", \"line\": {\"color\": \"#EF553B\", \"dash\": \"solid\"}, \"mode\": \"lines\", \"name\": \"35529\", \"showlegend\": true, \"type\": \"scatter\", \"x\": [\"2016-03\", \"2016-04\", \"2016-05\", \"2016-06\", \"2016-07\", \"2016-08\", \"2016-11\", \"2016-12\", \"2017-02\", \"2017-03\", \"2017-04\", \"2017-05\", \"2017-06\", \"2017-07\", \"2017-08\", \"2017-09\", \"2017-10\", \"2017-11\", \"2017-12\"], \"xaxis\": \"x\", \"y\": [2380.0, 5125.0, 11970.0, 13295.0, 13465.0, 14625.0, 16595.0, 19045.0, 19520.0, 21900.0, 28475.0, 29120.0, 32570.0, 37250.0, 39210.0, 44530.0, 44935.0, 46351.0, 56595.0], \"yaxis\": \"y\"}, {\"hoverlabel\": {\"namelength\": 0}, \"hovertemplate\": \"color=37066<br>Time=%{x}<br>Cumulative Revenue=%{y}\", \"legendgroup\": \"37066\", \"line\": {\"color\": \"#00cc96\", \"dash\": \"solid\"}, \"mode\": \"lines\", \"name\": \"37066\", \"showlegend\": true, \"type\": \"scatter\", \"x\": [\"2016-04\", \"2016-05\", \"2016-06\", \"2016-07\", \"2016-08\", \"2016-09\", \"2016-10\", \"2016-11\", \"2016-12\", \"2017-01\", \"2017-02\", \"2017-03\", \"2017-04\", \"2017-05\", \"2017-06\", \"2017-07\", \"2017-08\", \"2017-09\", \"2017-10\", \"2017-11\", \"2017-12\"], \"xaxis\": \"x\", \"y\": [2325.0, 13765.0, 29820.0, 38635.0, 53810.0, 68305.0, 83370.0, 90425.0, 103275.0, 111175.0, 116965.0, 121045.0, 125520.0, 129425.0, 132565.0, 140910.0, 153245.0, 165790.0, 179345.0, 190512.0, 197686.0], \"yaxis\": \"y\"}, {\"hoverlabel\": {\"namelength\": 0}, \"hovertemplate\": \"color=37163<br>Time=%{x}<br>Cumulative Revenue=%{y}\", \"legendgroup\": \"37163\", \"line\": {\"color\": \"#ab63fa\", \"dash\": \"solid\"}, \"mode\": \"lines\", \"name\": \"37163\", \"showlegend\": true, \"type\": \"scatter\", \"x\": [\"2016-02\", \"2016-03\", \"2016-04\", \"2016-05\", \"2016-06\", \"2016-07\", \"2016-08\", \"2016-09\", \"2016-10\", \"2016-11\", \"2016-12\", \"2017-01\", \"2017-02\", \"2017-03\", \"2017-04\", \"2017-05\", \"2017-08\", \"2017-09\", \"2017-12\"], \"xaxis\": \"x\", \"y\": [540.0, 860.0, 1115.0, 4095.0, 6760.0, 10250.0, 15410.0, 15990.0, 17425.0, 17820.0, 22700.0, 24635.0, 29060.0, 29315.0, 30155.0, 30815.0, 34625.0, 38420.0, 39144.0], \"yaxis\": \"y\"}, {\"hoverlabel\": {\"namelength\": 0}, \"hovertemplate\": \"color=37740<br>Time=%{x}<br>Cumulative Revenue=%{y}\", \"legendgroup\": \"37740\", \"line\": {\"color\": \"#FFA15A\", \"dash\": \"solid\"}, \"mode\": \"lines\", \"name\": \"37740\", \"showlegend\": true, \"type\": \"scatter\", \"x\": [\"2016-01\", \"2016-04\", \"2016-06\", \"2016-07\", \"2016-08\", \"2016-09\", \"2016-10\", \"2016-11\", \"2017-01\", \"2017-02\", \"2017-04\", \"2017-05\", \"2017-07\", \"2017-08\", \"2017-09\", \"2017-10\", \"2017-12\"], \"xaxis\": \"x\", \"y\": [630.0, 1100.0, 2130.0, 2800.0, 4105.0, 5350.0, 6475.0, 7185.0, 8000.0, 8735.0, 9315.0, 9595.0, 10405.0, 11585.0, 11925.0, 12690.0, 12944.0], \"yaxis\": \"y\"}, {\"hoverlabel\": {\"namelength\": 0}, \"hovertemplate\": \"color=38809<br>Time=%{x}<br>Cumulative Revenue=%{y}\", \"legendgroup\": \"38809\", \"line\": {\"color\": \"#19d3f3\", \"dash\": \"solid\"}, \"mode\": \"lines\", \"name\": \"38809\", \"showlegend\": true, \"type\": \"scatter\", \"x\": [\"2016-04\", \"2016-05\", \"2016-06\", \"2016-07\", \"2016-09\", \"2016-11\", \"2016-12\", \"2017-01\", \"2017-02\", \"2017-05\", \"2017-06\", \"2017-07\", \"2017-08\", \"2017-09\", \"2017-11\", \"2017-12\"], \"xaxis\": \"x\", \"y\": [2330.0, 7035.0, 9550.0, 10400.0, 12025.0, 13050.0, 15130.0, 15395.0, 16260.0, 17610.0, 22140.0, 23475.0, 30010.0, 32335.0, 32860.0, 34495.0], \"yaxis\": \"y\"}, {\"hoverlabel\": {\"namelength\": 0}, \"hovertemplate\": \"color=38845<br>Time=%{x}<br>Cumulative Revenue=%{y}\", \"legendgroup\": \"38845\", \"line\": {\"color\": \"#FF6692\", \"dash\": \"solid\"}, \"mode\": \"lines\", \"name\": \"38845\", \"showlegend\": true, \"type\": \"scatter\", \"x\": [\"2016-02\", \"2016-03\", \"2016-04\", \"2016-05\", \"2016-06\", \"2016-08\", \"2016-09\", \"2016-10\", \"2017-02\", \"2017-03\", \"2017-04\", \"2017-08\", \"2017-09\", \"2017-10\", \"2017-11\", \"2017-12\"], \"xaxis\": \"x\", \"y\": [330.0, 440.0, 865.0, 1205.0, 2560.0, 3620.0, 4175.0, 4855.0, 5270.0, 5920.0, 6850.0, 7155.0, 7655.0, 9370.0, 9778.0, 10114.0], \"yaxis\": \"y\"}, {\"hoverlabel\": {\"namelength\": 0}, \"hovertemplate\": \"color=39603<br>Time=%{x}<br>Cumulative Revenue=%{y}\", \"legendgroup\": \"39603\", \"line\": {\"color\": \"#B6E880\", \"dash\": \"solid\"}, \"mode\": \"lines\", \"name\": \"39603\", \"showlegend\": true, \"type\": \"scatter\", \"x\": [\"2016-01\", \"2016-02\", \"2016-03\", \"2016-04\", \"2016-05\", \"2016-06\", \"2016-07\", \"2016-08\", \"2016-09\", \"2016-10\", \"2016-11\", \"2016-12\", \"2017-01\", \"2017-02\", \"2017-03\", \"2017-04\", \"2017-05\", \"2017-06\", \"2017-09\", \"2017-10\", \"2017-11\", \"2017-12\"], \"xaxis\": \"x\", \"y\": [760.0, 2840.0, 4390.0, 15905.0, 22540.0, 24625.0, 27015.0, 27805.0, 29000.0, 35480.0, 44825.0, 78295.0, 91150.0, 106650.0, 110265.0, 118440.0, 123865.0, 124120.0, 126015.0, 129000.0, 144278.0, 154019.0], \"yaxis\": \"y\"}, {\"hoverlabel\": {\"namelength\": 0}, \"hovertemplate\": \"color=39668<br>Time=%{x}<br>Cumulative Revenue=%{y}\", \"legendgroup\": \"39668\", \"line\": {\"color\": \"#FF97FF\", \"dash\": \"solid\"}, \"mode\": \"lines\", \"name\": \"39668\", \"showlegend\": true, \"type\": \"scatter\", \"x\": [\"2016-01\", \"2016-02\", \"2016-03\", \"2016-04\", \"2016-05\", \"2016-06\", \"2016-07\", \"2016-08\", \"2016-09\", \"2016-10\", \"2016-11\", \"2016-12\", \"2017-01\", \"2017-02\", \"2017-03\", \"2017-04\", \"2017-05\", \"2017-06\", \"2017-07\", \"2017-09\", \"2017-10\", \"2017-11\"], \"xaxis\": \"x\", \"y\": [3676.0, 8726.0, 17746.0, 20031.0, 24136.0, 31551.0, 32451.0, 35981.0, 44816.0, 52846.0, 55461.0, 57561.0, 64526.0, 65936.0, 69756.0, 70376.0, 72276.0, 74481.0, 76801.0, 80961.0, 87081.0, 90846.0], \"yaxis\": \"y\"}, {\"hoverlabel\": {\"namelength\": 0}, \"hovertemplate\": \"color=44367<br>Time=%{x}<br>Cumulative Revenue=%{y}\", \"legendgroup\": \"44367\", \"line\": {\"color\": \"#FECB52\", \"dash\": \"solid\"}, \"mode\": \"lines\", \"name\": \"44367\", \"showlegend\": true, \"type\": \"scatter\", \"x\": [\"2016-02\", \"2016-03\", \"2016-04\", \"2016-05\", \"2016-06\", \"2016-07\", \"2016-08\", \"2016-09\", \"2016-10\", \"2016-11\", \"2016-12\", \"2017-01\", \"2017-02\", \"2017-03\", \"2017-04\", \"2017-05\", \"2017-06\", \"2017-07\", \"2017-08\", \"2017-09\", \"2017-10\", \"2017-11\", \"2017-12\"], \"xaxis\": \"x\", \"y\": [290.0, 930.0, 7595.0, 17980.0, 22215.0, 26115.0, 28835.0, 31430.0, 35185.0, 40785.0, 46825.0, 49390.0, 50705.0, 54720.0, 54805.0, 56830.0, 58200.0, 64075.0, 68000.0, 73285.0, 83110.0, 91478.0, 97941.0], \"yaxis\": \"y\"}, {\"hoverlabel\": {\"namelength\": 0}, \"hovertemplate\": \"color=45645<br>Time=%{x}<br>Cumulative Revenue=%{y}\", \"legendgroup\": \"45645\", \"line\": {\"color\": \"#636efa\", \"dash\": \"solid\"}, \"mode\": \"lines\", \"name\": \"45645\", \"showlegend\": true, \"type\": \"scatter\", \"x\": [\"2016-01\", \"2016-02\", \"2016-03\", \"2016-04\", \"2016-05\", \"2016-06\", \"2016-07\", \"2016-08\", \"2016-09\", \"2016-10\", \"2016-11\", \"2016-12\", \"2017-01\", \"2017-02\", \"2017-03\", \"2017-04\", \"2017-05\", \"2017-06\", \"2017-07\", \"2017-08\", \"2017-09\", \"2017-10\", \"2017-11\", \"2017-12\"], \"xaxis\": \"x\", \"y\": [3780.0, 9750.0, 12900.0, 20065.0, 24320.0, 28130.0, 33675.0, 40850.0, 48975.0, 58355.0, 63215.0, 68110.0, 74230.0, 80930.0, 87310.0, 91470.0, 96655.0, 102750.0, 107265.0, 110430.0, 117760.0, 124835.0, 128391.0, 135408.0], \"yaxis\": \"y\"}, {\"hoverlabel\": {\"namelength\": 0}, \"hovertemplate\": \"color=48366<br>Time=%{x}<br>Cumulative Revenue=%{y}\", \"legendgroup\": \"48366\", \"line\": {\"color\": \"#EF553B\", \"dash\": \"solid\"}, \"mode\": \"lines\", \"name\": \"48366\", \"showlegend\": true, \"type\": \"scatter\", \"x\": [\"2016-01\", \"2016-02\", \"2016-03\", \"2016-04\", \"2016-05\", \"2016-06\", \"2016-07\", \"2016-08\", \"2016-09\", \"2016-10\", \"2016-11\", \"2016-12\", \"2017-01\", \"2017-02\", \"2017-03\", \"2017-04\", \"2017-05\", \"2017-06\", \"2017-07\", \"2017-08\", \"2017-09\", \"2017-10\", \"2017-11\", \"2017-12\"], \"xaxis\": \"x\", \"y\": [1801.0, 4571.0, 9381.0, 18001.0, 24821.0, 31771.0, 41176.0, 54201.0, 60596.0, 69151.0, 76646.0, 86776.0, 97241.0, 107846.0, 117306.0, 127581.0, 138036.0, 146576.0, 160781.0, 170421.0, 173866.0, 177791.0, 178198.0, 179528.0], \"yaxis\": \"y\"}, {\"hoverlabel\": {\"namelength\": 0}, \"hovertemplate\": \"color=51438<br>Time=%{x}<br>Cumulative Revenue=%{y}\", \"legendgroup\": \"51438\", \"line\": {\"color\": \"#00cc96\", \"dash\": \"solid\"}, \"mode\": \"lines\", \"name\": \"51438\", \"showlegend\": true, \"type\": \"scatter\", \"x\": [\"2016-01\", \"2016-04\", \"2016-07\", \"2016-08\", \"2016-09\", \"2016-10\", \"2016-11\", \"2016-12\", \"2017-01\", \"2017-03\", \"2017-04\", \"2017-05\", \"2017-06\", \"2017-07\", \"2017-08\", \"2017-09\", \"2017-10\", \"2017-11\", \"2017-12\"], \"xaxis\": \"x\", \"y\": [1540.0, 2155.0, 3310.0, 5570.0, 7365.0, 8700.0, 8880.0, 10710.0, 13315.0, 13830.0, 15045.0, 15230.0, 18255.0, 22225.0, 25940.0, 27525.0, 28845.0, 29573.0, 30217.0], \"yaxis\": \"y\"}, {\"hoverlabel\": {\"namelength\": 0}, \"hovertemplate\": \"color=60707<br>Time=%{x}<br>Cumulative Revenue=%{y}\", \"legendgroup\": \"60707\", \"line\": {\"color\": \"#ab63fa\", \"dash\": \"solid\"}, \"mode\": \"lines\", \"name\": \"60707\", \"showlegend\": true, \"type\": \"scatter\", \"x\": [\"2016-01\", \"2016-02\", \"2016-03\", \"2016-04\", \"2016-06\", \"2016-07\", \"2016-08\", \"2016-09\", \"2016-10\", \"2016-11\", \"2016-12\", \"2017-01\", \"2017-02\", \"2017-03\", \"2017-04\", \"2017-07\", \"2017-08\", \"2017-09\", \"2017-10\", \"2017-11\", \"2017-12\"], \"xaxis\": \"x\", \"y\": [2660.0, 6250.0, 8670.0, 9115.0, 10735.0, 11870.0, 15340.0, 15990.0, 20000.0, 22335.0, 28495.0, 34020.0, 37045.0, 39265.0, 42315.0, 44305.0, 48445.0, 50145.0, 53510.0, 61974.0, 70833.0], \"yaxis\": \"y\"}, {\"hoverlabel\": {\"namelength\": 0}, \"hovertemplate\": \"color=64290<br>Time=%{x}<br>Cumulative Revenue=%{y}\", \"legendgroup\": \"64290\", \"line\": {\"color\": \"#FFA15A\", \"dash\": \"solid\"}, \"mode\": \"lines\", \"name\": \"64290\", \"showlegend\": true, \"type\": \"scatter\", \"x\": [\"2016-01\", \"2016-02\", \"2016-03\", \"2016-04\", \"2016-05\", \"2016-06\", \"2016-07\", \"2016-08\", \"2016-09\", \"2016-10\", \"2016-11\", \"2016-12\", \"2017-01\", \"2017-02\", \"2017-04\", \"2017-05\", \"2017-06\", \"2017-07\", \"2017-08\", \"2017-09\", \"2017-10\", \"2017-11\", \"2017-12\"], \"xaxis\": \"x\", \"y\": [2940.0, 10140.0, 17000.0, 17600.0, 19185.0, 20355.0, 21210.0, 23430.0, 24585.0, 27165.0, 27610.0, 29245.0, 29690.0, 30975.0, 32315.0, 33865.0, 34440.0, 34775.0, 37005.0, 41295.0, 42720.0, 44286.0, 47432.0], \"yaxis\": \"y\"}, {\"hoverlabel\": {\"namelength\": 0}, \"hovertemplate\": \"color=68988<br>Time=%{x}<br>Cumulative Revenue=%{y}\", \"legendgroup\": \"68988\", \"line\": {\"color\": \"#19d3f3\", \"dash\": \"solid\"}, \"mode\": \"lines\", \"name\": \"68988\", \"showlegend\": true, \"type\": \"scatter\", \"x\": [\"2016-01\", \"2016-02\", \"2016-03\", \"2016-04\", \"2016-05\", \"2016-06\", \"2016-07\", \"2016-08\", \"2016-09\", \"2016-10\", \"2017-01\", \"2017-04\", \"2017-06\", \"2017-07\", \"2017-11\"], \"xaxis\": \"x\", \"y\": [2400.0, 4510.0, 6050.0, 7255.0, 8720.0, 9060.0, 10565.0, 12495.0, 13575.0, 14700.0, 14990.0, 18110.0, 20115.0, 20900.0, 21746.0], \"yaxis\": \"y\"}, {\"hoverlabel\": {\"namelength\": 0}, \"hovertemplate\": \"color=69133<br>Time=%{x}<br>Cumulative Revenue=%{y}\", \"legendgroup\": \"69133\", \"line\": {\"color\": \"#FF6692\", \"dash\": \"solid\"}, \"mode\": \"lines\", \"name\": \"69133\", \"showlegend\": true, \"type\": \"scatter\", \"x\": [\"2016-01\", \"2016-02\", \"2016-03\", \"2016-04\", \"2016-06\", \"2016-07\", \"2016-08\", \"2016-09\", \"2016-10\", \"2016-11\", \"2016-12\", \"2017-01\", \"2017-02\", \"2017-03\", \"2017-04\", \"2017-05\", \"2017-06\", \"2017-07\", \"2017-08\", \"2017-09\", \"2017-10\", \"2017-11\", \"2017-12\"], \"xaxis\": \"x\", \"y\": [760.0, 4860.0, 7520.0, 7745.0, 11420.0, 16535.0, 19130.0, 21860.0, 24165.0, 27000.0, 28470.0, 35630.0, 39655.0, 48635.0, 60075.0, 73640.0, 86880.0, 93345.0, 99260.0, 108280.0, 112120.0, 112616.0, 113372.0], \"yaxis\": \"y\"}, {\"hoverlabel\": {\"namelength\": 0}, \"hovertemplate\": \"color=79853<br>Time=%{x}<br>Cumulative Revenue=%{y}\", \"legendgroup\": \"79853\", \"line\": {\"color\": \"#B6E880\", \"dash\": \"solid\"}, \"mode\": \"lines\", \"name\": \"79853\", \"showlegend\": true, \"type\": \"scatter\", \"x\": [\"2016-02\", \"2016-03\", \"2016-04\", \"2016-05\", \"2016-06\", \"2016-07\", \"2016-08\", \"2016-09\", \"2016-10\", \"2016-11\", \"2016-12\", \"2017-01\", \"2017-03\", \"2017-06\", \"2017-07\", \"2017-08\", \"2017-09\", \"2017-10\", \"2017-11\", \"2017-12\"], \"xaxis\": \"x\", \"y\": [150.0, 1470.0, 1620.0, 2560.0, 3345.0, 5095.0, 8395.0, 9345.0, 10460.0, 12080.0, 13350.0, 14670.0, 14870.0, 15590.0, 17155.0, 17820.0, 18365.0, 20205.0, 21942.0, 22731.0], \"yaxis\": \"y\"}, {\"hoverlabel\": {\"namelength\": 0}, \"hovertemplate\": \"color=84390<br>Time=%{x}<br>Cumulative Revenue=%{y}\", \"legendgroup\": \"84390\", \"line\": {\"color\": \"#FF97FF\", \"dash\": \"solid\"}, \"mode\": \"lines\", \"name\": \"84390\", \"showlegend\": true, \"type\": \"scatter\", \"x\": [\"2016-06\", \"2016-09\", \"2016-10\", \"2016-11\", \"2016-12\", \"2017-01\", \"2017-02\", \"2017-03\", \"2017-04\", \"2017-05\", \"2017-06\", \"2017-07\", \"2017-09\", \"2017-10\", \"2017-11\", \"2017-12\"], \"xaxis\": \"x\", \"y\": [1390.0, 1950.0, 2595.0, 4890.0, 7080.0, 10365.0, 11465.0, 12990.0, 16805.0, 17765.0, 19915.0, 20525.0, 20850.0, 21240.0, 21915.0, 23517.0], \"yaxis\": \"y\"}, {\"hoverlabel\": {\"namelength\": 0}, \"hovertemplate\": \"color=91828<br>Time=%{x}<br>Cumulative Revenue=%{y}\", \"legendgroup\": \"91828\", \"line\": {\"color\": \"#FECB52\", \"dash\": \"solid\"}, \"mode\": \"lines\", \"name\": \"91828\", \"showlegend\": true, \"type\": \"scatter\", \"x\": [\"2016-04\", \"2016-05\", \"2016-06\", \"2016-07\", \"2016-08\", \"2016-09\", \"2016-10\", \"2016-11\", \"2016-12\", \"2017-01\", \"2017-02\", \"2017-03\", \"2017-04\", \"2017-06\", \"2017-07\", \"2017-08\", \"2017-09\", \"2017-10\", \"2017-11\", \"2017-12\"], \"xaxis\": \"x\", \"y\": [1745.0, 2860.0, 4990.0, 19490.0, 24425.0, 26660.0, 29365.0, 32080.0, 33060.0, 38525.0, 40040.0, 40680.0, 41645.0, 42745.0, 45040.0, 49455.0, 52860.0, 59045.0, 60339.0, 68605.0], \"yaxis\": \"y\"}, {\"hoverlabel\": {\"namelength\": 0}, \"hovertemplate\": \"color=92778<br>Time=%{x}<br>Cumulative Revenue=%{y}\", \"legendgroup\": \"92778\", \"line\": {\"color\": \"#636efa\", \"dash\": \"solid\"}, \"mode\": \"lines\", \"name\": \"92778\", \"showlegend\": true, \"type\": \"scatter\", \"x\": [\"2016-06\", \"2016-09\", \"2016-10\", \"2016-11\", \"2016-12\", \"2017-03\", \"2017-04\", \"2017-05\", \"2017-08\", \"2017-10\", \"2017-11\"], \"xaxis\": \"x\", \"y\": [1015.0, 1460.0, 1920.0, 2415.0, 4000.0, 4650.0, 4975.0, 5650.0, 6710.0, 7440.0, 7940.0], \"yaxis\": \"y\"}, {\"hoverlabel\": {\"namelength\": 0}, \"hovertemplate\": \"color=100699<br>Time=%{x}<br>Cumulative Revenue=%{y}\", \"legendgroup\": \"100699\", \"line\": {\"color\": \"#EF553B\", \"dash\": \"solid\"}, \"mode\": \"lines\", \"name\": \"100699\", \"showlegend\": true, \"type\": \"scatter\", \"x\": [\"2016-05\", \"2016-06\", \"2016-07\", \"2016-08\", \"2016-09\", \"2016-10\", \"2016-11\", \"2016-12\", \"2017-01\", \"2017-02\", \"2017-03\", \"2017-04\", \"2017-05\", \"2017-06\", \"2017-07\", \"2017-08\", \"2017-09\", \"2017-10\", \"2017-11\", \"2017-12\"], \"xaxis\": \"x\", \"y\": [660.0, 6750.0, 14615.0, 19660.0, 25300.0, 34330.0, 37480.0, 42195.0, 47225.0, 50945.0, 56810.0, 61695.0, 65970.0, 72860.0, 78760.0, 87175.0, 93515.0, 103000.0, 110219.0, 118012.0], \"yaxis\": \"y\"}, {\"hoverlabel\": {\"namelength\": 0}, \"hovertemplate\": \"color=100898<br>Time=%{x}<br>Cumulative Revenue=%{y}\", \"legendgroup\": \"100898\", \"line\": {\"color\": \"#00cc96\", \"dash\": \"solid\"}, \"mode\": \"lines\", \"name\": \"100898\", \"showlegend\": true, \"type\": \"scatter\", \"x\": [\"2016-05\", \"2016-06\", \"2016-07\", \"2016-08\", \"2016-09\", \"2016-10\", \"2016-11\", \"2016-12\", \"2017-01\", \"2017-02\", \"2017-03\", \"2017-04\", \"2017-05\", \"2017-06\", \"2017-07\", \"2017-08\", \"2017-09\", \"2017-10\", \"2017-11\", \"2017-12\"], \"xaxis\": \"x\", \"y\": [2450.0, 7960.0, 22935.0, 37495.0, 44760.0, 54270.0, 57330.0, 64340.0, 70900.0, 73335.0, 73565.0, 75625.0, 77675.0, 80870.0, 81930.0, 84815.0, 86770.0, 89895.0, 90205.0, 91668.0], \"yaxis\": \"y\"}, {\"hoverlabel\": {\"namelength\": 0}, \"hovertemplate\": \"color=100950<br>Time=%{x}<br>Cumulative Revenue=%{y}\", \"legendgroup\": \"100950\", \"line\": {\"color\": \"#ab63fa\", \"dash\": \"solid\"}, \"mode\": \"lines\", \"name\": \"100950\", \"showlegend\": true, \"type\": \"scatter\", \"x\": [\"2016-05\", \"2016-06\", \"2016-08\", \"2016-10\", \"2016-11\", \"2017-02\", \"2017-03\", \"2017-05\", \"2017-06\", \"2017-07\", \"2017-08\", \"2017-09\", \"2017-10\", \"2017-11\"], \"xaxis\": \"x\", \"y\": [1285.0, 2150.0, 2745.0, 3500.0, 3890.0, 4725.0, 5385.0, 7017.0, 7962.0, 9427.0, 9727.0, 11212.0, 11802.0, 14305.0], \"yaxis\": \"y\"}, {\"hoverlabel\": {\"namelength\": 0}, \"hovertemplate\": \"color=103267<br>Time=%{x}<br>Cumulative Revenue=%{y}\", \"legendgroup\": \"103267\", \"line\": {\"color\": \"#FFA15A\", \"dash\": \"solid\"}, \"mode\": \"lines\", \"name\": \"103267\", \"showlegend\": true, \"type\": \"scatter\", \"x\": [\"2016-05\", \"2016-06\", \"2016-07\", \"2016-08\", \"2016-09\", \"2016-10\", \"2016-11\", \"2017-03\", \"2017-05\", \"2017-07\", \"2017-08\", \"2017-09\", \"2017-10\", \"2017-11\", \"2017-12\"], \"xaxis\": \"x\", \"y\": [620.0, 1465.0, 1775.0, 2000.0, 2150.0, 2380.0, 2580.0, 3045.0, 3855.0, 4740.0, 5745.0, 6195.0, 6925.0, 8923.0, 9922.0], \"yaxis\": \"y\"}, {\"hoverlabel\": {\"namelength\": 0}, \"hovertemplate\": \"color=103432<br>Time=%{x}<br>Cumulative Revenue=%{y}\", \"legendgroup\": \"103432\", \"line\": {\"color\": \"#19d3f3\", \"dash\": \"solid\"}, \"mode\": \"lines\", \"name\": \"103432\", \"showlegend\": true, \"type\": \"scatter\", \"x\": [\"2016-05\", \"2016-06\", \"2016-08\", \"2016-10\", \"2016-11\", \"2017-01\", \"2017-03\", \"2017-04\", \"2017-06\", \"2017-07\", \"2017-09\", \"2017-10\", \"2017-11\"], \"xaxis\": \"x\", \"y\": [405.0, 1600.0, 2140.0, 2705.0, 2925.0, 5765.0, 6710.0, 6955.0, 7220.0, 10380.0, 11585.0, 11945.0, 12344.0], \"yaxis\": \"y\"}, {\"hoverlabel\": {\"namelength\": 0}, \"hovertemplate\": \"color=104902<br>Time=%{x}<br>Cumulative Revenue=%{y}\", \"legendgroup\": \"104902\", \"line\": {\"color\": \"#FF6692\", \"dash\": \"solid\"}, \"mode\": \"lines\", \"name\": \"104902\", \"showlegend\": true, \"type\": \"scatter\", \"x\": [\"2016-06\", \"2016-09\", \"2016-10\", \"2016-11\", \"2016-12\", \"2017-01\", \"2017-03\", \"2017-04\", \"2017-05\", \"2017-06\", \"2017-07\", \"2017-08\", \"2017-09\", \"2017-10\", \"2017-11\", \"2017-12\"], \"xaxis\": \"x\", \"y\": [575.0, 2150.0, 4695.0, 4895.0, 5095.0, 6150.0, 7560.0, 8085.0, 8540.0, 11150.0, 12510.0, 16010.0, 17895.0, 22360.0, 31401.0, 35978.0], \"yaxis\": \"y\"}, {\"hoverlabel\": {\"namelength\": 0}, \"hovertemplate\": \"color=105060<br>Time=%{x}<br>Cumulative Revenue=%{y}\", \"legendgroup\": \"105060\", \"line\": {\"color\": \"#B6E880\", \"dash\": \"solid\"}, \"mode\": \"lines\", \"name\": \"105060\", \"showlegend\": true, \"type\": \"scatter\", \"x\": [\"2016-06\", \"2016-08\", \"2016-10\", \"2016-11\", \"2016-12\", \"2017-02\", \"2017-04\", \"2017-05\", \"2017-06\", \"2017-07\", \"2017-08\", \"2017-09\", \"2017-11\", \"2017-12\"], \"xaxis\": \"x\", \"y\": [265.0, 515.0, 2290.0, 2860.0, 3175.0, 3550.0, 5955.0, 8500.0, 9585.0, 11595.0, 11905.0, 12705.0, 13010.0, 13338.0], \"yaxis\": \"y\"}, {\"hoverlabel\": {\"namelength\": 0}, \"hovertemplate\": \"color=110061<br>Time=%{x}<br>Cumulative Revenue=%{y}\", \"legendgroup\": \"110061\", \"line\": {\"color\": \"#FF97FF\", \"dash\": \"solid\"}, \"mode\": \"lines\", \"name\": \"110061\", \"showlegend\": true, \"type\": \"scatter\", \"x\": [\"2016-06\", \"2016-08\", \"2016-09\", \"2017-01\", \"2017-02\", \"2017-03\", \"2017-04\", \"2017-05\", \"2017-06\", \"2017-07\", \"2017-08\", \"2017-09\", \"2017-10\", \"2017-11\", \"2017-12\"], \"xaxis\": \"x\", \"y\": [660.0, 1490.0, 1950.0, 3695.0, 4535.0, 6145.0, 7180.0, 14035.0, 16910.0, 21280.0, 23925.0, 24790.0, 25780.0, 31353.0, 31994.0], \"yaxis\": \"y\"}, {\"hoverlabel\": {\"namelength\": 0}, \"hovertemplate\": \"color=110553<br>Time=%{x}<br>Cumulative Revenue=%{y}\", \"legendgroup\": \"110553\", \"line\": {\"color\": \"#FECB52\", \"dash\": \"solid\"}, \"mode\": \"lines\", \"name\": \"110553\", \"showlegend\": true, \"type\": \"scatter\", \"x\": [\"2016-06\", \"2016-07\", \"2016-08\", \"2016-09\", \"2016-10\", \"2016-11\", \"2016-12\", \"2017-01\", \"2017-02\", \"2017-04\", \"2017-05\", \"2017-06\", \"2017-07\", \"2017-08\", \"2017-09\", \"2017-10\", \"2017-11\", \"2017-12\"], \"xaxis\": \"x\", \"y\": [905.0, 1760.0, 4590.0, 5825.0, 7940.0, 8975.0, 10015.0, 11975.0, 12895.0, 14660.0, 15535.0, 18870.0, 19780.0, 21900.0, 24050.0, 25165.0, 26135.0, 27403.0], \"yaxis\": \"y\"}],\n",
       "                        {\"legend\": {\"title\": {\"text\": \"<b> Customer_ids </b>\"}, \"tracegroupgap\": 0}, \"margin\": {\"t\": 60}, \"template\": {\"data\": {\"bar\": [{\"error_x\": {\"color\": \"#2a3f5f\"}, \"error_y\": {\"color\": \"#2a3f5f\"}, \"marker\": {\"line\": {\"color\": \"#E5ECF6\", \"width\": 0.5}}, \"type\": \"bar\"}], \"barpolar\": [{\"marker\": {\"line\": {\"color\": \"#E5ECF6\", \"width\": 0.5}}, \"type\": \"barpolar\"}], \"carpet\": [{\"aaxis\": {\"endlinecolor\": \"#2a3f5f\", \"gridcolor\": \"white\", \"linecolor\": \"white\", \"minorgridcolor\": \"white\", \"startlinecolor\": \"#2a3f5f\"}, \"baxis\": {\"endlinecolor\": \"#2a3f5f\", \"gridcolor\": \"white\", \"linecolor\": \"white\", \"minorgridcolor\": \"white\", \"startlinecolor\": \"#2a3f5f\"}, \"type\": \"carpet\"}], \"choropleth\": [{\"colorbar\": {\"outlinewidth\": 0, \"ticks\": \"\"}, \"type\": \"choropleth\"}], \"contour\": [{\"colorbar\": {\"outlinewidth\": 0, \"ticks\": \"\"}, \"colorscale\": [[0.0, \"#0d0887\"], [0.1111111111111111, \"#46039f\"], [0.2222222222222222, \"#7201a8\"], [0.3333333333333333, \"#9c179e\"], [0.4444444444444444, \"#bd3786\"], [0.5555555555555556, \"#d8576b\"], [0.6666666666666666, \"#ed7953\"], [0.7777777777777778, \"#fb9f3a\"], [0.8888888888888888, \"#fdca26\"], [1.0, \"#f0f921\"]], \"type\": \"contour\"}], \"contourcarpet\": [{\"colorbar\": {\"outlinewidth\": 0, \"ticks\": \"\"}, \"type\": \"contourcarpet\"}], \"heatmap\": [{\"colorbar\": {\"outlinewidth\": 0, \"ticks\": \"\"}, \"colorscale\": [[0.0, \"#0d0887\"], [0.1111111111111111, \"#46039f\"], [0.2222222222222222, \"#7201a8\"], [0.3333333333333333, \"#9c179e\"], [0.4444444444444444, \"#bd3786\"], [0.5555555555555556, \"#d8576b\"], [0.6666666666666666, \"#ed7953\"], [0.7777777777777778, \"#fb9f3a\"], [0.8888888888888888, \"#fdca26\"], [1.0, \"#f0f921\"]], \"type\": \"heatmap\"}], \"heatmapgl\": [{\"colorbar\": {\"outlinewidth\": 0, \"ticks\": \"\"}, \"colorscale\": [[0.0, \"#0d0887\"], [0.1111111111111111, \"#46039f\"], [0.2222222222222222, \"#7201a8\"], [0.3333333333333333, \"#9c179e\"], [0.4444444444444444, \"#bd3786\"], [0.5555555555555556, \"#d8576b\"], [0.6666666666666666, \"#ed7953\"], [0.7777777777777778, \"#fb9f3a\"], [0.8888888888888888, \"#fdca26\"], [1.0, \"#f0f921\"]], \"type\": \"heatmapgl\"}], \"histogram\": [{\"marker\": {\"colorbar\": {\"outlinewidth\": 0, \"ticks\": \"\"}}, \"type\": \"histogram\"}], \"histogram2d\": [{\"colorbar\": {\"outlinewidth\": 0, \"ticks\": \"\"}, \"colorscale\": [[0.0, \"#0d0887\"], [0.1111111111111111, \"#46039f\"], [0.2222222222222222, \"#7201a8\"], [0.3333333333333333, \"#9c179e\"], [0.4444444444444444, \"#bd3786\"], [0.5555555555555556, \"#d8576b\"], [0.6666666666666666, \"#ed7953\"], [0.7777777777777778, \"#fb9f3a\"], [0.8888888888888888, \"#fdca26\"], [1.0, \"#f0f921\"]], \"type\": \"histogram2d\"}], \"histogram2dcontour\": [{\"colorbar\": {\"outlinewidth\": 0, \"ticks\": \"\"}, \"colorscale\": [[0.0, \"#0d0887\"], [0.1111111111111111, \"#46039f\"], [0.2222222222222222, \"#7201a8\"], [0.3333333333333333, \"#9c179e\"], [0.4444444444444444, \"#bd3786\"], [0.5555555555555556, \"#d8576b\"], [0.6666666666666666, \"#ed7953\"], [0.7777777777777778, \"#fb9f3a\"], [0.8888888888888888, \"#fdca26\"], [1.0, \"#f0f921\"]], \"type\": \"histogram2dcontour\"}], \"mesh3d\": [{\"colorbar\": {\"outlinewidth\": 0, \"ticks\": \"\"}, \"type\": \"mesh3d\"}], \"parcoords\": [{\"line\": {\"colorbar\": {\"outlinewidth\": 0, \"ticks\": \"\"}}, \"type\": \"parcoords\"}], \"pie\": [{\"automargin\": true, \"type\": \"pie\"}], \"scatter\": [{\"marker\": {\"colorbar\": {\"outlinewidth\": 0, \"ticks\": \"\"}}, \"type\": \"scatter\"}], \"scatter3d\": [{\"line\": {\"colorbar\": {\"outlinewidth\": 0, \"ticks\": \"\"}}, \"marker\": {\"colorbar\": {\"outlinewidth\": 0, \"ticks\": \"\"}}, \"type\": \"scatter3d\"}], \"scattercarpet\": [{\"marker\": {\"colorbar\": {\"outlinewidth\": 0, \"ticks\": \"\"}}, \"type\": \"scattercarpet\"}], \"scattergeo\": [{\"marker\": {\"colorbar\": {\"outlinewidth\": 0, \"ticks\": \"\"}}, \"type\": \"scattergeo\"}], \"scattergl\": [{\"marker\": {\"colorbar\": {\"outlinewidth\": 0, \"ticks\": \"\"}}, \"type\": \"scattergl\"}], \"scattermapbox\": [{\"marker\": {\"colorbar\": {\"outlinewidth\": 0, \"ticks\": \"\"}}, \"type\": \"scattermapbox\"}], \"scatterpolar\": [{\"marker\": {\"colorbar\": {\"outlinewidth\": 0, \"ticks\": \"\"}}, \"type\": \"scatterpolar\"}], \"scatterpolargl\": [{\"marker\": {\"colorbar\": {\"outlinewidth\": 0, \"ticks\": \"\"}}, \"type\": \"scatterpolargl\"}], \"scatterternary\": [{\"marker\": {\"colorbar\": {\"outlinewidth\": 0, \"ticks\": \"\"}}, \"type\": \"scatterternary\"}], \"surface\": [{\"colorbar\": {\"outlinewidth\": 0, \"ticks\": \"\"}, \"colorscale\": [[0.0, \"#0d0887\"], [0.1111111111111111, \"#46039f\"], [0.2222222222222222, \"#7201a8\"], [0.3333333333333333, \"#9c179e\"], [0.4444444444444444, \"#bd3786\"], [0.5555555555555556, \"#d8576b\"], [0.6666666666666666, \"#ed7953\"], [0.7777777777777778, \"#fb9f3a\"], [0.8888888888888888, \"#fdca26\"], [1.0, \"#f0f921\"]], \"type\": \"surface\"}], \"table\": [{\"cells\": {\"fill\": {\"color\": \"#EBF0F8\"}, \"line\": {\"color\": \"white\"}}, \"header\": {\"fill\": {\"color\": \"#C8D4E3\"}, \"line\": {\"color\": \"white\"}}, \"type\": \"table\"}]}, \"layout\": {\"annotationdefaults\": {\"arrowcolor\": \"#2a3f5f\", \"arrowhead\": 0, \"arrowwidth\": 1}, \"coloraxis\": {\"colorbar\": {\"outlinewidth\": 0, \"ticks\": \"\"}}, \"colorscale\": {\"diverging\": [[0, \"#8e0152\"], [0.1, \"#c51b7d\"], [0.2, \"#de77ae\"], [0.3, \"#f1b6da\"], [0.4, \"#fde0ef\"], [0.5, \"#f7f7f7\"], [0.6, \"#e6f5d0\"], [0.7, \"#b8e186\"], [0.8, \"#7fbc41\"], [0.9, \"#4d9221\"], [1, \"#276419\"]], \"sequential\": [[0.0, \"#0d0887\"], [0.1111111111111111, \"#46039f\"], [0.2222222222222222, \"#7201a8\"], [0.3333333333333333, \"#9c179e\"], [0.4444444444444444, \"#bd3786\"], [0.5555555555555556, \"#d8576b\"], [0.6666666666666666, \"#ed7953\"], [0.7777777777777778, \"#fb9f3a\"], [0.8888888888888888, \"#fdca26\"], [1.0, \"#f0f921\"]], \"sequentialminus\": [[0.0, \"#0d0887\"], [0.1111111111111111, \"#46039f\"], [0.2222222222222222, \"#7201a8\"], [0.3333333333333333, \"#9c179e\"], [0.4444444444444444, \"#bd3786\"], [0.5555555555555556, \"#d8576b\"], [0.6666666666666666, \"#ed7953\"], [0.7777777777777778, \"#fb9f3a\"], [0.8888888888888888, \"#fdca26\"], [1.0, \"#f0f921\"]]}, \"colorway\": [\"#636efa\", \"#EF553B\", \"#00cc96\", \"#ab63fa\", \"#FFA15A\", \"#19d3f3\", \"#FF6692\", \"#B6E880\", \"#FF97FF\", \"#FECB52\"], \"font\": {\"color\": \"#2a3f5f\"}, \"geo\": {\"bgcolor\": \"white\", \"lakecolor\": \"white\", \"landcolor\": \"#E5ECF6\", \"showlakes\": true, \"showland\": true, \"subunitcolor\": \"white\"}, \"hoverlabel\": {\"align\": \"left\"}, \"hovermode\": \"closest\", \"mapbox\": {\"style\": \"light\"}, \"paper_bgcolor\": \"white\", \"plot_bgcolor\": \"#E5ECF6\", \"polar\": {\"angularaxis\": {\"gridcolor\": \"white\", \"linecolor\": \"white\", \"ticks\": \"\"}, \"bgcolor\": \"#E5ECF6\", \"radialaxis\": {\"gridcolor\": \"white\", \"linecolor\": \"white\", \"ticks\": \"\"}}, \"scene\": {\"xaxis\": {\"backgroundcolor\": \"#E5ECF6\", \"gridcolor\": \"white\", \"gridwidth\": 2, \"linecolor\": \"white\", \"showbackground\": true, \"ticks\": \"\", \"zerolinecolor\": \"white\"}, \"yaxis\": {\"backgroundcolor\": \"#E5ECF6\", \"gridcolor\": \"white\", \"gridwidth\": 2, \"linecolor\": \"white\", \"showbackground\": true, \"ticks\": \"\", \"zerolinecolor\": \"white\"}, \"zaxis\": {\"backgroundcolor\": \"#E5ECF6\", \"gridcolor\": \"white\", \"gridwidth\": 2, \"linecolor\": \"white\", \"showbackground\": true, \"ticks\": \"\", \"zerolinecolor\": \"white\"}}, \"shapedefaults\": {\"line\": {\"color\": \"#2a3f5f\"}}, \"ternary\": {\"aaxis\": {\"gridcolor\": \"white\", \"linecolor\": \"white\", \"ticks\": \"\"}, \"baxis\": {\"gridcolor\": \"white\", \"linecolor\": \"white\", \"ticks\": \"\"}, \"bgcolor\": \"#E5ECF6\", \"caxis\": {\"gridcolor\": \"white\", \"linecolor\": \"white\", \"ticks\": \"\"}}, \"title\": {\"x\": 0.05}, \"xaxis\": {\"automargin\": true, \"gridcolor\": \"white\", \"linecolor\": \"white\", \"ticks\": \"\", \"title\": {\"standoff\": 15}, \"zerolinecolor\": \"white\", \"zerolinewidth\": 2}, \"yaxis\": {\"automargin\": true, \"gridcolor\": \"white\", \"linecolor\": \"white\", \"ticks\": \"\", \"title\": {\"standoff\": 15}, \"zerolinecolor\": \"white\", \"zerolinewidth\": 2}}}, \"xaxis\": {\"anchor\": \"y\", \"domain\": [0.0, 1.0], \"title\": {\"text\": \"Time\"}}, \"yaxis\": {\"anchor\": \"x\", \"domain\": [0.0, 1.0], \"title\": {\"text\": \"Cumulative Revenue\"}}},\n",
       "                        {\"responsive\": true}\n",
       "                    ).then(function(){\n",
       "                            \n",
       "var gd = document.getElementById('f16e876a-5b9e-4b2a-a724-d876fbee9bb4');\n",
       "var x = new MutationObserver(function (mutations, observer) {{\n",
       "        var display = window.getComputedStyle(gd).display;\n",
       "        if (!display || display === 'none') {{\n",
       "            console.log([gd, 'removed!']);\n",
       "            Plotly.purge(gd);\n",
       "            observer.disconnect();\n",
       "        }}\n",
       "}});\n",
       "\n",
       "// Listen for the removal of the full notebook cells\n",
       "var notebookContainer = gd.closest('#notebook-container');\n",
       "if (notebookContainer) {{\n",
       "    x.observe(notebookContainer, {childList: true});\n",
       "}}\n",
       "\n",
       "// Listen for the clearing of the current output cell\n",
       "var outputEl = gd.closest('.output');\n",
       "if (outputEl) {{\n",
       "    x.observe(outputEl, {childList: true});\n",
       "}}\n",
       "\n",
       "                        })\n",
       "                };\n",
       "                });\n",
       "            </script>\n",
       "        </div>"
      ]
     },
     "metadata": {},
     "output_type": "display_data"
    }
   ],
   "source": [
    "#Filter random sample of 50 customers from the cohort\n",
    "\n",
    "customer_ids=random.sample(np.unique(cohort1p.customer_id).tolist(),50)\n",
    "df=cohort1p.loc[cohort1p.customer_id.isin(customer_ids),].groupby(['customer_id',cohort1p['order_date'].dt.strftime('%Y-%m')])['customer_fare'].sum().reset_index()\n",
    "df['cumulative_revenue']=df.groupby('customer_id')['customer_fare'].cumsum()\n",
    "fig = px.line(x=df['order_date'], y=df['cumulative_revenue'],color=df['customer_id'].astype(str),\n",
    "              labels={'x':'Time', 'y':'Cumulative Revenue'})\n",
    "fig.update_layout(legend_title='<b> Customer_ids </b>')\n",
    "fig.show()"
   ]
  },
  {
   "cell_type": "markdown",
   "metadata": {},
   "source": [
    "We can see there is hetrogeneity in each customer's purchasing behaviour, which we have to account for and probabilistc models account for this heterogenity by assuming some prior distributions for the parameters"
   ]
  },
  {
   "cell_type": "markdown",
   "metadata": {},
   "source": [
    "### Model Development\n",
    "\n",
    "Model development will include the following steps :\n",
    "\n",
    "* Summarizing the Transaction data into RFM data\n",
    "* Splitting summary data into calibration and holdout set\n",
    "* Model Train\n",
    "* Parameter tuning\n",
    "* Model Evaluation"
   ]
  },
  {
   "cell_type": "code",
   "execution_count": 431,
   "metadata": {},
   "outputs": [],
   "source": [
    "# Summarizing the data and splitting into calibration and holdout\n",
    "\n",
    "\n",
    "def summarize_cohort_split(data,calibration_end,freq=7,observation_end=None):\n",
    "    if observation_end is None:\n",
    "        observation_end=data['order_date'].max()\n",
    "    else:\n",
    "        observation_end=dt.strptime(observation_end,'%Y-%m-%d')\n",
    "    #finding number of periods in calibration and holdout data\n",
    "    \n",
    "    count_periods_c=(dt.strptime(calibration_end,'%Y-%m-%d')-data.order_date.min()).days\n",
    "    count_periods_c=int(count_periods_c/freq)\n",
    "    count_periods_h=(observation_end-dt.strptime(calibration_end,'%Y-%m-%d')).days\n",
    "    count_periods_h=int(count_periods_h/freq)\n",
    "    \n",
    "    \n",
    "    calibration_data=lifetimes.utils.summary_data_from_transaction_data(data,customer_id_col='customer_id',\n",
    "                                            datetime_col='order_date',observation_period_end=calibration_end,\n",
    "                                            datetime_format='%Y-%m-%d',freq='D',monetary_value_col='customer_fare',\n",
    "                                                                        freq_multiplier=freq)\n",
    "    \n",
    "    \n",
    "    \n",
    "    temp_df=data.copy()\n",
    "    temp_df=temp_df.loc[(temp_df.order_date > calibration_end) & (temp_df.order_date <=observation_end),]\n",
    "    holdout_data=temp_df.groupby('customer_id')['order_date'].count().reset_index()\n",
    "    holdout_data.rename(columns={'order_date':'actual'},inplace=True)\n",
    "    print('shape of calibration data {}'.format(calibration_data.shape))\n",
    "    print('shape of holdout data {}'.format(holdout_data.shape))\n",
    "    print('periods in train and test {} {}'.format(count_periods_c,count_periods_h))\n",
    "    \n",
    "    return calibration_data,holdout_data,count_periods_c,count_periods_h"
   ]
  },
  {
   "cell_type": "code",
   "execution_count": 544,
   "metadata": {},
   "outputs": [
    {
     "name": "stdout",
     "output_type": "stream",
     "text": [
      "shape of calibration data (1443, 4)\n",
      "shape of holdout data (1443, 2)\n",
      "periods in train and test 52 52\n"
     ]
    }
   ],
   "source": [
    "#Splitting preprocess cohort data into calibration and holdout\n",
    "c,h,m,n=summarize_cohort_split(cohort1p,calibration_end='2016-12-31')"
   ]
  },
  {
   "cell_type": "markdown",
   "metadata": {},
   "source": [
    "**Model Train**\n",
    "\n",
    "Follwoing probabilistic models are available in lifetime package :\n",
    "\n",
    "* <strike>BG/BB</strike>\n",
    "* BG/NBD\n",
    "* MBG/NBD\n",
    "* Pareto/NBD\n",
    "\n",
    "_Note : All the above models predicts exprected orders not clv, to get clv we need expected revenue and for this we can try another model on top of these or use average monetary value_\n"
   ]
  },
  {
   "cell_type": "code",
   "execution_count": 619,
   "metadata": {},
   "outputs": [],
   "source": [
    "def models_evaluate_holdout(model_obj,count_future_time_periods,hist_freq,hist_recency,hist_T,holdoutdata):\n",
    "    val=model_obj.conditional_expected_number_of_purchases_up_to_time(count_future_time_periods,hist_freq,hist_recency,hist_T)\n",
    "    return metrics.mean_absolute_error(holdoutdata['actual'],val)\n",
    "\n",
    "\n",
    "def models_train(train,test,m,n,alpha=0.01):\n",
    "    \n",
    "    #Initilaizing the models instances\n",
    "    #bg=lt.fitters.beta_geo_beta_binom_fitter.BetaGeoBetaBinomFitter(penalizer_coef=alpha)\n",
    "    bgnbd=lt.fitters.beta_geo_fitter.BetaGeoFitter(penalizer_coef=alpha)\n",
    "    mbg=lt.fitters.modified_beta_geo_fitter.ModifiedBetaGeoFitter(penalizer_coef=alpha)\n",
    "    pareto=lt.fitters.pareto_nbd_fitter.ParetoNBDFitter(penalizer_coef=alpha)\n",
    "    \n",
    "    #Fitting in the training data\n",
    "    #bg.fit(train['frequency'],train['recency'],train['T'])\n",
    "    bgnbd.fit(train['frequency'],train['recency'],train['T'])\n",
    "    mbg.fit(train['frequency'],train['recency'],train['T'])\n",
    "    pareto.fit(train['frequency'],train['recency'],train['T'])\n",
    "    \n",
    "    #Out sample performance\n",
    "    #mae_bgbb=models_evaluate_holdout(bg,n,train['frequency'],train['recency'],train['T'],test)\n",
    "    mae_bgnbd=models_evaluate_holdout(bgnbd,n,train['frequency'],train['recency'],train['T'],test)\n",
    "    mae_mbg=models_evaluate_holdout(mbg,n,train['frequency'],train['recency'],train['T'],test)\n",
    "    mae_pareto=models_evaluate_holdout(pareto,n,train['frequency'],train['recency'],train['T'],test)\n",
    "    \n",
    "    #print('accuracy of bgbb model in holdout set {}'.format(mae_bgbb))\n",
    "    print('MAE of bgnbd model in holdout set {}'.format(mae_bgnbd))\n",
    "    print('MAE of mbg model in holdout set {}'.format(mae_mbg))\n",
    "    print('MAE of pareto model in holdout set {}'.format(mae_pareto))\n",
    "    \n",
    "    return pareto"
   ]
  },
  {
   "cell_type": "code",
   "execution_count": 620,
   "metadata": {},
   "outputs": [
    {
     "name": "stdout",
     "output_type": "stream",
     "text": [
      "MAE of bgnbd model in holdout set 19.38253428152132\n",
      "MAE of mbg model in holdout set 19.381276879856053\n",
      "MAE of pareto model in holdout set 18.954758846107925\n"
     ]
    }
   ],
   "source": [
    "best_model=models_train(c,h,m,n,alpha=0.2)"
   ]
  },
  {
   "cell_type": "markdown",
   "metadata": {},
   "source": [
    "**Model Performance at an cohort level**\n",
    "\n",
    "In the below diagonistic plot we will visualize how these model are able to predict cumulative revenue and orders per week for the selcted cohort.\n",
    "\n",
    "_Note : In order to convert predicted orders to revenue heuristic monetary value is used_"
   ]
  },
  {
   "cell_type": "code",
   "execution_count": 609,
   "metadata": {},
   "outputs": [],
   "source": [
    "# Summarizing the holdout out set in weekly level\n",
    "\n",
    "def custom_summarizer(data,start_date,end_date,freq=7):\n",
    "    temp_df=data.copy()\n",
    "    temp_df=temp_df.loc[temp_df.order_date.between(start_date,end_date),]\n",
    "    temp_df=temp_df.groupby(temp_df['order_date'].dt.week).agg(customer_fare=('customer_fare','sum'),\n",
    "                                                               orders=('order_date','count')).reset_index()\n",
    "    temp_df['cumulative_revenue']=temp_df.customer_fare.cumsum()\n",
    "    temp_df['cumulative_orders']=temp_df.orders.cumsum()\n",
    "    return temp_df\n",
    "\n",
    "# Predciting at weekly level\n",
    "\n",
    "def estimate_values(model,future_periods,data):\n",
    "    clv=[]\n",
    "    orders_pred=[]\n",
    "    for i in range(1,future_periods+1):\n",
    "        orders=model.conditional_expected_number_of_purchases_up_to_time(i,data['frequency'],data['recency'],data['T']) \n",
    "        orders=np.array([int(i) for i in orders]).reshape(1,data.shape[0])\n",
    "        monetary_value=np.array(c.monetary_value).reshape(data.shape[0],1)\n",
    "        revenue=np.dot(orders,monetary_value)\n",
    "        clv.append(revenue[0])\n",
    "        orders_pred.append(np.sum(orders))\n",
    "    return orders_pred,clv"
   ]
  },
  {
   "cell_type": "code",
   "execution_count": 612,
   "metadata": {},
   "outputs": [],
   "source": [
    "# Predictions at weekly level\n",
    "results_df=custom_summarizer(cohort1p,'2017-01-01','2017-12-31')\n",
    "orders_predicted,clv_predicted=estimate_values(best_model,52,c)\n",
    "results_df['clv_predicted']=np.vstack(clv_predicted)\n",
    "results_df['orders_predicted']=orders_predicted\n",
    "\n",
    "#Calculating percentage error\n",
    "results_df['APE_orders']=abs(results_df['cumulative_orders']-results_df['orders_predicted'])/results_df['cumulative_orders']\n",
    "results_df['APE_clv']=abs(results_df['cumulative_revenue']-results_df['clv_predicted'])/results_df['cumulative_revenue']\n"
   ]
  },
  {
   "cell_type": "code",
   "execution_count": 613,
   "metadata": {},
   "outputs": [
    {
     "data": {
      "text/html": [
       "<div>\n",
       "<style scoped>\n",
       "    .dataframe tbody tr th:only-of-type {\n",
       "        vertical-align: middle;\n",
       "    }\n",
       "\n",
       "    .dataframe tbody tr th {\n",
       "        vertical-align: top;\n",
       "    }\n",
       "\n",
       "    .dataframe thead th {\n",
       "        text-align: right;\n",
       "    }\n",
       "</style>\n",
       "<table border=\"1\" class=\"dataframe\">\n",
       "  <thead>\n",
       "    <tr style=\"text-align: right;\">\n",
       "      <th></th>\n",
       "      <th>order_date</th>\n",
       "      <th>customer_fare</th>\n",
       "      <th>orders</th>\n",
       "      <th>cumulative_revenue</th>\n",
       "      <th>cumulative_orders</th>\n",
       "      <th>clv_predicted</th>\n",
       "      <th>orders_predicted</th>\n",
       "      <th>APE_orders</th>\n",
       "      <th>APE_clv</th>\n",
       "    </tr>\n",
       "  </thead>\n",
       "  <tbody>\n",
       "    <tr>\n",
       "      <th>0</th>\n",
       "      <td>1</td>\n",
       "      <td>671645.0</td>\n",
       "      <td>1100</td>\n",
       "      <td>671645.0</td>\n",
       "      <td>1100</td>\n",
       "      <td>3.308043e+05</td>\n",
       "      <td>530</td>\n",
       "      <td>0.518182</td>\n",
       "      <td>0.507471</td>\n",
       "    </tr>\n",
       "    <tr>\n",
       "      <th>1</th>\n",
       "      <td>2</td>\n",
       "      <td>681185.0</td>\n",
       "      <td>1140</td>\n",
       "      <td>1352830.0</td>\n",
       "      <td>2240</td>\n",
       "      <td>9.739177e+05</td>\n",
       "      <td>1621</td>\n",
       "      <td>0.276339</td>\n",
       "      <td>0.280089</td>\n",
       "    </tr>\n",
       "    <tr>\n",
       "      <th>2</th>\n",
       "      <td>3</td>\n",
       "      <td>748329.0</td>\n",
       "      <td>1159</td>\n",
       "      <td>2101159.0</td>\n",
       "      <td>3399</td>\n",
       "      <td>1.651809e+06</td>\n",
       "      <td>2786</td>\n",
       "      <td>0.180347</td>\n",
       "      <td>0.213858</td>\n",
       "    </tr>\n",
       "    <tr>\n",
       "      <th>3</th>\n",
       "      <td>4</td>\n",
       "      <td>663108.0</td>\n",
       "      <td>1024</td>\n",
       "      <td>2764267.0</td>\n",
       "      <td>4423</td>\n",
       "      <td>2.360214e+06</td>\n",
       "      <td>3989</td>\n",
       "      <td>0.098123</td>\n",
       "      <td>0.146170</td>\n",
       "    </tr>\n",
       "    <tr>\n",
       "      <th>4</th>\n",
       "      <td>5</td>\n",
       "      <td>739849.0</td>\n",
       "      <td>1225</td>\n",
       "      <td>3504116.0</td>\n",
       "      <td>5648</td>\n",
       "      <td>3.050872e+06</td>\n",
       "      <td>5156</td>\n",
       "      <td>0.087110</td>\n",
       "      <td>0.129346</td>\n",
       "    </tr>\n",
       "    <tr>\n",
       "      <th>5</th>\n",
       "      <td>6</td>\n",
       "      <td>766951.0</td>\n",
       "      <td>1204</td>\n",
       "      <td>4271067.0</td>\n",
       "      <td>6852</td>\n",
       "      <td>3.716685e+06</td>\n",
       "      <td>6303</td>\n",
       "      <td>0.080123</td>\n",
       "      <td>0.129799</td>\n",
       "    </tr>\n",
       "    <tr>\n",
       "      <th>6</th>\n",
       "      <td>7</td>\n",
       "      <td>742150.0</td>\n",
       "      <td>1206</td>\n",
       "      <td>5013217.0</td>\n",
       "      <td>8058</td>\n",
       "      <td>4.417404e+06</td>\n",
       "      <td>7494</td>\n",
       "      <td>0.069993</td>\n",
       "      <td>0.118848</td>\n",
       "    </tr>\n",
       "    <tr>\n",
       "      <th>7</th>\n",
       "      <td>8</td>\n",
       "      <td>692214.0</td>\n",
       "      <td>1133</td>\n",
       "      <td>5705431.0</td>\n",
       "      <td>9191</td>\n",
       "      <td>5.098460e+06</td>\n",
       "      <td>8662</td>\n",
       "      <td>0.057556</td>\n",
       "      <td>0.106385</td>\n",
       "    </tr>\n",
       "    <tr>\n",
       "      <th>8</th>\n",
       "      <td>9</td>\n",
       "      <td>804355.0</td>\n",
       "      <td>1323</td>\n",
       "      <td>6509786.0</td>\n",
       "      <td>10514</td>\n",
       "      <td>5.779358e+06</td>\n",
       "      <td>9819</td>\n",
       "      <td>0.066102</td>\n",
       "      <td>0.112205</td>\n",
       "    </tr>\n",
       "    <tr>\n",
       "      <th>9</th>\n",
       "      <td>10</td>\n",
       "      <td>791360.0</td>\n",
       "      <td>1278</td>\n",
       "      <td>7301146.0</td>\n",
       "      <td>11792</td>\n",
       "      <td>6.472738e+06</td>\n",
       "      <td>10992</td>\n",
       "      <td>0.067843</td>\n",
       "      <td>0.113463</td>\n",
       "    </tr>\n",
       "    <tr>\n",
       "      <th>10</th>\n",
       "      <td>11</td>\n",
       "      <td>621685.0</td>\n",
       "      <td>1085</td>\n",
       "      <td>7922831.0</td>\n",
       "      <td>12877</td>\n",
       "      <td>7.166502e+06</td>\n",
       "      <td>12179</td>\n",
       "      <td>0.054205</td>\n",
       "      <td>0.095462</td>\n",
       "    </tr>\n",
       "    <tr>\n",
       "      <th>11</th>\n",
       "      <td>12</td>\n",
       "      <td>819515.0</td>\n",
       "      <td>1306</td>\n",
       "      <td>8742346.0</td>\n",
       "      <td>14183</td>\n",
       "      <td>7.839058e+06</td>\n",
       "      <td>13322</td>\n",
       "      <td>0.060706</td>\n",
       "      <td>0.103323</td>\n",
       "    </tr>\n",
       "    <tr>\n",
       "      <th>12</th>\n",
       "      <td>13</td>\n",
       "      <td>827363.0</td>\n",
       "      <td>1303</td>\n",
       "      <td>9569709.0</td>\n",
       "      <td>15486</td>\n",
       "      <td>8.519729e+06</td>\n",
       "      <td>14486</td>\n",
       "      <td>0.064574</td>\n",
       "      <td>0.109719</td>\n",
       "    </tr>\n",
       "    <tr>\n",
       "      <th>13</th>\n",
       "      <td>14</td>\n",
       "      <td>833079.0</td>\n",
       "      <td>1314</td>\n",
       "      <td>10402788.0</td>\n",
       "      <td>16800</td>\n",
       "      <td>9.202261e+06</td>\n",
       "      <td>15651</td>\n",
       "      <td>0.068393</td>\n",
       "      <td>0.115404</td>\n",
       "    </tr>\n",
       "    <tr>\n",
       "      <th>14</th>\n",
       "      <td>15</td>\n",
       "      <td>842173.0</td>\n",
       "      <td>1309</td>\n",
       "      <td>11244961.0</td>\n",
       "      <td>18109</td>\n",
       "      <td>9.904090e+06</td>\n",
       "      <td>16836</td>\n",
       "      <td>0.070297</td>\n",
       "      <td>0.119242</td>\n",
       "    </tr>\n",
       "    <tr>\n",
       "      <th>15</th>\n",
       "      <td>16</td>\n",
       "      <td>891341.0</td>\n",
       "      <td>1378</td>\n",
       "      <td>12136302.0</td>\n",
       "      <td>19487</td>\n",
       "      <td>1.056461e+07</td>\n",
       "      <td>17970</td>\n",
       "      <td>0.077847</td>\n",
       "      <td>0.129504</td>\n",
       "    </tr>\n",
       "    <tr>\n",
       "      <th>16</th>\n",
       "      <td>17</td>\n",
       "      <td>903410.0</td>\n",
       "      <td>1344</td>\n",
       "      <td>13039712.0</td>\n",
       "      <td>20831</td>\n",
       "      <td>1.124634e+07</td>\n",
       "      <td>19136</td>\n",
       "      <td>0.081369</td>\n",
       "      <td>0.137532</td>\n",
       "    </tr>\n",
       "    <tr>\n",
       "      <th>17</th>\n",
       "      <td>18</td>\n",
       "      <td>747070.0</td>\n",
       "      <td>1142</td>\n",
       "      <td>13786782.0</td>\n",
       "      <td>21973</td>\n",
       "      <td>1.192413e+07</td>\n",
       "      <td>20286</td>\n",
       "      <td>0.076776</td>\n",
       "      <td>0.135104</td>\n",
       "    </tr>\n",
       "    <tr>\n",
       "      <th>18</th>\n",
       "      <td>19</td>\n",
       "      <td>750275.0</td>\n",
       "      <td>1165</td>\n",
       "      <td>14537057.0</td>\n",
       "      <td>23138</td>\n",
       "      <td>1.260713e+07</td>\n",
       "      <td>21449</td>\n",
       "      <td>0.072997</td>\n",
       "      <td>0.132759</td>\n",
       "    </tr>\n",
       "    <tr>\n",
       "      <th>19</th>\n",
       "      <td>20</td>\n",
       "      <td>700695.0</td>\n",
       "      <td>1138</td>\n",
       "      <td>15237752.0</td>\n",
       "      <td>24276</td>\n",
       "      <td>1.329184e+07</td>\n",
       "      <td>22624</td>\n",
       "      <td>0.068051</td>\n",
       "      <td>0.127703</td>\n",
       "    </tr>\n",
       "    <tr>\n",
       "      <th>20</th>\n",
       "      <td>21</td>\n",
       "      <td>760195.0</td>\n",
       "      <td>1161</td>\n",
       "      <td>15997947.0</td>\n",
       "      <td>25437</td>\n",
       "      <td>1.396271e+07</td>\n",
       "      <td>23761</td>\n",
       "      <td>0.065888</td>\n",
       "      <td>0.127219</td>\n",
       "    </tr>\n",
       "    <tr>\n",
       "      <th>21</th>\n",
       "      <td>22</td>\n",
       "      <td>781628.0</td>\n",
       "      <td>1227</td>\n",
       "      <td>16779575.0</td>\n",
       "      <td>26664</td>\n",
       "      <td>1.465014e+07</td>\n",
       "      <td>24935</td>\n",
       "      <td>0.064844</td>\n",
       "      <td>0.126906</td>\n",
       "    </tr>\n",
       "    <tr>\n",
       "      <th>22</th>\n",
       "      <td>23</td>\n",
       "      <td>760843.0</td>\n",
       "      <td>1177</td>\n",
       "      <td>17540418.0</td>\n",
       "      <td>27841</td>\n",
       "      <td>1.532674e+07</td>\n",
       "      <td>26079</td>\n",
       "      <td>0.063288</td>\n",
       "      <td>0.126204</td>\n",
       "    </tr>\n",
       "    <tr>\n",
       "      <th>23</th>\n",
       "      <td>24</td>\n",
       "      <td>761367.0</td>\n",
       "      <td>1173</td>\n",
       "      <td>18301785.0</td>\n",
       "      <td>29014</td>\n",
       "      <td>1.598986e+07</td>\n",
       "      <td>27211</td>\n",
       "      <td>0.062142</td>\n",
       "      <td>0.126322</td>\n",
       "    </tr>\n",
       "    <tr>\n",
       "      <th>24</th>\n",
       "      <td>25</td>\n",
       "      <td>775801.0</td>\n",
       "      <td>1218</td>\n",
       "      <td>19077586.0</td>\n",
       "      <td>30232</td>\n",
       "      <td>1.668477e+07</td>\n",
       "      <td>28387</td>\n",
       "      <td>0.061028</td>\n",
       "      <td>0.125426</td>\n",
       "    </tr>\n",
       "    <tr>\n",
       "      <th>25</th>\n",
       "      <td>26</td>\n",
       "      <td>756260.0</td>\n",
       "      <td>1141</td>\n",
       "      <td>19833846.0</td>\n",
       "      <td>31373</td>\n",
       "      <td>1.735609e+07</td>\n",
       "      <td>29544</td>\n",
       "      <td>0.058299</td>\n",
       "      <td>0.124926</td>\n",
       "    </tr>\n",
       "    <tr>\n",
       "      <th>26</th>\n",
       "      <td>27</td>\n",
       "      <td>715427.0</td>\n",
       "      <td>1165</td>\n",
       "      <td>20549273.0</td>\n",
       "      <td>32538</td>\n",
       "      <td>1.802620e+07</td>\n",
       "      <td>30684</td>\n",
       "      <td>0.056980</td>\n",
       "      <td>0.122782</td>\n",
       "    </tr>\n",
       "    <tr>\n",
       "      <th>27</th>\n",
       "      <td>28</td>\n",
       "      <td>784240.0</td>\n",
       "      <td>1215</td>\n",
       "      <td>21333513.0</td>\n",
       "      <td>33753</td>\n",
       "      <td>1.871840e+07</td>\n",
       "      <td>31862</td>\n",
       "      <td>0.056025</td>\n",
       "      <td>0.122582</td>\n",
       "    </tr>\n",
       "    <tr>\n",
       "      <th>28</th>\n",
       "      <td>29</td>\n",
       "      <td>742995.0</td>\n",
       "      <td>1197</td>\n",
       "      <td>22076508.0</td>\n",
       "      <td>34950</td>\n",
       "      <td>1.937714e+07</td>\n",
       "      <td>32991</td>\n",
       "      <td>0.056052</td>\n",
       "      <td>0.122273</td>\n",
       "    </tr>\n",
       "    <tr>\n",
       "      <th>29</th>\n",
       "      <td>30</td>\n",
       "      <td>831175.0</td>\n",
       "      <td>1261</td>\n",
       "      <td>22907683.0</td>\n",
       "      <td>36211</td>\n",
       "      <td>2.005221e+07</td>\n",
       "      <td>34137</td>\n",
       "      <td>0.057275</td>\n",
       "      <td>0.124651</td>\n",
       "    </tr>\n",
       "    <tr>\n",
       "      <th>30</th>\n",
       "      <td>31</td>\n",
       "      <td>902823.0</td>\n",
       "      <td>1354</td>\n",
       "      <td>23810506.0</td>\n",
       "      <td>37565</td>\n",
       "      <td>2.073752e+07</td>\n",
       "      <td>35313</td>\n",
       "      <td>0.059949</td>\n",
       "      <td>0.129060</td>\n",
       "    </tr>\n",
       "    <tr>\n",
       "      <th>31</th>\n",
       "      <td>32</td>\n",
       "      <td>829665.0</td>\n",
       "      <td>1214</td>\n",
       "      <td>24640171.0</td>\n",
       "      <td>38779</td>\n",
       "      <td>2.139982e+07</td>\n",
       "      <td>36437</td>\n",
       "      <td>0.060394</td>\n",
       "      <td>0.131507</td>\n",
       "    </tr>\n",
       "    <tr>\n",
       "      <th>32</th>\n",
       "      <td>33</td>\n",
       "      <td>768550.0</td>\n",
       "      <td>1127</td>\n",
       "      <td>25408721.0</td>\n",
       "      <td>39906</td>\n",
       "      <td>2.207706e+07</td>\n",
       "      <td>37587</td>\n",
       "      <td>0.058112</td>\n",
       "      <td>0.131123</td>\n",
       "    </tr>\n",
       "    <tr>\n",
       "      <th>33</th>\n",
       "      <td>34</td>\n",
       "      <td>845610.0</td>\n",
       "      <td>1169</td>\n",
       "      <td>26254331.0</td>\n",
       "      <td>41075</td>\n",
       "      <td>2.274349e+07</td>\n",
       "      <td>38725</td>\n",
       "      <td>0.057212</td>\n",
       "      <td>0.133724</td>\n",
       "    </tr>\n",
       "    <tr>\n",
       "      <th>34</th>\n",
       "      <td>35</td>\n",
       "      <td>709252.0</td>\n",
       "      <td>942</td>\n",
       "      <td>26963583.0</td>\n",
       "      <td>42017</td>\n",
       "      <td>2.340534e+07</td>\n",
       "      <td>39854</td>\n",
       "      <td>0.051479</td>\n",
       "      <td>0.131965</td>\n",
       "    </tr>\n",
       "    <tr>\n",
       "      <th>35</th>\n",
       "      <td>36</td>\n",
       "      <td>825435.0</td>\n",
       "      <td>1125</td>\n",
       "      <td>27789018.0</td>\n",
       "      <td>43142</td>\n",
       "      <td>2.408567e+07</td>\n",
       "      <td>41007</td>\n",
       "      <td>0.049488</td>\n",
       "      <td>0.133267</td>\n",
       "    </tr>\n",
       "    <tr>\n",
       "      <th>36</th>\n",
       "      <td>37</td>\n",
       "      <td>867083.0</td>\n",
       "      <td>1223</td>\n",
       "      <td>28656101.0</td>\n",
       "      <td>44365</td>\n",
       "      <td>2.477193e+07</td>\n",
       "      <td>42183</td>\n",
       "      <td>0.049183</td>\n",
       "      <td>0.135544</td>\n",
       "    </tr>\n",
       "    <tr>\n",
       "      <th>37</th>\n",
       "      <td>38</td>\n",
       "      <td>793455.0</td>\n",
       "      <td>1159</td>\n",
       "      <td>29449556.0</td>\n",
       "      <td>45524</td>\n",
       "      <td>2.544082e+07</td>\n",
       "      <td>43326</td>\n",
       "      <td>0.048282</td>\n",
       "      <td>0.136122</td>\n",
       "    </tr>\n",
       "    <tr>\n",
       "      <th>38</th>\n",
       "      <td>39</td>\n",
       "      <td>844575.0</td>\n",
       "      <td>1147</td>\n",
       "      <td>30294131.0</td>\n",
       "      <td>46671</td>\n",
       "      <td>2.609991e+07</td>\n",
       "      <td>44449</td>\n",
       "      <td>0.047610</td>\n",
       "      <td>0.138450</td>\n",
       "    </tr>\n",
       "    <tr>\n",
       "      <th>39</th>\n",
       "      <td>40</td>\n",
       "      <td>1017860.0</td>\n",
       "      <td>1295</td>\n",
       "      <td>31311991.0</td>\n",
       "      <td>47966</td>\n",
       "      <td>2.677231e+07</td>\n",
       "      <td>45589</td>\n",
       "      <td>0.049556</td>\n",
       "      <td>0.144982</td>\n",
       "    </tr>\n",
       "    <tr>\n",
       "      <th>40</th>\n",
       "      <td>41</td>\n",
       "      <td>1016315.0</td>\n",
       "      <td>1290</td>\n",
       "      <td>32328306.0</td>\n",
       "      <td>49256</td>\n",
       "      <td>2.742744e+07</td>\n",
       "      <td>46712</td>\n",
       "      <td>0.051649</td>\n",
       "      <td>0.151597</td>\n",
       "    </tr>\n",
       "    <tr>\n",
       "      <th>41</th>\n",
       "      <td>42</td>\n",
       "      <td>603629.0</td>\n",
       "      <td>777</td>\n",
       "      <td>32931935.0</td>\n",
       "      <td>50033</td>\n",
       "      <td>2.811313e+07</td>\n",
       "      <td>47873</td>\n",
       "      <td>0.043172</td>\n",
       "      <td>0.146326</td>\n",
       "    </tr>\n",
       "    <tr>\n",
       "      <th>42</th>\n",
       "      <td>43</td>\n",
       "      <td>699529.0</td>\n",
       "      <td>987</td>\n",
       "      <td>33631464.0</td>\n",
       "      <td>51020</td>\n",
       "      <td>2.878584e+07</td>\n",
       "      <td>49026</td>\n",
       "      <td>0.039083</td>\n",
       "      <td>0.144080</td>\n",
       "    </tr>\n",
       "    <tr>\n",
       "      <th>43</th>\n",
       "      <td>44</td>\n",
       "      <td>764493.0</td>\n",
       "      <td>1078</td>\n",
       "      <td>34395957.0</td>\n",
       "      <td>52098</td>\n",
       "      <td>2.944663e+07</td>\n",
       "      <td>50151</td>\n",
       "      <td>0.037372</td>\n",
       "      <td>0.143893</td>\n",
       "    </tr>\n",
       "    <tr>\n",
       "      <th>44</th>\n",
       "      <td>45</td>\n",
       "      <td>787975.0</td>\n",
       "      <td>1064</td>\n",
       "      <td>35183932.0</td>\n",
       "      <td>53162</td>\n",
       "      <td>3.011400e+07</td>\n",
       "      <td>51293</td>\n",
       "      <td>0.035157</td>\n",
       "      <td>0.144098</td>\n",
       "    </tr>\n",
       "    <tr>\n",
       "      <th>45</th>\n",
       "      <td>46</td>\n",
       "      <td>760745.0</td>\n",
       "      <td>1064</td>\n",
       "      <td>35944677.0</td>\n",
       "      <td>54226</td>\n",
       "      <td>3.077631e+07</td>\n",
       "      <td>52413</td>\n",
       "      <td>0.033434</td>\n",
       "      <td>0.143787</td>\n",
       "    </tr>\n",
       "    <tr>\n",
       "      <th>46</th>\n",
       "      <td>47</td>\n",
       "      <td>734568.0</td>\n",
       "      <td>1085</td>\n",
       "      <td>36679245.0</td>\n",
       "      <td>55311</td>\n",
       "      <td>3.142940e+07</td>\n",
       "      <td>53535</td>\n",
       "      <td>0.032109</td>\n",
       "      <td>0.143129</td>\n",
       "    </tr>\n",
       "    <tr>\n",
       "      <th>47</th>\n",
       "      <td>48</td>\n",
       "      <td>727225.0</td>\n",
       "      <td>1046</td>\n",
       "      <td>37406470.0</td>\n",
       "      <td>56357</td>\n",
       "      <td>3.211671e+07</td>\n",
       "      <td>54702</td>\n",
       "      <td>0.029366</td>\n",
       "      <td>0.141413</td>\n",
       "    </tr>\n",
       "    <tr>\n",
       "      <th>48</th>\n",
       "      <td>49</td>\n",
       "      <td>709753.0</td>\n",
       "      <td>1049</td>\n",
       "      <td>38116223.0</td>\n",
       "      <td>57406</td>\n",
       "      <td>3.277372e+07</td>\n",
       "      <td>55819</td>\n",
       "      <td>0.027645</td>\n",
       "      <td>0.140164</td>\n",
       "    </tr>\n",
       "    <tr>\n",
       "      <th>49</th>\n",
       "      <td>50</td>\n",
       "      <td>723924.0</td>\n",
       "      <td>1068</td>\n",
       "      <td>38840147.0</td>\n",
       "      <td>58474</td>\n",
       "      <td>3.343373e+07</td>\n",
       "      <td>56946</td>\n",
       "      <td>0.026131</td>\n",
       "      <td>0.139197</td>\n",
       "    </tr>\n",
       "    <tr>\n",
       "      <th>50</th>\n",
       "      <td>51</td>\n",
       "      <td>736921.0</td>\n",
       "      <td>1073</td>\n",
       "      <td>39577068.0</td>\n",
       "      <td>59547</td>\n",
       "      <td>3.411797e+07</td>\n",
       "      <td>58117</td>\n",
       "      <td>0.024015</td>\n",
       "      <td>0.137936</td>\n",
       "    </tr>\n",
       "    <tr>\n",
       "      <th>51</th>\n",
       "      <td>52</td>\n",
       "      <td>651674.0</td>\n",
       "      <td>982</td>\n",
       "      <td>40228742.0</td>\n",
       "      <td>60529</td>\n",
       "      <td>3.477916e+07</td>\n",
       "      <td>59239</td>\n",
       "      <td>0.021312</td>\n",
       "      <td>0.135465</td>\n",
       "    </tr>\n",
       "  </tbody>\n",
       "</table>\n",
       "</div>"
      ],
      "text/plain": [
       "    order_date  customer_fare  orders  cumulative_revenue  cumulative_orders  \\\n",
       "0            1       671645.0    1100            671645.0               1100   \n",
       "1            2       681185.0    1140           1352830.0               2240   \n",
       "2            3       748329.0    1159           2101159.0               3399   \n",
       "3            4       663108.0    1024           2764267.0               4423   \n",
       "4            5       739849.0    1225           3504116.0               5648   \n",
       "5            6       766951.0    1204           4271067.0               6852   \n",
       "6            7       742150.0    1206           5013217.0               8058   \n",
       "7            8       692214.0    1133           5705431.0               9191   \n",
       "8            9       804355.0    1323           6509786.0              10514   \n",
       "9           10       791360.0    1278           7301146.0              11792   \n",
       "10          11       621685.0    1085           7922831.0              12877   \n",
       "11          12       819515.0    1306           8742346.0              14183   \n",
       "12          13       827363.0    1303           9569709.0              15486   \n",
       "13          14       833079.0    1314          10402788.0              16800   \n",
       "14          15       842173.0    1309          11244961.0              18109   \n",
       "15          16       891341.0    1378          12136302.0              19487   \n",
       "16          17       903410.0    1344          13039712.0              20831   \n",
       "17          18       747070.0    1142          13786782.0              21973   \n",
       "18          19       750275.0    1165          14537057.0              23138   \n",
       "19          20       700695.0    1138          15237752.0              24276   \n",
       "20          21       760195.0    1161          15997947.0              25437   \n",
       "21          22       781628.0    1227          16779575.0              26664   \n",
       "22          23       760843.0    1177          17540418.0              27841   \n",
       "23          24       761367.0    1173          18301785.0              29014   \n",
       "24          25       775801.0    1218          19077586.0              30232   \n",
       "25          26       756260.0    1141          19833846.0              31373   \n",
       "26          27       715427.0    1165          20549273.0              32538   \n",
       "27          28       784240.0    1215          21333513.0              33753   \n",
       "28          29       742995.0    1197          22076508.0              34950   \n",
       "29          30       831175.0    1261          22907683.0              36211   \n",
       "30          31       902823.0    1354          23810506.0              37565   \n",
       "31          32       829665.0    1214          24640171.0              38779   \n",
       "32          33       768550.0    1127          25408721.0              39906   \n",
       "33          34       845610.0    1169          26254331.0              41075   \n",
       "34          35       709252.0     942          26963583.0              42017   \n",
       "35          36       825435.0    1125          27789018.0              43142   \n",
       "36          37       867083.0    1223          28656101.0              44365   \n",
       "37          38       793455.0    1159          29449556.0              45524   \n",
       "38          39       844575.0    1147          30294131.0              46671   \n",
       "39          40      1017860.0    1295          31311991.0              47966   \n",
       "40          41      1016315.0    1290          32328306.0              49256   \n",
       "41          42       603629.0     777          32931935.0              50033   \n",
       "42          43       699529.0     987          33631464.0              51020   \n",
       "43          44       764493.0    1078          34395957.0              52098   \n",
       "44          45       787975.0    1064          35183932.0              53162   \n",
       "45          46       760745.0    1064          35944677.0              54226   \n",
       "46          47       734568.0    1085          36679245.0              55311   \n",
       "47          48       727225.0    1046          37406470.0              56357   \n",
       "48          49       709753.0    1049          38116223.0              57406   \n",
       "49          50       723924.0    1068          38840147.0              58474   \n",
       "50          51       736921.0    1073          39577068.0              59547   \n",
       "51          52       651674.0     982          40228742.0              60529   \n",
       "\n",
       "    clv_predicted  orders_predicted  APE_orders   APE_clv  \n",
       "0    3.308043e+05               530    0.518182  0.507471  \n",
       "1    9.739177e+05              1621    0.276339  0.280089  \n",
       "2    1.651809e+06              2786    0.180347  0.213858  \n",
       "3    2.360214e+06              3989    0.098123  0.146170  \n",
       "4    3.050872e+06              5156    0.087110  0.129346  \n",
       "5    3.716685e+06              6303    0.080123  0.129799  \n",
       "6    4.417404e+06              7494    0.069993  0.118848  \n",
       "7    5.098460e+06              8662    0.057556  0.106385  \n",
       "8    5.779358e+06              9819    0.066102  0.112205  \n",
       "9    6.472738e+06             10992    0.067843  0.113463  \n",
       "10   7.166502e+06             12179    0.054205  0.095462  \n",
       "11   7.839058e+06             13322    0.060706  0.103323  \n",
       "12   8.519729e+06             14486    0.064574  0.109719  \n",
       "13   9.202261e+06             15651    0.068393  0.115404  \n",
       "14   9.904090e+06             16836    0.070297  0.119242  \n",
       "15   1.056461e+07             17970    0.077847  0.129504  \n",
       "16   1.124634e+07             19136    0.081369  0.137532  \n",
       "17   1.192413e+07             20286    0.076776  0.135104  \n",
       "18   1.260713e+07             21449    0.072997  0.132759  \n",
       "19   1.329184e+07             22624    0.068051  0.127703  \n",
       "20   1.396271e+07             23761    0.065888  0.127219  \n",
       "21   1.465014e+07             24935    0.064844  0.126906  \n",
       "22   1.532674e+07             26079    0.063288  0.126204  \n",
       "23   1.598986e+07             27211    0.062142  0.126322  \n",
       "24   1.668477e+07             28387    0.061028  0.125426  \n",
       "25   1.735609e+07             29544    0.058299  0.124926  \n",
       "26   1.802620e+07             30684    0.056980  0.122782  \n",
       "27   1.871840e+07             31862    0.056025  0.122582  \n",
       "28   1.937714e+07             32991    0.056052  0.122273  \n",
       "29   2.005221e+07             34137    0.057275  0.124651  \n",
       "30   2.073752e+07             35313    0.059949  0.129060  \n",
       "31   2.139982e+07             36437    0.060394  0.131507  \n",
       "32   2.207706e+07             37587    0.058112  0.131123  \n",
       "33   2.274349e+07             38725    0.057212  0.133724  \n",
       "34   2.340534e+07             39854    0.051479  0.131965  \n",
       "35   2.408567e+07             41007    0.049488  0.133267  \n",
       "36   2.477193e+07             42183    0.049183  0.135544  \n",
       "37   2.544082e+07             43326    0.048282  0.136122  \n",
       "38   2.609991e+07             44449    0.047610  0.138450  \n",
       "39   2.677231e+07             45589    0.049556  0.144982  \n",
       "40   2.742744e+07             46712    0.051649  0.151597  \n",
       "41   2.811313e+07             47873    0.043172  0.146326  \n",
       "42   2.878584e+07             49026    0.039083  0.144080  \n",
       "43   2.944663e+07             50151    0.037372  0.143893  \n",
       "44   3.011400e+07             51293    0.035157  0.144098  \n",
       "45   3.077631e+07             52413    0.033434  0.143787  \n",
       "46   3.142940e+07             53535    0.032109  0.143129  \n",
       "47   3.211671e+07             54702    0.029366  0.141413  \n",
       "48   3.277372e+07             55819    0.027645  0.140164  \n",
       "49   3.343373e+07             56946    0.026131  0.139197  \n",
       "50   3.411797e+07             58117    0.024015  0.137936  \n",
       "51   3.477916e+07             59239    0.021312  0.135465  "
      ]
     },
     "execution_count": 613,
     "metadata": {},
     "output_type": "execute_result"
    }
   ],
   "source": [
    "results_df"
   ]
  },
  {
   "cell_type": "code",
   "execution_count": 615,
   "metadata": {},
   "outputs": [
    {
     "data": {
      "application/vnd.plotly.v1+json": {
       "config": {
        "plotlyServerURL": "https://plot.ly"
       },
       "data": [
        {
         "mode": "lines",
         "name": "Actual",
         "type": "scatter",
         "x": [
          1,
          2,
          3,
          4,
          5,
          6,
          7,
          8,
          9,
          10,
          11,
          12,
          13,
          14,
          15,
          16,
          17,
          18,
          19,
          20,
          21,
          22,
          23,
          24,
          25,
          26,
          27,
          28,
          29,
          30,
          31,
          32,
          33,
          34,
          35,
          36,
          37,
          38,
          39,
          40,
          41,
          42,
          43,
          44,
          45,
          46,
          47,
          48,
          49,
          50,
          51,
          52
         ],
         "y": [
          671645,
          1352830,
          2101159,
          2764267,
          3504116,
          4271067,
          5013217,
          5705431,
          6509786,
          7301146,
          7922831,
          8742346,
          9569709,
          10402788,
          11244961,
          12136302,
          13039712,
          13786782,
          14537057,
          15237752,
          15997947,
          16779575,
          17540418,
          18301785,
          19077586,
          19833846,
          20549273,
          21333513,
          22076508,
          22907683,
          23810506,
          24640171,
          25408721,
          26254331,
          26963583,
          27789018,
          28656101,
          29449556,
          30294131,
          31311991,
          32328306,
          32931935,
          33631464,
          34395957,
          35183932,
          35944677,
          36679245,
          37406470,
          38116223,
          38840147,
          39577068,
          40228742
         ]
        },
        {
         "mode": "lines",
         "name": " Model",
         "type": "scatter",
         "x": [
          1,
          2,
          3,
          4,
          5,
          6,
          7,
          8,
          9,
          10,
          11,
          12,
          13,
          14,
          15,
          16,
          17,
          18,
          19,
          20,
          21,
          22,
          23,
          24,
          25,
          26,
          27,
          28,
          29,
          30,
          31,
          32,
          33,
          34,
          35,
          36,
          37,
          38,
          39,
          40,
          41,
          42,
          43,
          44,
          45,
          46,
          47,
          48,
          49,
          50,
          51,
          52
         ],
         "y": [
          330804.3168086879,
          973917.6535456164,
          1651809.497114607,
          2360213.577284432,
          3050872.0824384647,
          3716685.4307468003,
          4417404.389209773,
          5098460.009779878,
          5779358.36687659,
          6472738.167337709,
          7166502.096422477,
          7839057.739828448,
          8519728.685549347,
          9202261.353577537,
          9904090.269047327,
          10564605.20478662,
          11246336.691717692,
          11924132.101078281,
          12607130.440025672,
          13291839.402165914,
          13962706.370327096,
          14650141.307038276,
          15326739.952847118,
          15989864.951560155,
          16684765.562213758,
          17356088.72122148,
          18026197.67166113,
          18718404.577319685,
          19377141.35018502,
          20052212.879104957,
          20737519.68256287,
          21399821.623504937,
          22077057.239110526,
          22743494.25193487,
          23405340.40608817,
          24085672.339721654,
          24771934.39773198,
          25440821.032417137,
          26099912.83610642,
          26772310.638832472,
          27427441.77826083,
          28113129.101970714,
          28785835.170546707,
          29446631.93733501,
          30113995.70127399,
          30776313.905380435,
          31429397.06334105,
          32116706.66250801,
          32773716.205093287,
          33433727.190926313,
          34117972.80924556,
          34779161.91378082
         ]
        }
       ],
       "layout": {
        "template": {
         "data": {
          "bar": [
           {
            "error_x": {
             "color": "#2a3f5f"
            },
            "error_y": {
             "color": "#2a3f5f"
            },
            "marker": {
             "line": {
              "color": "#E5ECF6",
              "width": 0.5
             }
            },
            "type": "bar"
           }
          ],
          "barpolar": [
           {
            "marker": {
             "line": {
              "color": "#E5ECF6",
              "width": 0.5
             }
            },
            "type": "barpolar"
           }
          ],
          "carpet": [
           {
            "aaxis": {
             "endlinecolor": "#2a3f5f",
             "gridcolor": "white",
             "linecolor": "white",
             "minorgridcolor": "white",
             "startlinecolor": "#2a3f5f"
            },
            "baxis": {
             "endlinecolor": "#2a3f5f",
             "gridcolor": "white",
             "linecolor": "white",
             "minorgridcolor": "white",
             "startlinecolor": "#2a3f5f"
            },
            "type": "carpet"
           }
          ],
          "choropleth": [
           {
            "colorbar": {
             "outlinewidth": 0,
             "ticks": ""
            },
            "type": "choropleth"
           }
          ],
          "contour": [
           {
            "colorbar": {
             "outlinewidth": 0,
             "ticks": ""
            },
            "colorscale": [
             [
              0,
              "#0d0887"
             ],
             [
              0.1111111111111111,
              "#46039f"
             ],
             [
              0.2222222222222222,
              "#7201a8"
             ],
             [
              0.3333333333333333,
              "#9c179e"
             ],
             [
              0.4444444444444444,
              "#bd3786"
             ],
             [
              0.5555555555555556,
              "#d8576b"
             ],
             [
              0.6666666666666666,
              "#ed7953"
             ],
             [
              0.7777777777777778,
              "#fb9f3a"
             ],
             [
              0.8888888888888888,
              "#fdca26"
             ],
             [
              1,
              "#f0f921"
             ]
            ],
            "type": "contour"
           }
          ],
          "contourcarpet": [
           {
            "colorbar": {
             "outlinewidth": 0,
             "ticks": ""
            },
            "type": "contourcarpet"
           }
          ],
          "heatmap": [
           {
            "colorbar": {
             "outlinewidth": 0,
             "ticks": ""
            },
            "colorscale": [
             [
              0,
              "#0d0887"
             ],
             [
              0.1111111111111111,
              "#46039f"
             ],
             [
              0.2222222222222222,
              "#7201a8"
             ],
             [
              0.3333333333333333,
              "#9c179e"
             ],
             [
              0.4444444444444444,
              "#bd3786"
             ],
             [
              0.5555555555555556,
              "#d8576b"
             ],
             [
              0.6666666666666666,
              "#ed7953"
             ],
             [
              0.7777777777777778,
              "#fb9f3a"
             ],
             [
              0.8888888888888888,
              "#fdca26"
             ],
             [
              1,
              "#f0f921"
             ]
            ],
            "type": "heatmap"
           }
          ],
          "heatmapgl": [
           {
            "colorbar": {
             "outlinewidth": 0,
             "ticks": ""
            },
            "colorscale": [
             [
              0,
              "#0d0887"
             ],
             [
              0.1111111111111111,
              "#46039f"
             ],
             [
              0.2222222222222222,
              "#7201a8"
             ],
             [
              0.3333333333333333,
              "#9c179e"
             ],
             [
              0.4444444444444444,
              "#bd3786"
             ],
             [
              0.5555555555555556,
              "#d8576b"
             ],
             [
              0.6666666666666666,
              "#ed7953"
             ],
             [
              0.7777777777777778,
              "#fb9f3a"
             ],
             [
              0.8888888888888888,
              "#fdca26"
             ],
             [
              1,
              "#f0f921"
             ]
            ],
            "type": "heatmapgl"
           }
          ],
          "histogram": [
           {
            "marker": {
             "colorbar": {
              "outlinewidth": 0,
              "ticks": ""
             }
            },
            "type": "histogram"
           }
          ],
          "histogram2d": [
           {
            "colorbar": {
             "outlinewidth": 0,
             "ticks": ""
            },
            "colorscale": [
             [
              0,
              "#0d0887"
             ],
             [
              0.1111111111111111,
              "#46039f"
             ],
             [
              0.2222222222222222,
              "#7201a8"
             ],
             [
              0.3333333333333333,
              "#9c179e"
             ],
             [
              0.4444444444444444,
              "#bd3786"
             ],
             [
              0.5555555555555556,
              "#d8576b"
             ],
             [
              0.6666666666666666,
              "#ed7953"
             ],
             [
              0.7777777777777778,
              "#fb9f3a"
             ],
             [
              0.8888888888888888,
              "#fdca26"
             ],
             [
              1,
              "#f0f921"
             ]
            ],
            "type": "histogram2d"
           }
          ],
          "histogram2dcontour": [
           {
            "colorbar": {
             "outlinewidth": 0,
             "ticks": ""
            },
            "colorscale": [
             [
              0,
              "#0d0887"
             ],
             [
              0.1111111111111111,
              "#46039f"
             ],
             [
              0.2222222222222222,
              "#7201a8"
             ],
             [
              0.3333333333333333,
              "#9c179e"
             ],
             [
              0.4444444444444444,
              "#bd3786"
             ],
             [
              0.5555555555555556,
              "#d8576b"
             ],
             [
              0.6666666666666666,
              "#ed7953"
             ],
             [
              0.7777777777777778,
              "#fb9f3a"
             ],
             [
              0.8888888888888888,
              "#fdca26"
             ],
             [
              1,
              "#f0f921"
             ]
            ],
            "type": "histogram2dcontour"
           }
          ],
          "mesh3d": [
           {
            "colorbar": {
             "outlinewidth": 0,
             "ticks": ""
            },
            "type": "mesh3d"
           }
          ],
          "parcoords": [
           {
            "line": {
             "colorbar": {
              "outlinewidth": 0,
              "ticks": ""
             }
            },
            "type": "parcoords"
           }
          ],
          "pie": [
           {
            "automargin": true,
            "type": "pie"
           }
          ],
          "scatter": [
           {
            "marker": {
             "colorbar": {
              "outlinewidth": 0,
              "ticks": ""
             }
            },
            "type": "scatter"
           }
          ],
          "scatter3d": [
           {
            "line": {
             "colorbar": {
              "outlinewidth": 0,
              "ticks": ""
             }
            },
            "marker": {
             "colorbar": {
              "outlinewidth": 0,
              "ticks": ""
             }
            },
            "type": "scatter3d"
           }
          ],
          "scattercarpet": [
           {
            "marker": {
             "colorbar": {
              "outlinewidth": 0,
              "ticks": ""
             }
            },
            "type": "scattercarpet"
           }
          ],
          "scattergeo": [
           {
            "marker": {
             "colorbar": {
              "outlinewidth": 0,
              "ticks": ""
             }
            },
            "type": "scattergeo"
           }
          ],
          "scattergl": [
           {
            "marker": {
             "colorbar": {
              "outlinewidth": 0,
              "ticks": ""
             }
            },
            "type": "scattergl"
           }
          ],
          "scattermapbox": [
           {
            "marker": {
             "colorbar": {
              "outlinewidth": 0,
              "ticks": ""
             }
            },
            "type": "scattermapbox"
           }
          ],
          "scatterpolar": [
           {
            "marker": {
             "colorbar": {
              "outlinewidth": 0,
              "ticks": ""
             }
            },
            "type": "scatterpolar"
           }
          ],
          "scatterpolargl": [
           {
            "marker": {
             "colorbar": {
              "outlinewidth": 0,
              "ticks": ""
             }
            },
            "type": "scatterpolargl"
           }
          ],
          "scatterternary": [
           {
            "marker": {
             "colorbar": {
              "outlinewidth": 0,
              "ticks": ""
             }
            },
            "type": "scatterternary"
           }
          ],
          "surface": [
           {
            "colorbar": {
             "outlinewidth": 0,
             "ticks": ""
            },
            "colorscale": [
             [
              0,
              "#0d0887"
             ],
             [
              0.1111111111111111,
              "#46039f"
             ],
             [
              0.2222222222222222,
              "#7201a8"
             ],
             [
              0.3333333333333333,
              "#9c179e"
             ],
             [
              0.4444444444444444,
              "#bd3786"
             ],
             [
              0.5555555555555556,
              "#d8576b"
             ],
             [
              0.6666666666666666,
              "#ed7953"
             ],
             [
              0.7777777777777778,
              "#fb9f3a"
             ],
             [
              0.8888888888888888,
              "#fdca26"
             ],
             [
              1,
              "#f0f921"
             ]
            ],
            "type": "surface"
           }
          ],
          "table": [
           {
            "cells": {
             "fill": {
              "color": "#EBF0F8"
             },
             "line": {
              "color": "white"
             }
            },
            "header": {
             "fill": {
              "color": "#C8D4E3"
             },
             "line": {
              "color": "white"
             }
            },
            "type": "table"
           }
          ]
         },
         "layout": {
          "annotationdefaults": {
           "arrowcolor": "#2a3f5f",
           "arrowhead": 0,
           "arrowwidth": 1
          },
          "coloraxis": {
           "colorbar": {
            "outlinewidth": 0,
            "ticks": ""
           }
          },
          "colorscale": {
           "diverging": [
            [
             0,
             "#8e0152"
            ],
            [
             0.1,
             "#c51b7d"
            ],
            [
             0.2,
             "#de77ae"
            ],
            [
             0.3,
             "#f1b6da"
            ],
            [
             0.4,
             "#fde0ef"
            ],
            [
             0.5,
             "#f7f7f7"
            ],
            [
             0.6,
             "#e6f5d0"
            ],
            [
             0.7,
             "#b8e186"
            ],
            [
             0.8,
             "#7fbc41"
            ],
            [
             0.9,
             "#4d9221"
            ],
            [
             1,
             "#276419"
            ]
           ],
           "sequential": [
            [
             0,
             "#0d0887"
            ],
            [
             0.1111111111111111,
             "#46039f"
            ],
            [
             0.2222222222222222,
             "#7201a8"
            ],
            [
             0.3333333333333333,
             "#9c179e"
            ],
            [
             0.4444444444444444,
             "#bd3786"
            ],
            [
             0.5555555555555556,
             "#d8576b"
            ],
            [
             0.6666666666666666,
             "#ed7953"
            ],
            [
             0.7777777777777778,
             "#fb9f3a"
            ],
            [
             0.8888888888888888,
             "#fdca26"
            ],
            [
             1,
             "#f0f921"
            ]
           ],
           "sequentialminus": [
            [
             0,
             "#0d0887"
            ],
            [
             0.1111111111111111,
             "#46039f"
            ],
            [
             0.2222222222222222,
             "#7201a8"
            ],
            [
             0.3333333333333333,
             "#9c179e"
            ],
            [
             0.4444444444444444,
             "#bd3786"
            ],
            [
             0.5555555555555556,
             "#d8576b"
            ],
            [
             0.6666666666666666,
             "#ed7953"
            ],
            [
             0.7777777777777778,
             "#fb9f3a"
            ],
            [
             0.8888888888888888,
             "#fdca26"
            ],
            [
             1,
             "#f0f921"
            ]
           ]
          },
          "colorway": [
           "#636efa",
           "#EF553B",
           "#00cc96",
           "#ab63fa",
           "#FFA15A",
           "#19d3f3",
           "#FF6692",
           "#B6E880",
           "#FF97FF",
           "#FECB52"
          ],
          "font": {
           "color": "#2a3f5f"
          },
          "geo": {
           "bgcolor": "white",
           "lakecolor": "white",
           "landcolor": "#E5ECF6",
           "showlakes": true,
           "showland": true,
           "subunitcolor": "white"
          },
          "hoverlabel": {
           "align": "left"
          },
          "hovermode": "closest",
          "mapbox": {
           "style": "light"
          },
          "paper_bgcolor": "white",
          "plot_bgcolor": "#E5ECF6",
          "polar": {
           "angularaxis": {
            "gridcolor": "white",
            "linecolor": "white",
            "ticks": ""
           },
           "bgcolor": "#E5ECF6",
           "radialaxis": {
            "gridcolor": "white",
            "linecolor": "white",
            "ticks": ""
           }
          },
          "scene": {
           "xaxis": {
            "backgroundcolor": "#E5ECF6",
            "gridcolor": "white",
            "gridwidth": 2,
            "linecolor": "white",
            "showbackground": true,
            "ticks": "",
            "zerolinecolor": "white"
           },
           "yaxis": {
            "backgroundcolor": "#E5ECF6",
            "gridcolor": "white",
            "gridwidth": 2,
            "linecolor": "white",
            "showbackground": true,
            "ticks": "",
            "zerolinecolor": "white"
           },
           "zaxis": {
            "backgroundcolor": "#E5ECF6",
            "gridcolor": "white",
            "gridwidth": 2,
            "linecolor": "white",
            "showbackground": true,
            "ticks": "",
            "zerolinecolor": "white"
           }
          },
          "shapedefaults": {
           "line": {
            "color": "#2a3f5f"
           }
          },
          "ternary": {
           "aaxis": {
            "gridcolor": "white",
            "linecolor": "white",
            "ticks": ""
           },
           "baxis": {
            "gridcolor": "white",
            "linecolor": "white",
            "ticks": ""
           },
           "bgcolor": "#E5ECF6",
           "caxis": {
            "gridcolor": "white",
            "linecolor": "white",
            "ticks": ""
           }
          },
          "title": {
           "x": 0.05
          },
          "xaxis": {
           "automargin": true,
           "gridcolor": "white",
           "linecolor": "white",
           "ticks": "",
           "title": {
            "standoff": 15
           },
           "zerolinecolor": "white",
           "zerolinewidth": 2
          },
          "yaxis": {
           "automargin": true,
           "gridcolor": "white",
           "linecolor": "white",
           "ticks": "",
           "title": {
            "standoff": 15
           },
           "zerolinecolor": "white",
           "zerolinewidth": 2
          }
         }
        },
        "title": {
         "text": "Model perfromance in predicting CLV"
        },
        "xaxis": {
         "title": {
          "text": "Time (2017 onwards)"
         }
        },
        "yaxis": {
         "title": {
          "text": "Cumulative revenue"
         }
        }
       }
      },
      "text/html": [
       "<div>\n",
       "        \n",
       "        \n",
       "            <div id=\"c04779a9-0c94-4731-8ce9-f71307917502\" class=\"plotly-graph-div\" style=\"height:525px; width:100%;\"></div>\n",
       "            <script type=\"text/javascript\">\n",
       "                require([\"plotly\"], function(Plotly) {\n",
       "                    window.PLOTLYENV=window.PLOTLYENV || {};\n",
       "                    \n",
       "                if (document.getElementById(\"c04779a9-0c94-4731-8ce9-f71307917502\")) {\n",
       "                    Plotly.newPlot(\n",
       "                        'c04779a9-0c94-4731-8ce9-f71307917502',\n",
       "                        [{\"mode\": \"lines\", \"name\": \"Actual\", \"type\": \"scatter\", \"x\": [1, 2, 3, 4, 5, 6, 7, 8, 9, 10, 11, 12, 13, 14, 15, 16, 17, 18, 19, 20, 21, 22, 23, 24, 25, 26, 27, 28, 29, 30, 31, 32, 33, 34, 35, 36, 37, 38, 39, 40, 41, 42, 43, 44, 45, 46, 47, 48, 49, 50, 51, 52], \"y\": [671645.0, 1352830.0, 2101159.0, 2764267.0, 3504116.0, 4271067.0, 5013217.0, 5705431.0, 6509786.0, 7301146.0, 7922831.0, 8742346.0, 9569709.0, 10402788.0, 11244961.0, 12136302.0, 13039712.0, 13786782.0, 14537057.0, 15237752.0, 15997947.0, 16779575.0, 17540418.0, 18301785.0, 19077586.0, 19833846.0, 20549273.0, 21333513.0, 22076508.0, 22907683.0, 23810506.0, 24640171.0, 25408721.0, 26254331.0, 26963583.0, 27789018.0, 28656101.0, 29449556.0, 30294131.0, 31311991.0, 32328306.0, 32931935.0, 33631464.0, 34395957.0, 35183932.0, 35944677.0, 36679245.0, 37406470.0, 38116223.0, 38840147.0, 39577068.0, 40228742.0]}, {\"mode\": \"lines\", \"name\": \" Model\", \"type\": \"scatter\", \"x\": [1, 2, 3, 4, 5, 6, 7, 8, 9, 10, 11, 12, 13, 14, 15, 16, 17, 18, 19, 20, 21, 22, 23, 24, 25, 26, 27, 28, 29, 30, 31, 32, 33, 34, 35, 36, 37, 38, 39, 40, 41, 42, 43, 44, 45, 46, 47, 48, 49, 50, 51, 52], \"y\": [330804.3168086879, 973917.6535456164, 1651809.497114607, 2360213.577284432, 3050872.0824384647, 3716685.4307468003, 4417404.389209773, 5098460.009779878, 5779358.36687659, 6472738.167337709, 7166502.096422477, 7839057.739828448, 8519728.685549347, 9202261.353577537, 9904090.269047327, 10564605.20478662, 11246336.691717692, 11924132.101078281, 12607130.440025672, 13291839.402165914, 13962706.370327096, 14650141.307038276, 15326739.952847118, 15989864.951560155, 16684765.562213758, 17356088.72122148, 18026197.67166113, 18718404.577319685, 19377141.35018502, 20052212.879104957, 20737519.68256287, 21399821.623504937, 22077057.239110526, 22743494.25193487, 23405340.40608817, 24085672.339721654, 24771934.39773198, 25440821.032417137, 26099912.83610642, 26772310.638832472, 27427441.77826083, 28113129.101970714, 28785835.170546707, 29446631.93733501, 30113995.70127399, 30776313.905380435, 31429397.06334105, 32116706.66250801, 32773716.205093287, 33433727.190926313, 34117972.80924556, 34779161.91378082]}],\n",
       "                        {\"template\": {\"data\": {\"bar\": [{\"error_x\": {\"color\": \"#2a3f5f\"}, \"error_y\": {\"color\": \"#2a3f5f\"}, \"marker\": {\"line\": {\"color\": \"#E5ECF6\", \"width\": 0.5}}, \"type\": \"bar\"}], \"barpolar\": [{\"marker\": {\"line\": {\"color\": \"#E5ECF6\", \"width\": 0.5}}, \"type\": \"barpolar\"}], \"carpet\": [{\"aaxis\": {\"endlinecolor\": \"#2a3f5f\", \"gridcolor\": \"white\", \"linecolor\": \"white\", \"minorgridcolor\": \"white\", \"startlinecolor\": \"#2a3f5f\"}, \"baxis\": {\"endlinecolor\": \"#2a3f5f\", \"gridcolor\": \"white\", \"linecolor\": \"white\", \"minorgridcolor\": \"white\", \"startlinecolor\": \"#2a3f5f\"}, \"type\": \"carpet\"}], \"choropleth\": [{\"colorbar\": {\"outlinewidth\": 0, \"ticks\": \"\"}, \"type\": \"choropleth\"}], \"contour\": [{\"colorbar\": {\"outlinewidth\": 0, \"ticks\": \"\"}, \"colorscale\": [[0.0, \"#0d0887\"], [0.1111111111111111, \"#46039f\"], [0.2222222222222222, \"#7201a8\"], [0.3333333333333333, \"#9c179e\"], [0.4444444444444444, \"#bd3786\"], [0.5555555555555556, \"#d8576b\"], [0.6666666666666666, \"#ed7953\"], [0.7777777777777778, \"#fb9f3a\"], [0.8888888888888888, \"#fdca26\"], [1.0, \"#f0f921\"]], \"type\": \"contour\"}], \"contourcarpet\": [{\"colorbar\": {\"outlinewidth\": 0, \"ticks\": \"\"}, \"type\": \"contourcarpet\"}], \"heatmap\": [{\"colorbar\": {\"outlinewidth\": 0, \"ticks\": \"\"}, \"colorscale\": [[0.0, \"#0d0887\"], [0.1111111111111111, \"#46039f\"], [0.2222222222222222, \"#7201a8\"], [0.3333333333333333, \"#9c179e\"], [0.4444444444444444, \"#bd3786\"], [0.5555555555555556, \"#d8576b\"], [0.6666666666666666, \"#ed7953\"], [0.7777777777777778, \"#fb9f3a\"], [0.8888888888888888, \"#fdca26\"], [1.0, \"#f0f921\"]], \"type\": \"heatmap\"}], \"heatmapgl\": [{\"colorbar\": {\"outlinewidth\": 0, \"ticks\": \"\"}, \"colorscale\": [[0.0, \"#0d0887\"], [0.1111111111111111, \"#46039f\"], [0.2222222222222222, \"#7201a8\"], [0.3333333333333333, \"#9c179e\"], [0.4444444444444444, \"#bd3786\"], [0.5555555555555556, \"#d8576b\"], [0.6666666666666666, \"#ed7953\"], [0.7777777777777778, \"#fb9f3a\"], [0.8888888888888888, \"#fdca26\"], [1.0, \"#f0f921\"]], \"type\": \"heatmapgl\"}], \"histogram\": [{\"marker\": {\"colorbar\": {\"outlinewidth\": 0, \"ticks\": \"\"}}, \"type\": \"histogram\"}], \"histogram2d\": [{\"colorbar\": {\"outlinewidth\": 0, \"ticks\": \"\"}, \"colorscale\": [[0.0, \"#0d0887\"], [0.1111111111111111, \"#46039f\"], [0.2222222222222222, \"#7201a8\"], [0.3333333333333333, \"#9c179e\"], [0.4444444444444444, \"#bd3786\"], [0.5555555555555556, \"#d8576b\"], [0.6666666666666666, \"#ed7953\"], [0.7777777777777778, \"#fb9f3a\"], [0.8888888888888888, \"#fdca26\"], [1.0, \"#f0f921\"]], \"type\": \"histogram2d\"}], \"histogram2dcontour\": [{\"colorbar\": {\"outlinewidth\": 0, \"ticks\": \"\"}, \"colorscale\": [[0.0, \"#0d0887\"], [0.1111111111111111, \"#46039f\"], [0.2222222222222222, \"#7201a8\"], [0.3333333333333333, \"#9c179e\"], [0.4444444444444444, \"#bd3786\"], [0.5555555555555556, \"#d8576b\"], [0.6666666666666666, \"#ed7953\"], [0.7777777777777778, \"#fb9f3a\"], [0.8888888888888888, \"#fdca26\"], [1.0, \"#f0f921\"]], \"type\": \"histogram2dcontour\"}], \"mesh3d\": [{\"colorbar\": {\"outlinewidth\": 0, \"ticks\": \"\"}, \"type\": \"mesh3d\"}], \"parcoords\": [{\"line\": {\"colorbar\": {\"outlinewidth\": 0, \"ticks\": \"\"}}, \"type\": \"parcoords\"}], \"pie\": [{\"automargin\": true, \"type\": \"pie\"}], \"scatter\": [{\"marker\": {\"colorbar\": {\"outlinewidth\": 0, \"ticks\": \"\"}}, \"type\": \"scatter\"}], \"scatter3d\": [{\"line\": {\"colorbar\": {\"outlinewidth\": 0, \"ticks\": \"\"}}, \"marker\": {\"colorbar\": {\"outlinewidth\": 0, \"ticks\": \"\"}}, \"type\": \"scatter3d\"}], \"scattercarpet\": [{\"marker\": {\"colorbar\": {\"outlinewidth\": 0, \"ticks\": \"\"}}, \"type\": \"scattercarpet\"}], \"scattergeo\": [{\"marker\": {\"colorbar\": {\"outlinewidth\": 0, \"ticks\": \"\"}}, \"type\": \"scattergeo\"}], \"scattergl\": [{\"marker\": {\"colorbar\": {\"outlinewidth\": 0, \"ticks\": \"\"}}, \"type\": \"scattergl\"}], \"scattermapbox\": [{\"marker\": {\"colorbar\": {\"outlinewidth\": 0, \"ticks\": \"\"}}, \"type\": \"scattermapbox\"}], \"scatterpolar\": [{\"marker\": {\"colorbar\": {\"outlinewidth\": 0, \"ticks\": \"\"}}, \"type\": \"scatterpolar\"}], \"scatterpolargl\": [{\"marker\": {\"colorbar\": {\"outlinewidth\": 0, \"ticks\": \"\"}}, \"type\": \"scatterpolargl\"}], \"scatterternary\": [{\"marker\": {\"colorbar\": {\"outlinewidth\": 0, \"ticks\": \"\"}}, \"type\": \"scatterternary\"}], \"surface\": [{\"colorbar\": {\"outlinewidth\": 0, \"ticks\": \"\"}, \"colorscale\": [[0.0, \"#0d0887\"], [0.1111111111111111, \"#46039f\"], [0.2222222222222222, \"#7201a8\"], [0.3333333333333333, \"#9c179e\"], [0.4444444444444444, \"#bd3786\"], [0.5555555555555556, \"#d8576b\"], [0.6666666666666666, \"#ed7953\"], [0.7777777777777778, \"#fb9f3a\"], [0.8888888888888888, \"#fdca26\"], [1.0, \"#f0f921\"]], \"type\": \"surface\"}], \"table\": [{\"cells\": {\"fill\": {\"color\": \"#EBF0F8\"}, \"line\": {\"color\": \"white\"}}, \"header\": {\"fill\": {\"color\": \"#C8D4E3\"}, \"line\": {\"color\": \"white\"}}, \"type\": \"table\"}]}, \"layout\": {\"annotationdefaults\": {\"arrowcolor\": \"#2a3f5f\", \"arrowhead\": 0, \"arrowwidth\": 1}, \"coloraxis\": {\"colorbar\": {\"outlinewidth\": 0, \"ticks\": \"\"}}, \"colorscale\": {\"diverging\": [[0, \"#8e0152\"], [0.1, \"#c51b7d\"], [0.2, \"#de77ae\"], [0.3, \"#f1b6da\"], [0.4, \"#fde0ef\"], [0.5, \"#f7f7f7\"], [0.6, \"#e6f5d0\"], [0.7, \"#b8e186\"], [0.8, \"#7fbc41\"], [0.9, \"#4d9221\"], [1, \"#276419\"]], \"sequential\": [[0.0, \"#0d0887\"], [0.1111111111111111, \"#46039f\"], [0.2222222222222222, \"#7201a8\"], [0.3333333333333333, \"#9c179e\"], [0.4444444444444444, \"#bd3786\"], [0.5555555555555556, \"#d8576b\"], [0.6666666666666666, \"#ed7953\"], [0.7777777777777778, \"#fb9f3a\"], [0.8888888888888888, \"#fdca26\"], [1.0, \"#f0f921\"]], \"sequentialminus\": [[0.0, \"#0d0887\"], [0.1111111111111111, \"#46039f\"], [0.2222222222222222, \"#7201a8\"], [0.3333333333333333, \"#9c179e\"], [0.4444444444444444, \"#bd3786\"], [0.5555555555555556, \"#d8576b\"], [0.6666666666666666, \"#ed7953\"], [0.7777777777777778, \"#fb9f3a\"], [0.8888888888888888, \"#fdca26\"], [1.0, \"#f0f921\"]]}, \"colorway\": [\"#636efa\", \"#EF553B\", \"#00cc96\", \"#ab63fa\", \"#FFA15A\", \"#19d3f3\", \"#FF6692\", \"#B6E880\", \"#FF97FF\", \"#FECB52\"], \"font\": {\"color\": \"#2a3f5f\"}, \"geo\": {\"bgcolor\": \"white\", \"lakecolor\": \"white\", \"landcolor\": \"#E5ECF6\", \"showlakes\": true, \"showland\": true, \"subunitcolor\": \"white\"}, \"hoverlabel\": {\"align\": \"left\"}, \"hovermode\": \"closest\", \"mapbox\": {\"style\": \"light\"}, \"paper_bgcolor\": \"white\", \"plot_bgcolor\": \"#E5ECF6\", \"polar\": {\"angularaxis\": {\"gridcolor\": \"white\", \"linecolor\": \"white\", \"ticks\": \"\"}, \"bgcolor\": \"#E5ECF6\", \"radialaxis\": {\"gridcolor\": \"white\", \"linecolor\": \"white\", \"ticks\": \"\"}}, \"scene\": {\"xaxis\": {\"backgroundcolor\": \"#E5ECF6\", \"gridcolor\": \"white\", \"gridwidth\": 2, \"linecolor\": \"white\", \"showbackground\": true, \"ticks\": \"\", \"zerolinecolor\": \"white\"}, \"yaxis\": {\"backgroundcolor\": \"#E5ECF6\", \"gridcolor\": \"white\", \"gridwidth\": 2, \"linecolor\": \"white\", \"showbackground\": true, \"ticks\": \"\", \"zerolinecolor\": \"white\"}, \"zaxis\": {\"backgroundcolor\": \"#E5ECF6\", \"gridcolor\": \"white\", \"gridwidth\": 2, \"linecolor\": \"white\", \"showbackground\": true, \"ticks\": \"\", \"zerolinecolor\": \"white\"}}, \"shapedefaults\": {\"line\": {\"color\": \"#2a3f5f\"}}, \"ternary\": {\"aaxis\": {\"gridcolor\": \"white\", \"linecolor\": \"white\", \"ticks\": \"\"}, \"baxis\": {\"gridcolor\": \"white\", \"linecolor\": \"white\", \"ticks\": \"\"}, \"bgcolor\": \"#E5ECF6\", \"caxis\": {\"gridcolor\": \"white\", \"linecolor\": \"white\", \"ticks\": \"\"}}, \"title\": {\"x\": 0.05}, \"xaxis\": {\"automargin\": true, \"gridcolor\": \"white\", \"linecolor\": \"white\", \"ticks\": \"\", \"title\": {\"standoff\": 15}, \"zerolinecolor\": \"white\", \"zerolinewidth\": 2}, \"yaxis\": {\"automargin\": true, \"gridcolor\": \"white\", \"linecolor\": \"white\", \"ticks\": \"\", \"title\": {\"standoff\": 15}, \"zerolinecolor\": \"white\", \"zerolinewidth\": 2}}}, \"title\": {\"text\": \"Model perfromance in predicting CLV\"}, \"xaxis\": {\"title\": {\"text\": \"Time (2017 onwards)\"}}, \"yaxis\": {\"title\": {\"text\": \"Cumulative revenue\"}}},\n",
       "                        {\"responsive\": true}\n",
       "                    ).then(function(){\n",
       "                            \n",
       "var gd = document.getElementById('c04779a9-0c94-4731-8ce9-f71307917502');\n",
       "var x = new MutationObserver(function (mutations, observer) {{\n",
       "        var display = window.getComputedStyle(gd).display;\n",
       "        if (!display || display === 'none') {{\n",
       "            console.log([gd, 'removed!']);\n",
       "            Plotly.purge(gd);\n",
       "            observer.disconnect();\n",
       "        }}\n",
       "}});\n",
       "\n",
       "// Listen for the removal of the full notebook cells\n",
       "var notebookContainer = gd.closest('#notebook-container');\n",
       "if (notebookContainer) {{\n",
       "    x.observe(notebookContainer, {childList: true});\n",
       "}}\n",
       "\n",
       "// Listen for the clearing of the current output cell\n",
       "var outputEl = gd.closest('.output');\n",
       "if (outputEl) {{\n",
       "    x.observe(outputEl, {childList: true});\n",
       "}}\n",
       "\n",
       "                        })\n",
       "                };\n",
       "                });\n",
       "            </script>\n",
       "        </div>"
      ]
     },
     "metadata": {},
     "output_type": "display_data"
    }
   ],
   "source": [
    "# Visual plots\n",
    "fig = go.Figure()\n",
    "fig.add_trace(go.Scatter(x=results_df['order_date'], y=results_df['cumulative_revenue'],mode='lines',name='Actual'))\n",
    "\n",
    "fig.add_trace(go.Scatter(x=results_df['order_date'], y=results_df['clv_predicted'],\n",
    "                    mode='lines',\n",
    "                    name=' Model'))\n",
    "\n",
    "fig.update_layout(title= 'Model perfromance in predicting CLV',\n",
    "    xaxis_title='Time (2017 onwards)',\n",
    "                   yaxis_title='Cumulative revenue')\n",
    "fig.show()\n",
    "\n"
   ]
  },
  {
   "cell_type": "code",
   "execution_count": 616,
   "metadata": {},
   "outputs": [
    {
     "data": {
      "application/vnd.plotly.v1+json": {
       "config": {
        "plotlyServerURL": "https://plot.ly"
       },
       "data": [
        {
         "mode": "lines",
         "name": "Actual",
         "type": "scatter",
         "x": [
          1,
          2,
          3,
          4,
          5,
          6,
          7,
          8,
          9,
          10,
          11,
          12,
          13,
          14,
          15,
          16,
          17,
          18,
          19,
          20,
          21,
          22,
          23,
          24,
          25,
          26,
          27,
          28,
          29,
          30,
          31,
          32,
          33,
          34,
          35,
          36,
          37,
          38,
          39,
          40,
          41,
          42,
          43,
          44,
          45,
          46,
          47,
          48,
          49,
          50,
          51,
          52
         ],
         "y": [
          1100,
          2240,
          3399,
          4423,
          5648,
          6852,
          8058,
          9191,
          10514,
          11792,
          12877,
          14183,
          15486,
          16800,
          18109,
          19487,
          20831,
          21973,
          23138,
          24276,
          25437,
          26664,
          27841,
          29014,
          30232,
          31373,
          32538,
          33753,
          34950,
          36211,
          37565,
          38779,
          39906,
          41075,
          42017,
          43142,
          44365,
          45524,
          46671,
          47966,
          49256,
          50033,
          51020,
          52098,
          53162,
          54226,
          55311,
          56357,
          57406,
          58474,
          59547,
          60529
         ]
        },
        {
         "mode": "lines",
         "name": " Model",
         "type": "scatter",
         "x": [
          1,
          2,
          3,
          4,
          5,
          6,
          7,
          8,
          9,
          10,
          11,
          12,
          13,
          14,
          15,
          16,
          17,
          18,
          19,
          20,
          21,
          22,
          23,
          24,
          25,
          26,
          27,
          28,
          29,
          30,
          31,
          32,
          33,
          34,
          35,
          36,
          37,
          38,
          39,
          40,
          41,
          42,
          43,
          44,
          45,
          46,
          47,
          48,
          49,
          50,
          51,
          52
         ],
         "y": [
          530,
          1621,
          2786,
          3989,
          5156,
          6303,
          7494,
          8662,
          9819,
          10992,
          12179,
          13322,
          14486,
          15651,
          16836,
          17970,
          19136,
          20286,
          21449,
          22624,
          23761,
          24935,
          26079,
          27211,
          28387,
          29544,
          30684,
          31862,
          32991,
          34137,
          35313,
          36437,
          37587,
          38725,
          39854,
          41007,
          42183,
          43326,
          44449,
          45589,
          46712,
          47873,
          49026,
          50151,
          51293,
          52413,
          53535,
          54702,
          55819,
          56946,
          58117,
          59239
         ]
        }
       ],
       "layout": {
        "template": {
         "data": {
          "bar": [
           {
            "error_x": {
             "color": "#2a3f5f"
            },
            "error_y": {
             "color": "#2a3f5f"
            },
            "marker": {
             "line": {
              "color": "#E5ECF6",
              "width": 0.5
             }
            },
            "type": "bar"
           }
          ],
          "barpolar": [
           {
            "marker": {
             "line": {
              "color": "#E5ECF6",
              "width": 0.5
             }
            },
            "type": "barpolar"
           }
          ],
          "carpet": [
           {
            "aaxis": {
             "endlinecolor": "#2a3f5f",
             "gridcolor": "white",
             "linecolor": "white",
             "minorgridcolor": "white",
             "startlinecolor": "#2a3f5f"
            },
            "baxis": {
             "endlinecolor": "#2a3f5f",
             "gridcolor": "white",
             "linecolor": "white",
             "minorgridcolor": "white",
             "startlinecolor": "#2a3f5f"
            },
            "type": "carpet"
           }
          ],
          "choropleth": [
           {
            "colorbar": {
             "outlinewidth": 0,
             "ticks": ""
            },
            "type": "choropleth"
           }
          ],
          "contour": [
           {
            "colorbar": {
             "outlinewidth": 0,
             "ticks": ""
            },
            "colorscale": [
             [
              0,
              "#0d0887"
             ],
             [
              0.1111111111111111,
              "#46039f"
             ],
             [
              0.2222222222222222,
              "#7201a8"
             ],
             [
              0.3333333333333333,
              "#9c179e"
             ],
             [
              0.4444444444444444,
              "#bd3786"
             ],
             [
              0.5555555555555556,
              "#d8576b"
             ],
             [
              0.6666666666666666,
              "#ed7953"
             ],
             [
              0.7777777777777778,
              "#fb9f3a"
             ],
             [
              0.8888888888888888,
              "#fdca26"
             ],
             [
              1,
              "#f0f921"
             ]
            ],
            "type": "contour"
           }
          ],
          "contourcarpet": [
           {
            "colorbar": {
             "outlinewidth": 0,
             "ticks": ""
            },
            "type": "contourcarpet"
           }
          ],
          "heatmap": [
           {
            "colorbar": {
             "outlinewidth": 0,
             "ticks": ""
            },
            "colorscale": [
             [
              0,
              "#0d0887"
             ],
             [
              0.1111111111111111,
              "#46039f"
             ],
             [
              0.2222222222222222,
              "#7201a8"
             ],
             [
              0.3333333333333333,
              "#9c179e"
             ],
             [
              0.4444444444444444,
              "#bd3786"
             ],
             [
              0.5555555555555556,
              "#d8576b"
             ],
             [
              0.6666666666666666,
              "#ed7953"
             ],
             [
              0.7777777777777778,
              "#fb9f3a"
             ],
             [
              0.8888888888888888,
              "#fdca26"
             ],
             [
              1,
              "#f0f921"
             ]
            ],
            "type": "heatmap"
           }
          ],
          "heatmapgl": [
           {
            "colorbar": {
             "outlinewidth": 0,
             "ticks": ""
            },
            "colorscale": [
             [
              0,
              "#0d0887"
             ],
             [
              0.1111111111111111,
              "#46039f"
             ],
             [
              0.2222222222222222,
              "#7201a8"
             ],
             [
              0.3333333333333333,
              "#9c179e"
             ],
             [
              0.4444444444444444,
              "#bd3786"
             ],
             [
              0.5555555555555556,
              "#d8576b"
             ],
             [
              0.6666666666666666,
              "#ed7953"
             ],
             [
              0.7777777777777778,
              "#fb9f3a"
             ],
             [
              0.8888888888888888,
              "#fdca26"
             ],
             [
              1,
              "#f0f921"
             ]
            ],
            "type": "heatmapgl"
           }
          ],
          "histogram": [
           {
            "marker": {
             "colorbar": {
              "outlinewidth": 0,
              "ticks": ""
             }
            },
            "type": "histogram"
           }
          ],
          "histogram2d": [
           {
            "colorbar": {
             "outlinewidth": 0,
             "ticks": ""
            },
            "colorscale": [
             [
              0,
              "#0d0887"
             ],
             [
              0.1111111111111111,
              "#46039f"
             ],
             [
              0.2222222222222222,
              "#7201a8"
             ],
             [
              0.3333333333333333,
              "#9c179e"
             ],
             [
              0.4444444444444444,
              "#bd3786"
             ],
             [
              0.5555555555555556,
              "#d8576b"
             ],
             [
              0.6666666666666666,
              "#ed7953"
             ],
             [
              0.7777777777777778,
              "#fb9f3a"
             ],
             [
              0.8888888888888888,
              "#fdca26"
             ],
             [
              1,
              "#f0f921"
             ]
            ],
            "type": "histogram2d"
           }
          ],
          "histogram2dcontour": [
           {
            "colorbar": {
             "outlinewidth": 0,
             "ticks": ""
            },
            "colorscale": [
             [
              0,
              "#0d0887"
             ],
             [
              0.1111111111111111,
              "#46039f"
             ],
             [
              0.2222222222222222,
              "#7201a8"
             ],
             [
              0.3333333333333333,
              "#9c179e"
             ],
             [
              0.4444444444444444,
              "#bd3786"
             ],
             [
              0.5555555555555556,
              "#d8576b"
             ],
             [
              0.6666666666666666,
              "#ed7953"
             ],
             [
              0.7777777777777778,
              "#fb9f3a"
             ],
             [
              0.8888888888888888,
              "#fdca26"
             ],
             [
              1,
              "#f0f921"
             ]
            ],
            "type": "histogram2dcontour"
           }
          ],
          "mesh3d": [
           {
            "colorbar": {
             "outlinewidth": 0,
             "ticks": ""
            },
            "type": "mesh3d"
           }
          ],
          "parcoords": [
           {
            "line": {
             "colorbar": {
              "outlinewidth": 0,
              "ticks": ""
             }
            },
            "type": "parcoords"
           }
          ],
          "pie": [
           {
            "automargin": true,
            "type": "pie"
           }
          ],
          "scatter": [
           {
            "marker": {
             "colorbar": {
              "outlinewidth": 0,
              "ticks": ""
             }
            },
            "type": "scatter"
           }
          ],
          "scatter3d": [
           {
            "line": {
             "colorbar": {
              "outlinewidth": 0,
              "ticks": ""
             }
            },
            "marker": {
             "colorbar": {
              "outlinewidth": 0,
              "ticks": ""
             }
            },
            "type": "scatter3d"
           }
          ],
          "scattercarpet": [
           {
            "marker": {
             "colorbar": {
              "outlinewidth": 0,
              "ticks": ""
             }
            },
            "type": "scattercarpet"
           }
          ],
          "scattergeo": [
           {
            "marker": {
             "colorbar": {
              "outlinewidth": 0,
              "ticks": ""
             }
            },
            "type": "scattergeo"
           }
          ],
          "scattergl": [
           {
            "marker": {
             "colorbar": {
              "outlinewidth": 0,
              "ticks": ""
             }
            },
            "type": "scattergl"
           }
          ],
          "scattermapbox": [
           {
            "marker": {
             "colorbar": {
              "outlinewidth": 0,
              "ticks": ""
             }
            },
            "type": "scattermapbox"
           }
          ],
          "scatterpolar": [
           {
            "marker": {
             "colorbar": {
              "outlinewidth": 0,
              "ticks": ""
             }
            },
            "type": "scatterpolar"
           }
          ],
          "scatterpolargl": [
           {
            "marker": {
             "colorbar": {
              "outlinewidth": 0,
              "ticks": ""
             }
            },
            "type": "scatterpolargl"
           }
          ],
          "scatterternary": [
           {
            "marker": {
             "colorbar": {
              "outlinewidth": 0,
              "ticks": ""
             }
            },
            "type": "scatterternary"
           }
          ],
          "surface": [
           {
            "colorbar": {
             "outlinewidth": 0,
             "ticks": ""
            },
            "colorscale": [
             [
              0,
              "#0d0887"
             ],
             [
              0.1111111111111111,
              "#46039f"
             ],
             [
              0.2222222222222222,
              "#7201a8"
             ],
             [
              0.3333333333333333,
              "#9c179e"
             ],
             [
              0.4444444444444444,
              "#bd3786"
             ],
             [
              0.5555555555555556,
              "#d8576b"
             ],
             [
              0.6666666666666666,
              "#ed7953"
             ],
             [
              0.7777777777777778,
              "#fb9f3a"
             ],
             [
              0.8888888888888888,
              "#fdca26"
             ],
             [
              1,
              "#f0f921"
             ]
            ],
            "type": "surface"
           }
          ],
          "table": [
           {
            "cells": {
             "fill": {
              "color": "#EBF0F8"
             },
             "line": {
              "color": "white"
             }
            },
            "header": {
             "fill": {
              "color": "#C8D4E3"
             },
             "line": {
              "color": "white"
             }
            },
            "type": "table"
           }
          ]
         },
         "layout": {
          "annotationdefaults": {
           "arrowcolor": "#2a3f5f",
           "arrowhead": 0,
           "arrowwidth": 1
          },
          "coloraxis": {
           "colorbar": {
            "outlinewidth": 0,
            "ticks": ""
           }
          },
          "colorscale": {
           "diverging": [
            [
             0,
             "#8e0152"
            ],
            [
             0.1,
             "#c51b7d"
            ],
            [
             0.2,
             "#de77ae"
            ],
            [
             0.3,
             "#f1b6da"
            ],
            [
             0.4,
             "#fde0ef"
            ],
            [
             0.5,
             "#f7f7f7"
            ],
            [
             0.6,
             "#e6f5d0"
            ],
            [
             0.7,
             "#b8e186"
            ],
            [
             0.8,
             "#7fbc41"
            ],
            [
             0.9,
             "#4d9221"
            ],
            [
             1,
             "#276419"
            ]
           ],
           "sequential": [
            [
             0,
             "#0d0887"
            ],
            [
             0.1111111111111111,
             "#46039f"
            ],
            [
             0.2222222222222222,
             "#7201a8"
            ],
            [
             0.3333333333333333,
             "#9c179e"
            ],
            [
             0.4444444444444444,
             "#bd3786"
            ],
            [
             0.5555555555555556,
             "#d8576b"
            ],
            [
             0.6666666666666666,
             "#ed7953"
            ],
            [
             0.7777777777777778,
             "#fb9f3a"
            ],
            [
             0.8888888888888888,
             "#fdca26"
            ],
            [
             1,
             "#f0f921"
            ]
           ],
           "sequentialminus": [
            [
             0,
             "#0d0887"
            ],
            [
             0.1111111111111111,
             "#46039f"
            ],
            [
             0.2222222222222222,
             "#7201a8"
            ],
            [
             0.3333333333333333,
             "#9c179e"
            ],
            [
             0.4444444444444444,
             "#bd3786"
            ],
            [
             0.5555555555555556,
             "#d8576b"
            ],
            [
             0.6666666666666666,
             "#ed7953"
            ],
            [
             0.7777777777777778,
             "#fb9f3a"
            ],
            [
             0.8888888888888888,
             "#fdca26"
            ],
            [
             1,
             "#f0f921"
            ]
           ]
          },
          "colorway": [
           "#636efa",
           "#EF553B",
           "#00cc96",
           "#ab63fa",
           "#FFA15A",
           "#19d3f3",
           "#FF6692",
           "#B6E880",
           "#FF97FF",
           "#FECB52"
          ],
          "font": {
           "color": "#2a3f5f"
          },
          "geo": {
           "bgcolor": "white",
           "lakecolor": "white",
           "landcolor": "#E5ECF6",
           "showlakes": true,
           "showland": true,
           "subunitcolor": "white"
          },
          "hoverlabel": {
           "align": "left"
          },
          "hovermode": "closest",
          "mapbox": {
           "style": "light"
          },
          "paper_bgcolor": "white",
          "plot_bgcolor": "#E5ECF6",
          "polar": {
           "angularaxis": {
            "gridcolor": "white",
            "linecolor": "white",
            "ticks": ""
           },
           "bgcolor": "#E5ECF6",
           "radialaxis": {
            "gridcolor": "white",
            "linecolor": "white",
            "ticks": ""
           }
          },
          "scene": {
           "xaxis": {
            "backgroundcolor": "#E5ECF6",
            "gridcolor": "white",
            "gridwidth": 2,
            "linecolor": "white",
            "showbackground": true,
            "ticks": "",
            "zerolinecolor": "white"
           },
           "yaxis": {
            "backgroundcolor": "#E5ECF6",
            "gridcolor": "white",
            "gridwidth": 2,
            "linecolor": "white",
            "showbackground": true,
            "ticks": "",
            "zerolinecolor": "white"
           },
           "zaxis": {
            "backgroundcolor": "#E5ECF6",
            "gridcolor": "white",
            "gridwidth": 2,
            "linecolor": "white",
            "showbackground": true,
            "ticks": "",
            "zerolinecolor": "white"
           }
          },
          "shapedefaults": {
           "line": {
            "color": "#2a3f5f"
           }
          },
          "ternary": {
           "aaxis": {
            "gridcolor": "white",
            "linecolor": "white",
            "ticks": ""
           },
           "baxis": {
            "gridcolor": "white",
            "linecolor": "white",
            "ticks": ""
           },
           "bgcolor": "#E5ECF6",
           "caxis": {
            "gridcolor": "white",
            "linecolor": "white",
            "ticks": ""
           }
          },
          "title": {
           "x": 0.05
          },
          "xaxis": {
           "automargin": true,
           "gridcolor": "white",
           "linecolor": "white",
           "ticks": "",
           "title": {
            "standoff": 15
           },
           "zerolinecolor": "white",
           "zerolinewidth": 2
          },
          "yaxis": {
           "automargin": true,
           "gridcolor": "white",
           "linecolor": "white",
           "ticks": "",
           "title": {
            "standoff": 15
           },
           "zerolinecolor": "white",
           "zerolinewidth": 2
          }
         }
        },
        "title": {
         "text": "Model perfromance in predicting orders"
        },
        "xaxis": {
         "title": {
          "text": "Time (2017 onwards)"
         }
        },
        "yaxis": {
         "title": {
          "text": "Cumulative orders"
         }
        }
       }
      },
      "text/html": [
       "<div>\n",
       "        \n",
       "        \n",
       "            <div id=\"4f90f7ff-5895-4207-9490-440d887cd079\" class=\"plotly-graph-div\" style=\"height:525px; width:100%;\"></div>\n",
       "            <script type=\"text/javascript\">\n",
       "                require([\"plotly\"], function(Plotly) {\n",
       "                    window.PLOTLYENV=window.PLOTLYENV || {};\n",
       "                    \n",
       "                if (document.getElementById(\"4f90f7ff-5895-4207-9490-440d887cd079\")) {\n",
       "                    Plotly.newPlot(\n",
       "                        '4f90f7ff-5895-4207-9490-440d887cd079',\n",
       "                        [{\"mode\": \"lines\", \"name\": \"Actual\", \"type\": \"scatter\", \"x\": [1, 2, 3, 4, 5, 6, 7, 8, 9, 10, 11, 12, 13, 14, 15, 16, 17, 18, 19, 20, 21, 22, 23, 24, 25, 26, 27, 28, 29, 30, 31, 32, 33, 34, 35, 36, 37, 38, 39, 40, 41, 42, 43, 44, 45, 46, 47, 48, 49, 50, 51, 52], \"y\": [1100, 2240, 3399, 4423, 5648, 6852, 8058, 9191, 10514, 11792, 12877, 14183, 15486, 16800, 18109, 19487, 20831, 21973, 23138, 24276, 25437, 26664, 27841, 29014, 30232, 31373, 32538, 33753, 34950, 36211, 37565, 38779, 39906, 41075, 42017, 43142, 44365, 45524, 46671, 47966, 49256, 50033, 51020, 52098, 53162, 54226, 55311, 56357, 57406, 58474, 59547, 60529]}, {\"mode\": \"lines\", \"name\": \" Model\", \"type\": \"scatter\", \"x\": [1, 2, 3, 4, 5, 6, 7, 8, 9, 10, 11, 12, 13, 14, 15, 16, 17, 18, 19, 20, 21, 22, 23, 24, 25, 26, 27, 28, 29, 30, 31, 32, 33, 34, 35, 36, 37, 38, 39, 40, 41, 42, 43, 44, 45, 46, 47, 48, 49, 50, 51, 52], \"y\": [530, 1621, 2786, 3989, 5156, 6303, 7494, 8662, 9819, 10992, 12179, 13322, 14486, 15651, 16836, 17970, 19136, 20286, 21449, 22624, 23761, 24935, 26079, 27211, 28387, 29544, 30684, 31862, 32991, 34137, 35313, 36437, 37587, 38725, 39854, 41007, 42183, 43326, 44449, 45589, 46712, 47873, 49026, 50151, 51293, 52413, 53535, 54702, 55819, 56946, 58117, 59239]}],\n",
       "                        {\"template\": {\"data\": {\"bar\": [{\"error_x\": {\"color\": \"#2a3f5f\"}, \"error_y\": {\"color\": \"#2a3f5f\"}, \"marker\": {\"line\": {\"color\": \"#E5ECF6\", \"width\": 0.5}}, \"type\": \"bar\"}], \"barpolar\": [{\"marker\": {\"line\": {\"color\": \"#E5ECF6\", \"width\": 0.5}}, \"type\": \"barpolar\"}], \"carpet\": [{\"aaxis\": {\"endlinecolor\": \"#2a3f5f\", \"gridcolor\": \"white\", \"linecolor\": \"white\", \"minorgridcolor\": \"white\", \"startlinecolor\": \"#2a3f5f\"}, \"baxis\": {\"endlinecolor\": \"#2a3f5f\", \"gridcolor\": \"white\", \"linecolor\": \"white\", \"minorgridcolor\": \"white\", \"startlinecolor\": \"#2a3f5f\"}, \"type\": \"carpet\"}], \"choropleth\": [{\"colorbar\": {\"outlinewidth\": 0, \"ticks\": \"\"}, \"type\": \"choropleth\"}], \"contour\": [{\"colorbar\": {\"outlinewidth\": 0, \"ticks\": \"\"}, \"colorscale\": [[0.0, \"#0d0887\"], [0.1111111111111111, \"#46039f\"], [0.2222222222222222, \"#7201a8\"], [0.3333333333333333, \"#9c179e\"], [0.4444444444444444, \"#bd3786\"], [0.5555555555555556, \"#d8576b\"], [0.6666666666666666, \"#ed7953\"], [0.7777777777777778, \"#fb9f3a\"], [0.8888888888888888, \"#fdca26\"], [1.0, \"#f0f921\"]], \"type\": \"contour\"}], \"contourcarpet\": [{\"colorbar\": {\"outlinewidth\": 0, \"ticks\": \"\"}, \"type\": \"contourcarpet\"}], \"heatmap\": [{\"colorbar\": {\"outlinewidth\": 0, \"ticks\": \"\"}, \"colorscale\": [[0.0, \"#0d0887\"], [0.1111111111111111, \"#46039f\"], [0.2222222222222222, \"#7201a8\"], [0.3333333333333333, \"#9c179e\"], [0.4444444444444444, \"#bd3786\"], [0.5555555555555556, \"#d8576b\"], [0.6666666666666666, \"#ed7953\"], [0.7777777777777778, \"#fb9f3a\"], [0.8888888888888888, \"#fdca26\"], [1.0, \"#f0f921\"]], \"type\": \"heatmap\"}], \"heatmapgl\": [{\"colorbar\": {\"outlinewidth\": 0, \"ticks\": \"\"}, \"colorscale\": [[0.0, \"#0d0887\"], [0.1111111111111111, \"#46039f\"], [0.2222222222222222, \"#7201a8\"], [0.3333333333333333, \"#9c179e\"], [0.4444444444444444, \"#bd3786\"], [0.5555555555555556, \"#d8576b\"], [0.6666666666666666, \"#ed7953\"], [0.7777777777777778, \"#fb9f3a\"], [0.8888888888888888, \"#fdca26\"], [1.0, \"#f0f921\"]], \"type\": \"heatmapgl\"}], \"histogram\": [{\"marker\": {\"colorbar\": {\"outlinewidth\": 0, \"ticks\": \"\"}}, \"type\": \"histogram\"}], \"histogram2d\": [{\"colorbar\": {\"outlinewidth\": 0, \"ticks\": \"\"}, \"colorscale\": [[0.0, \"#0d0887\"], [0.1111111111111111, \"#46039f\"], [0.2222222222222222, \"#7201a8\"], [0.3333333333333333, \"#9c179e\"], [0.4444444444444444, \"#bd3786\"], [0.5555555555555556, \"#d8576b\"], [0.6666666666666666, \"#ed7953\"], [0.7777777777777778, \"#fb9f3a\"], [0.8888888888888888, \"#fdca26\"], [1.0, \"#f0f921\"]], \"type\": \"histogram2d\"}], \"histogram2dcontour\": [{\"colorbar\": {\"outlinewidth\": 0, \"ticks\": \"\"}, \"colorscale\": [[0.0, \"#0d0887\"], [0.1111111111111111, \"#46039f\"], [0.2222222222222222, \"#7201a8\"], [0.3333333333333333, \"#9c179e\"], [0.4444444444444444, \"#bd3786\"], [0.5555555555555556, \"#d8576b\"], [0.6666666666666666, \"#ed7953\"], [0.7777777777777778, \"#fb9f3a\"], [0.8888888888888888, \"#fdca26\"], [1.0, \"#f0f921\"]], \"type\": \"histogram2dcontour\"}], \"mesh3d\": [{\"colorbar\": {\"outlinewidth\": 0, \"ticks\": \"\"}, \"type\": \"mesh3d\"}], \"parcoords\": [{\"line\": {\"colorbar\": {\"outlinewidth\": 0, \"ticks\": \"\"}}, \"type\": \"parcoords\"}], \"pie\": [{\"automargin\": true, \"type\": \"pie\"}], \"scatter\": [{\"marker\": {\"colorbar\": {\"outlinewidth\": 0, \"ticks\": \"\"}}, \"type\": \"scatter\"}], \"scatter3d\": [{\"line\": {\"colorbar\": {\"outlinewidth\": 0, \"ticks\": \"\"}}, \"marker\": {\"colorbar\": {\"outlinewidth\": 0, \"ticks\": \"\"}}, \"type\": \"scatter3d\"}], \"scattercarpet\": [{\"marker\": {\"colorbar\": {\"outlinewidth\": 0, \"ticks\": \"\"}}, \"type\": \"scattercarpet\"}], \"scattergeo\": [{\"marker\": {\"colorbar\": {\"outlinewidth\": 0, \"ticks\": \"\"}}, \"type\": \"scattergeo\"}], \"scattergl\": [{\"marker\": {\"colorbar\": {\"outlinewidth\": 0, \"ticks\": \"\"}}, \"type\": \"scattergl\"}], \"scattermapbox\": [{\"marker\": {\"colorbar\": {\"outlinewidth\": 0, \"ticks\": \"\"}}, \"type\": \"scattermapbox\"}], \"scatterpolar\": [{\"marker\": {\"colorbar\": {\"outlinewidth\": 0, \"ticks\": \"\"}}, \"type\": \"scatterpolar\"}], \"scatterpolargl\": [{\"marker\": {\"colorbar\": {\"outlinewidth\": 0, \"ticks\": \"\"}}, \"type\": \"scatterpolargl\"}], \"scatterternary\": [{\"marker\": {\"colorbar\": {\"outlinewidth\": 0, \"ticks\": \"\"}}, \"type\": \"scatterternary\"}], \"surface\": [{\"colorbar\": {\"outlinewidth\": 0, \"ticks\": \"\"}, \"colorscale\": [[0.0, \"#0d0887\"], [0.1111111111111111, \"#46039f\"], [0.2222222222222222, \"#7201a8\"], [0.3333333333333333, \"#9c179e\"], [0.4444444444444444, \"#bd3786\"], [0.5555555555555556, \"#d8576b\"], [0.6666666666666666, \"#ed7953\"], [0.7777777777777778, \"#fb9f3a\"], [0.8888888888888888, \"#fdca26\"], [1.0, \"#f0f921\"]], \"type\": \"surface\"}], \"table\": [{\"cells\": {\"fill\": {\"color\": \"#EBF0F8\"}, \"line\": {\"color\": \"white\"}}, \"header\": {\"fill\": {\"color\": \"#C8D4E3\"}, \"line\": {\"color\": \"white\"}}, \"type\": \"table\"}]}, \"layout\": {\"annotationdefaults\": {\"arrowcolor\": \"#2a3f5f\", \"arrowhead\": 0, \"arrowwidth\": 1}, \"coloraxis\": {\"colorbar\": {\"outlinewidth\": 0, \"ticks\": \"\"}}, \"colorscale\": {\"diverging\": [[0, \"#8e0152\"], [0.1, \"#c51b7d\"], [0.2, \"#de77ae\"], [0.3, \"#f1b6da\"], [0.4, \"#fde0ef\"], [0.5, \"#f7f7f7\"], [0.6, \"#e6f5d0\"], [0.7, \"#b8e186\"], [0.8, \"#7fbc41\"], [0.9, \"#4d9221\"], [1, \"#276419\"]], \"sequential\": [[0.0, \"#0d0887\"], [0.1111111111111111, \"#46039f\"], [0.2222222222222222, \"#7201a8\"], [0.3333333333333333, \"#9c179e\"], [0.4444444444444444, \"#bd3786\"], [0.5555555555555556, \"#d8576b\"], [0.6666666666666666, \"#ed7953\"], [0.7777777777777778, \"#fb9f3a\"], [0.8888888888888888, \"#fdca26\"], [1.0, \"#f0f921\"]], \"sequentialminus\": [[0.0, \"#0d0887\"], [0.1111111111111111, \"#46039f\"], [0.2222222222222222, \"#7201a8\"], [0.3333333333333333, \"#9c179e\"], [0.4444444444444444, \"#bd3786\"], [0.5555555555555556, \"#d8576b\"], [0.6666666666666666, \"#ed7953\"], [0.7777777777777778, \"#fb9f3a\"], [0.8888888888888888, \"#fdca26\"], [1.0, \"#f0f921\"]]}, \"colorway\": [\"#636efa\", \"#EF553B\", \"#00cc96\", \"#ab63fa\", \"#FFA15A\", \"#19d3f3\", \"#FF6692\", \"#B6E880\", \"#FF97FF\", \"#FECB52\"], \"font\": {\"color\": \"#2a3f5f\"}, \"geo\": {\"bgcolor\": \"white\", \"lakecolor\": \"white\", \"landcolor\": \"#E5ECF6\", \"showlakes\": true, \"showland\": true, \"subunitcolor\": \"white\"}, \"hoverlabel\": {\"align\": \"left\"}, \"hovermode\": \"closest\", \"mapbox\": {\"style\": \"light\"}, \"paper_bgcolor\": \"white\", \"plot_bgcolor\": \"#E5ECF6\", \"polar\": {\"angularaxis\": {\"gridcolor\": \"white\", \"linecolor\": \"white\", \"ticks\": \"\"}, \"bgcolor\": \"#E5ECF6\", \"radialaxis\": {\"gridcolor\": \"white\", \"linecolor\": \"white\", \"ticks\": \"\"}}, \"scene\": {\"xaxis\": {\"backgroundcolor\": \"#E5ECF6\", \"gridcolor\": \"white\", \"gridwidth\": 2, \"linecolor\": \"white\", \"showbackground\": true, \"ticks\": \"\", \"zerolinecolor\": \"white\"}, \"yaxis\": {\"backgroundcolor\": \"#E5ECF6\", \"gridcolor\": \"white\", \"gridwidth\": 2, \"linecolor\": \"white\", \"showbackground\": true, \"ticks\": \"\", \"zerolinecolor\": \"white\"}, \"zaxis\": {\"backgroundcolor\": \"#E5ECF6\", \"gridcolor\": \"white\", \"gridwidth\": 2, \"linecolor\": \"white\", \"showbackground\": true, \"ticks\": \"\", \"zerolinecolor\": \"white\"}}, \"shapedefaults\": {\"line\": {\"color\": \"#2a3f5f\"}}, \"ternary\": {\"aaxis\": {\"gridcolor\": \"white\", \"linecolor\": \"white\", \"ticks\": \"\"}, \"baxis\": {\"gridcolor\": \"white\", \"linecolor\": \"white\", \"ticks\": \"\"}, \"bgcolor\": \"#E5ECF6\", \"caxis\": {\"gridcolor\": \"white\", \"linecolor\": \"white\", \"ticks\": \"\"}}, \"title\": {\"x\": 0.05}, \"xaxis\": {\"automargin\": true, \"gridcolor\": \"white\", \"linecolor\": \"white\", \"ticks\": \"\", \"title\": {\"standoff\": 15}, \"zerolinecolor\": \"white\", \"zerolinewidth\": 2}, \"yaxis\": {\"automargin\": true, \"gridcolor\": \"white\", \"linecolor\": \"white\", \"ticks\": \"\", \"title\": {\"standoff\": 15}, \"zerolinecolor\": \"white\", \"zerolinewidth\": 2}}}, \"title\": {\"text\": \"Model perfromance in predicting orders\"}, \"xaxis\": {\"title\": {\"text\": \"Time (2017 onwards)\"}}, \"yaxis\": {\"title\": {\"text\": \"Cumulative orders\"}}},\n",
       "                        {\"responsive\": true}\n",
       "                    ).then(function(){\n",
       "                            \n",
       "var gd = document.getElementById('4f90f7ff-5895-4207-9490-440d887cd079');\n",
       "var x = new MutationObserver(function (mutations, observer) {{\n",
       "        var display = window.getComputedStyle(gd).display;\n",
       "        if (!display || display === 'none') {{\n",
       "            console.log([gd, 'removed!']);\n",
       "            Plotly.purge(gd);\n",
       "            observer.disconnect();\n",
       "        }}\n",
       "}});\n",
       "\n",
       "// Listen for the removal of the full notebook cells\n",
       "var notebookContainer = gd.closest('#notebook-container');\n",
       "if (notebookContainer) {{\n",
       "    x.observe(notebookContainer, {childList: true});\n",
       "}}\n",
       "\n",
       "// Listen for the clearing of the current output cell\n",
       "var outputEl = gd.closest('.output');\n",
       "if (outputEl) {{\n",
       "    x.observe(outputEl, {childList: true});\n",
       "}}\n",
       "\n",
       "                        })\n",
       "                };\n",
       "                });\n",
       "            </script>\n",
       "        </div>"
      ]
     },
     "metadata": {},
     "output_type": "display_data"
    }
   ],
   "source": [
    "# Visual plots\n",
    "fig = go.Figure()\n",
    "fig.add_trace(go.Scatter(x=results_df['order_date'], y=results_df['cumulative_orders'],mode='lines',name='Actual'))\n",
    "\n",
    "fig.add_trace(go.Scatter(x=results_df['order_date'], y=results_df['orders_predicted'],\n",
    "                    mode='lines',\n",
    "                    name=' Model'))\n",
    "\n",
    "fig.update_layout(title= 'Model perfromance in predicting orders',\n",
    "    xaxis_title='Time (2017 onwards)',\n",
    "                   yaxis_title='Cumulative orders')\n",
    "fig.show()\n",
    "\n"
   ]
  },
  {
   "cell_type": "markdown",
   "metadata": {},
   "source": [
    "After looking these diagonistic plots it seem like our model is able to predict cumulative orders much better than cumulative revenue which suggest that using heuristic monetary value is not useful and we have to use to model based approach to estimate the CLV."
   ]
  }
 ],
 "metadata": {
  "kernelspec": {
   "display_name": "Python 3",
   "language": "python",
   "name": "python3"
  },
  "language_info": {
   "codemirror_mode": {
    "name": "ipython",
    "version": 3
   },
   "file_extension": ".py",
   "mimetype": "text/x-python",
   "name": "python",
   "nbconvert_exporter": "python",
   "pygments_lexer": "ipython3",
   "version": "3.7.6"
  }
 },
 "nbformat": 4,
 "nbformat_minor": 4
}
